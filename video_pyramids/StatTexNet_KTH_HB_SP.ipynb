{
 "cells": [
  {
   "cell_type": "markdown",
   "id": "21c9fe52-26af-4089-803e-4406a29432f3",
   "metadata": {},
   "source": [
    "# StaTexNet - Network Encoding Statistics for Textures"
   ]
  },
  {
   "cell_type": "markdown",
   "id": "bdc538b7-27ab-46c2-be44-33847dda73a7",
   "metadata": {},
   "source": [
    "## Dependencies & Hyperparameters"
   ]
  },
  {
   "cell_type": "code",
   "execution_count": 1,
   "id": "56e95b17",
   "metadata": {
    "ExecuteTime": {
     "end_time": "2023-07-27T14:44:59.904549200Z",
     "start_time": "2023-07-27T14:44:59.889457100Z"
    },
    "tags": []
   },
   "outputs": [
    {
     "name": "stderr",
     "output_type": "stream",
     "text": [
      "/state/partition1/llgrid/pkg/anaconda/anaconda3-2022b/lib/python3.8/site-packages/scipy/__init__.py:146: UserWarning: A NumPy version >=1.16.5 and <1.23.0 is required for this version of SciPy (detected version 1.23.4\n",
      "  warnings.warn(f\"A NumPy version >={np_minversion} and <{np_maxversion}\"\n",
      "/state/partition1/slurm_tmp/24034617.0.0/ipykernel_1612492/934771875.py:22: DeprecationWarning: the imp module is deprecated in favour of importlib; see the module's documentation for alternative uses\n",
      "  import imp\n"
     ]
    },
    {
     "name": "stdout",
     "output_type": "stream",
     "text": [
      "cuda:0\n"
     ]
    }
   ],
   "source": [
    "import sys\n",
    "sys.path.append('/home/gridsan/ckoevesdi/.local/lib/python3.9/site-packages/')\n",
    "sys.path.append('../')  \n",
    "sys.path.append('../../')  \n",
    "sys.path.append('../../PooledStatisticsMetamers')\n",
    "sys.path.append('../../PyTorchSteerablePyramid')\n",
    "sys.path.append('../Poolstatmetamer_croppedims')\n",
    "\n",
    "import torch\n",
    "import torchvision\n",
    "import torchvision.transforms as transforms\n",
    "import torch.utils.data as data\n",
    "from torch.utils.data import DataLoader\n",
    "import torch.nn as nn\n",
    "import pandas as pd\n",
    "import matplotlib.pyplot as plt\n",
    "import numpy as np\n",
    "\n",
    "from pytorch_metric_learning import losses\n",
    "import utils.statnetencoder as sne\n",
    "import importlib\n",
    "import imp\n",
    "import torch.nn.functional as F\n",
    "\n",
    "sys.path.append('../PyTorchSteerablePyramid/')\n",
    "import steerable\n",
    "import steerable.utils as utils\n",
    "from steerable.SCFpyr_PyTorch import SCFpyr_PyTorch\n",
    "import utils.brucenet as bn\n",
    "import seaborn as sns\n",
    "import matplotlib.pyplot as plt\n",
    "import shap\n",
    "from pytorch_lightning import seed_everything\n",
    "\n",
    "#use GPU 2\n",
    "device = torch.device('cuda:0') if torch.cuda.is_available() else torch.device('cpu')\n",
    "print(device)"
   ]
  },
  {
   "cell_type": "code",
   "execution_count": 2,
   "id": "05c4e543-9ada-4c2e-9904-3a23f68a1378",
   "metadata": {},
   "outputs": [
    {
     "name": "stderr",
     "output_type": "stream",
     "text": [
      "Global seed set to 10\n"
     ]
    },
    {
     "data": {
      "text/plain": [
       "10"
      ]
     },
     "execution_count": 2,
     "metadata": {},
     "output_type": "execute_result"
    }
   ],
   "source": [
    "# Seed everything with a specific seed value\n",
    "seed = 10\n",
    "seed_everything(seed)"
   ]
  },
  {
   "cell_type": "code",
   "execution_count": 3,
   "id": "dfb413b8-72ca-4a7a-b98f-d32cc73b5470",
   "metadata": {
    "ExecuteTime": {
     "end_time": "2023-07-27T14:47:05.643243100Z",
     "start_time": "2023-07-27T14:47:05.619221Z"
    },
    "tags": []
   },
   "outputs": [],
   "source": [
    "#hyperparams\n",
    "batch_size = 1\n",
    "crop_size = 128 \n",
    "num_stats = 150\n",
    "optimizer_type='adam'\n",
    "#optimizer_type='sgd'\n",
    "num_crops = 5 \n",
    "\n"
   ]
  },
  {
   "cell_type": "markdown",
   "id": "1806091f-63d7-4819-ad4e-2ef117a7097d",
   "metadata": {},
   "source": [
    "## Create Dataset and define DataLoader"
   ]
  },
  {
   "cell_type": "code",
   "execution_count": 5,
   "id": "1482b4a6-f29a-4448-be62-51cf8ae7defd",
   "metadata": {
    "ExecuteTime": {
     "end_time": "2023-07-27T15:37:37.244268300Z",
     "start_time": "2023-07-27T15:36:26.383047900Z"
    }
   },
   "outputs": [],
   "source": [
    "from torch.utils.data import Dataset\n",
    "from PIL import Image\n",
    "import os\n",
    "\n",
    "class KTHImageDataset(Dataset):\n",
    "    def __init__(self, root_dir, transform=None):\n",
    "        self.root_dir = root_dir\n",
    "        self.transform = transform\n",
    "        self.samples = []\n",
    "\n",
    "        # Filtering only directories for classes\n",
    "        self.classes = [d for d in os.listdir(root_dir) if os.path.isdir(os.path.join(root_dir, d))]\n",
    "\n",
    "        for label, class_name in enumerate(self.classes):\n",
    "            class_dir = os.path.join(root_dir, class_name)\n",
    "\n",
    "            # Scanning for image files directly in the class folder\n",
    "            for filename in os.listdir(class_dir):\n",
    "                img_path = os.path.join(class_dir, filename)\n",
    "\n",
    "                if os.path.isfile(img_path):  # Checking if it's a file\n",
    "                    self.samples.append((img_path, label))\n",
    "\n",
    "    def __len__(self):\n",
    "        return len(self.samples)\n",
    "\n",
    "    def __getitem__(self, idx):\n",
    "        img_path, label = self.samples[idx]\n",
    "        image = Image.open(img_path).convert(\"RGB\")\n",
    "        \n",
    "        if self.transform:\n",
    "            image = self.transform(image)\n",
    "        \n",
    "        return image, label\n",
    "\n",
    "# Specify transformations\n",
    "loading_transforms = transforms.Compose([\n",
    "    transforms.Grayscale(),\n",
    "    transforms.Resize((200, 200)),\n",
    "    transforms.RandomVerticalFlip(p=0.5),\n",
    "    transforms.RandomHorizontalFlip(p=0.5),\n",
    "    transforms.FiveCrop(size=crop_size), \n",
    "    transforms.Lambda(lambda crops: torch.stack([transforms.ToTensor()(crop) for crop in crops])), # Changed PILToTensor to ToTensor as it's more standard\n",
    "    transforms.ConvertImageDtype(torch.float32)\n",
    "])\n",
    "\n",
    "# Initialize dataset and dataloader\n",
    "sys.path.append('/home/gridsan/ckoevesdi/data_KTH_HB/')\n",
    "\n",
    "root_dir = '/home/gridsan/ckoevesdi/data_KTH_HB/'\n",
    "dataset = KTHImageDataset(root_dir=root_dir, transform=loading_transforms)\n",
    "kth_dataloader = DataLoader(dataset, batch_size=1, shuffle=False)"
   ]
  },
  {
   "cell_type": "code",
   "execution_count": 6,
   "id": "5d800e7a-2310-48a7-a262-d9360b1e7f13",
   "metadata": {
    "tags": []
   },
   "outputs": [
    {
     "name": "stdout",
     "output_type": "stream",
     "text": [
      "Creating solver: pyramid=UBBBBL_6 pooling=WholeImagePooling()\n"
     ]
    },
    {
     "name": "stderr",
     "output_type": "stream",
     "text": [
      "torch.meshgrid: in an upcoming release, it will be required to pass the indexing argument. (Triggered internally at  ../aten/src/ATen/native/TensorShape.cpp:2894.)\n"
     ]
    }
   ],
   "source": [
    "import utils.brucenet as bn\n",
    "brucy = bn.BruceNet(pooling_region_size=1e20, pyramid_params=False, dummy_img = torch.zeros(20,\n",
    "                                     1,\n",
    "                                     128,\n",
    "                                     128)).to(device)"
   ]
  },
  {
   "cell_type": "code",
   "execution_count": 7,
   "id": "6dadb4de-ed7c-41de-bda8-b5391f802ce7",
   "metadata": {},
   "outputs": [],
   "source": [
    "all_statistics = []\n",
    "\n",
    "for j, (texture_batch, labels) in enumerate(kth_dataloader):\n",
    "    # Assuming texture_batch has a shape of [20, 5, 1, 128, 128]\n",
    "    #print(texture_batch.shape)\n",
    "    for i in range(texture_batch.shape[0]):\n",
    "        #print(mini_batch.shape) # Loop over batch\n",
    "        mini_batch = texture_batch[i]  # This should have a shape of [5, 1, 128, 128]\n",
    "        mini_batch = mini_batch.to(device)\n",
    "\n",
    "        # Now you can call brucy, which expects a tensor with shape x,1,128,128 where x > 1\n",
    "        statistics = brucy(mini_batch)  # This should output a tensor of shape [5, num_stats]\n",
    "        \n",
    "        # You can now store these statistics, along with the label and original image index\n",
    "        all_statistics.append({\n",
    "            'statistics': statistics.cpu().numpy(),\n",
    "            #'label': labels[i].item(),\n",
    "            'original_image_index': j * texture_batch.shape[0] + i\n",
    "        })\n",
    "\n"
   ]
  },
  {
   "cell_type": "code",
   "execution_count": 8,
   "id": "40e4ed30-95d8-445f-b258-b20b5c85886d",
   "metadata": {
    "tags": []
   },
   "outputs": [],
   "source": [
    "from sklearn.preprocessing import StandardScaler\n",
    "from sklearn.preprocessing import MinMaxScaler\n",
    "# Convert the list of dictionaries to a NumPy array or PyTorch tensor\n",
    "statistics_array = np.array([item['statistics'] for item in all_statistics])\n",
    "#print(statistics_array.shape)\n",
    "labels_array = np.array([item['original_image_index'] for item in all_statistics])\n",
    "# Standardize\n",
    "scaler = StandardScaler()\n",
    "\n",
    "reshaped_array = statistics_array.reshape(-1,num_stats)\n",
    "#print(reshaped_array.shape)\n",
    "scaled_array = scaler.fit_transform(reshaped_array)\n",
    "\n",
    "statistics_array = scaled_array.reshape(len(dataset), 5, num_stats)\n",
    "statistics_tensor = torch.tensor(statistics_array, dtype=torch.float32)\n",
    "labels_tensor = torch.tensor(labels_array, dtype=torch.long)\n"
   ]
  },
  {
   "cell_type": "code",
   "execution_count": 9,
   "id": "f2a89b2f-9368-42e1-82ff-275ea700a433",
   "metadata": {},
   "outputs": [],
   "source": [
    "ostat_labels = ['mean', 'variance', 'bandpass_variance 0', 'variance 1', 'skew 1', 'kurtosis 1', 'variance 2', 'skew 2', 'kurtosis 2', 'variance 3', 'skew 3', 'kurtosis 3', 'variance 4', 'skew 4', 'kurtosis 4', 'variance 5', 'skew 5', 'kurtosis 5', 'edge_mean 1 0', 'edge_variance 1 0', 'edge_correlation (1, 2) 0', 'edge_stop 1 0', 'edge_mean 1 1', 'edge_variance 1 1', 'edge_correlation (1, 2) 1', 'edge_stop 1 1', 'edge_mean 1 2', 'edge_variance 1 2', 'edge_correlation (1, 2) 2', 'edge_stop 1 2', 'edge_mean 1 3', 'edge_variance 1 3', 'edge_correlation (1, 2) 3', 'edge_stop 1 3', 'edge_correlation 1 (0, 1)', 'edge_correlation 1 (0, 2)', 'edge_correlation 1 (0, 3)', 'edge_correlation 1 (1, 2)', 'edge_correlation 1 (1, 3)', 'edge_correlation 1 (2, 3)', 'edge_mean 2 0', 'edge_variance 2 0', 'edge_correlation (2, 3) 0', 'edge_stop 2 0', 'edge_mean 2 1', 'edge_variance 2 1', 'edge_correlation (2, 3) 1', 'edge_stop 2 1', 'edge_mean 2 2', 'edge_variance 2 2', 'edge_correlation (2, 3) 2', 'edge_stop 2 2', 'edge_mean 2 3', 'edge_variance 2 3', 'edge_correlation (2, 3) 3', 'edge_stop 2 3', 'edge_correlation 2 (0, 1)', 'edge_correlation 2 (0, 2)', 'edge_correlation 2 (0, 3)', 'edge_correlation 2 (1, 2)', 'edge_correlation 2 (1, 3)', 'edge_correlation 2 (2, 3)', 'edge_mean 3 0', 'edge_variance 3 0', 'edge_correlation (3, 4) 0', 'edge_stop 3 0', 'edge_mean 3 1', 'edge_variance 3 1', 'edge_correlation (3, 4) 1', 'edge_stop 3 1', 'edge_mean 3 2', 'edge_variance 3 2', 'edge_correlation (3, 4) 2', 'edge_stop 3 2', 'edge_mean 3 3', 'edge_variance 3 3', 'edge_correlation (3, 4) 3', 'edge_stop 3 3', 'edge_correlation 3 (0, 1)', 'edge_correlation 3 (0, 2)', 'edge_correlation 3 (0, 3)', 'edge_correlation 3 (1, 2)', 'edge_correlation 3 (1, 3)', 'edge_correlation 3 (2, 3)', 'edge_mean 4 0', 'edge_variance 4 0', 'edge_stop 4 0', 'edge_mean 4 1', 'edge_variance 4 1', 'edge_stop 4 1', 'edge_mean 4 2', 'edge_variance 4 2', 'edge_stop 4 2', 'edge_mean 4 3', 'edge_variance 4 3', 'edge_stop 4 3', 'edge_correlation 4 (0, 1)', 'edge_correlation 4 (0, 2)', 'edge_correlation 4 (0, 3)', 'edge_correlation 4 (1, 2)', 'edge_correlation 4 (1, 3)', 'edge_correlation 4 (2, 3)', 'phase_correlation 1 er (0, 1)', 'phase_correlation 1 er (0, 2)', 'phase_correlation 1 er (0, 3)', 'phase_correlation 1 er (1, 2)', 'phase_correlation 1 er (1, 3)', 'phase_correlation 1 er (2, 3)', 'phase_correlation (1, 2) ei*di 0', 'phase_correlation (1, 2) er*di 0', 'phase_correlation (1, 2) ei*di 1', 'phase_correlation (1, 2) er*di 1', 'phase_correlation (1, 2) ei*di 2', 'phase_correlation (1, 2) er*di 2', 'phase_correlation (1, 2) ei*di 3', 'phase_correlation (1, 2) er*di 3', 'phase_correlation 2 er (0, 1)', 'phase_correlation 2 er (0, 2)', 'phase_correlation 2 er (0, 3)', 'phase_correlation 2 er (1, 2)', 'phase_correlation 2 er (1, 3)', 'phase_correlation 2 er (2, 3)', 'phase_correlation (2, 3) ei*di 0', 'phase_correlation (2, 3) er*di 0', 'phase_correlation (2, 3) ei*di 1', 'phase_correlation (2, 3) er*di 1', 'phase_correlation (2, 3) ei*di 2', 'phase_correlation (2, 3) er*di 2', 'phase_correlation (2, 3) ei*di 3', 'phase_correlation (2, 3) er*di 3', 'phase_correlation 3 er (0, 1)', 'phase_correlation 3 er (0, 2)', 'phase_correlation 3 er (0, 3)', 'phase_correlation 3 er (1, 2)', 'phase_correlation 3 er (1, 3)', 'phase_correlation 3 er (2, 3)', 'phase_correlation (3, 4) ei*di 0', 'phase_correlation (3, 4) er*di 0', 'phase_correlation (3, 4) ei*di 1', 'phase_correlation (3, 4) er*di 1', 'phase_correlation (3, 4) ei*di 2', 'phase_correlation (3, 4) er*di 2', 'phase_correlation (3, 4) ei*di 3', 'phase_correlation (3, 4) er*di 3', 'phase_correlation 4 er (0, 1)', 'phase_correlation 4 er (0, 2)', 'phase_correlation 4 er (0, 3)', 'phase_correlation 4 er (1, 2)', 'phase_correlation 4 er (1, 3)', 'phase_correlation 4 er (2, 3)']"
   ]
  },
  {
   "cell_type": "code",
   "execution_count": 10,
   "id": "e9a4549d-1101-4445-847e-f7e24f603433",
   "metadata": {},
   "outputs": [],
   "source": [
    "from torch.utils.data import Dataset, DataLoader\n",
    "\n",
    "class StatisticsDataset(Dataset):\n",
    "    def __init__(self, statistics_tensor, labels_tensor):\n",
    "        self.statistics = statistics_tensor\n",
    "        self.labels = labels_tensor\n",
    "    \n",
    "    def __len__(self):\n",
    "        return len(self.labels)\n",
    "    \n",
    "    def __getitem__(self, idx):\n",
    "        return self.statistics[idx], self.labels[idx]\n",
    "\n",
    "# Create the dataset object\n",
    "statistics_dataset = StatisticsDataset(statistics_tensor, labels_tensor)\n"
   ]
  },
  {
   "cell_type": "code",
   "execution_count": 11,
   "id": "2b90457e-98eb-429e-8ffd-b4fd23f39354",
   "metadata": {
    "tags": []
   },
   "outputs": [],
   "source": [
    "#Create the DataLoader object first\n",
    "batches = 100\n",
    "statistics_dataloader = DataLoader(statistics_dataset, batch_size=batches, shuffle=True)\n",
    "\n",
    "# Loop through a couple of batches\n",
    "if(False):\n",
    "    for i, (stats_batch, label_batch) in enumerate(statistics_dataloader):\n",
    "        if i > 1:  # We only want to look at a couple of batches\n",
    "            break\n",
    "\n",
    "        print(f\"Batch {i + 1}\")\n",
    "\n",
    "        # Dimensionality Check\n",
    "        print(\"Statistics Batch Shape:\", stats_batch.shape)  \n",
    "        print(\"Label Batch Shape:\", label_batch.shape)\n",
    "\n",
    "        # Data Type Check\n",
    "        print(\"Statistics Data Type:\", stats_batch.dtype)\n",
    "        print(\"Label Data Type:\", label_batch.dtype)\n",
    "\n",
    "        # Label Consistency (and value preview)\n",
    "        print(\"Statistics:\", stats_batch)\n",
    "        print(\"Labels:\", label_batch)\n"
   ]
  },
  {
   "cell_type": "markdown",
   "id": "fe8dbd4b-3790-486c-a083-2c35384a6cca",
   "metadata": {},
   "source": [
    "## Training"
   ]
  },
  {
   "cell_type": "code",
   "execution_count": 12,
   "id": "163668c0-c687-497b-99a0-7a3b80fcfee9",
   "metadata": {},
   "outputs": [
    {
     "name": "stdout",
     "output_type": "stream",
     "text": [
      "EmbeddingModel(\n",
      "  (layer1): Linear(in_features=150, out_features=50, bias=True)\n",
      ")\n"
     ]
    }
   ],
   "source": [
    "### Try with a single layer for the original approach\n",
    "\n",
    "class EmbeddingModel(nn.Module):\n",
    "    def __init__(self):\n",
    "        super(EmbeddingModel, self).__init__()\n",
    "        self.layer1 = nn.Linear(num_stats, 50)\n",
    "        \n",
    "    def forward(self, x):\n",
    "        x = self.layer1(x)\n",
    "        return x\n",
    "\n",
    "model = EmbeddingModel()\n",
    "model.to(device)\n",
    "print(model)"
   ]
  },
  {
   "cell_type": "code",
   "execution_count": 13,
   "id": "0ae8173a-86d4-4955-b8d7-ed603cdb5491",
   "metadata": {},
   "outputs": [],
   "source": [
    "from pytorch_lightning import seed_everything\n",
    "import pickle\n",
    "\n",
    "# 1. Load previously computed results if they exist\n",
    "try:\n",
    "    with open('feature_rankings_KTH_HB_weight.pkl', 'rb') as file:\n",
    "        all_rankings_weight = pickle.load(file)\n",
    "except FileNotFoundError:\n",
    "    all_rankings_weight = {}\n",
    "\n",
    "try:\n",
    "    with open('feature_rankings_KTH_HB_shapley.pkl', 'rb') as file:\n",
    "        all_rankings_shapley = pickle.load(file)\n",
    "except FileNotFoundError:\n",
    "    all_rankings_shapley = {}\n"
   ]
  },
  {
   "cell_type": "code",
   "execution_count": 14,
   "id": "5821b4ab-44ec-4869-8ee6-05391a51946b",
   "metadata": {},
   "outputs": [
    {
     "name": "stdout",
     "output_type": "stream",
     "text": [
      "EmbeddingModel(\n",
      "  (layer1): Linear(in_features=150, out_features=50, bias=True)\n",
      "  (dropout): Dropout(p=0.5, inplace=False)\n",
      ")\n"
     ]
    }
   ],
   "source": [
    "### Try with a single layer with dropout\n",
    "\n",
    "class EmbeddingModel(nn.Module):\n",
    "    def __init__(self):\n",
    "        super(EmbeddingModel, self).__init__()\n",
    "        self.layer1 = nn.Linear(num_stats, 50)\n",
    "        self.dropout = nn.Dropout(p=0.5)\n",
    "        \n",
    "    def forward(self, x):\n",
    "        x = self.layer1(self.dropout(x))\n",
    "        return x\n",
    "\n",
    "model = EmbeddingModel()\n",
    "model.to(device)\n",
    "print(model)"
   ]
  },
  {
   "cell_type": "code",
   "execution_count": 15,
   "id": "2635e09e-c2c6-46dd-a68a-da64bf57ffc4",
   "metadata": {},
   "outputs": [],
   "source": [
    "loss_func_contrastive = losses.GeneralizedLiftedStructureLoss()\n",
    "optimizer = torch.optim.Adam(model.parameters(), lr=0.0001)\n",
    "training_loss = []\n",
    "\n",
    "num_epochs = 200\n",
    "num_total_epochs = 0\n",
    "model.train() # Set model to training mode\n",
    "optimizer.zero_grad()\n",
    "model.zero_grad()\n"
   ]
  },
  {
   "cell_type": "code",
   "execution_count": 16,
   "id": "b6c21420-7727-4c7e-b7b2-6f347700abb9",
   "metadata": {
    "tags": []
   },
   "outputs": [
    {
     "name": "stdout",
     "output_type": "stream",
     "text": [
      "Starting Training:\n",
      "*Finished Epoch 0. Loss at 8.192861557006836.\n",
      "*Finished Epoch 10. Loss at 7.821218013763428.\n",
      "*Finished Epoch 20. Loss at 7.736703395843506.\n",
      "*Finished Epoch 30. Loss at 7.684176921844482.\n",
      "*Finished Epoch 40. Loss at 7.645663261413574.\n",
      "*Finished Epoch 50. Loss at 7.661810874938965.\n",
      "*Finished Epoch 60. Loss at 7.643643856048584.\n",
      "*Finished Epoch 70. Loss at 7.706502914428711.\n",
      "*Finished Epoch 80. Loss at 7.668612480163574.\n",
      "*Finished Epoch 90. Loss at 7.649469375610352.\n",
      "*Finished Epoch 100. Loss at 7.684382915496826.\n",
      "*Finished Epoch 110. Loss at 7.6716814041137695.\n",
      "*Finished Epoch 120. Loss at 7.715213298797607.\n",
      "*Finished Epoch 130. Loss at 7.6583075523376465.\n",
      "*Finished Epoch 140. Loss at 7.6492719650268555.\n",
      "*Finished Epoch 150. Loss at 7.680509567260742.\n",
      "*Finished Epoch 160. Loss at 7.702870845794678.\n",
      "*Finished Epoch 170. Loss at 7.6620049476623535.\n",
      "*Finished Epoch 180. Loss at 7.628328800201416.\n",
      "*Finished Epoch 190. Loss at 7.68393087387085.\n",
      "All Done!\n",
      "--- 33.36036682128906 seconds ---\n"
     ]
    }
   ],
   "source": [
    "import time\n",
    "start_time = time.time()\n",
    "print('Starting Training:')\n",
    "for i, epoch in enumerate(range(num_epochs)):\n",
    "    for stats_batch, label_batch in statistics_dataloader:\n",
    "        optimizer.zero_grad()\n",
    "\n",
    "        #grab texture batch and generate matching labels\n",
    "        stats_batch = stats_batch.to(device)\n",
    "        if stats_batch.shape[0] < batches:\n",
    "            continue \n",
    "        stats_batch_2 = torch.flatten(stats_batch, start_dim=0, end_dim=1)\n",
    "\n",
    "        texture_labels = torch.repeat_interleave(torch.arange(batches),num_crops).to(device)\n",
    "\n",
    "        stats_vector = model(stats_batch_2)\n",
    "        #loss definitions\n",
    "        loss = loss_func_contrastive(stats_vector, texture_labels)\n",
    "        \n",
    "        loss.backward()\n",
    "        optimizer.step()\n",
    "\n",
    "        if(j==1000):\n",
    "            break; \n",
    "        training_loss.append(loss.item())\n",
    "        \n",
    "    if(i%10==0):\n",
    "        print('*',end='')\n",
    "        print((f'Finished Epoch {i}. Loss at {loss}.'))\n",
    "    num_total_epochs = num_total_epochs + 1\n",
    "\n",
    "print('All Done!')\n",
    "print(\"--- %s seconds ---\" % (time.time() - start_time))\n",
    "torch.save(model.state_dict(), 'contrastive_model_HB_KTH.pth')"
   ]
  },
  {
   "cell_type": "markdown",
   "id": "6059aed6-52d5-40b5-9584-f9aa536da436",
   "metadata": {},
   "source": [
    "## Weight selection"
   ]
  },
  {
   "cell_type": "code",
   "execution_count": 17,
   "id": "2a29cedb-01e4-4581-bfc3-a9fbad7d979d",
   "metadata": {},
   "outputs": [
    {
     "data": {
      "text/plain": [
       "<matplotlib.colorbar.Colorbar at 0x7f2b1c5a82b0>"
      ]
     },
     "execution_count": 17,
     "metadata": {},
     "output_type": "execute_result"
    },
    {
     "data": {
      "image/png": "[encoded data removed]",
      "text/plain": [
       "<Figure size 1000x500 with 2 Axes>"
      ]
     },
     "metadata": {},
     "output_type": "display_data"
    }
   ],
   "source": [
    "#Get the weights of the network\n",
    "weights_layer1 = model.layer1.weight.data\n",
    "\n",
    "# Converting the tensor to a NumPy array\n",
    "compressor_mat = weights_layer1.cpu().numpy()\n",
    "\n",
    "plt.figure(figsize=(10,5))\n",
    "plt.imshow(compressor_mat)\n",
    "plt.colorbar()\n"
   ]
  },
  {
   "cell_type": "code",
   "execution_count": 18,
   "id": "f63b8a49-97ff-4c8c-ade5-68f50ff17b25",
   "metadata": {
    "tags": []
   },
   "outputs": [],
   "source": [
    "stat_sums = np.sum(np.abs(compressor_mat),axis=0) #how weighted is each of the 150 stats?\n",
    "\n",
    "stat_index_array = np.argsort(stat_sums)[::-1] #get their importance order\n",
    "\n",
    "# Save the current seed's rankings\n",
    "all_rankings_weight[seed] = list(stat_index_array)\n",
    "\n",
    "# Persist the results\n",
    "with open('feature_rankings_KTH_HB_weight.pkl', 'wb') as file:\n",
    "    pickle.dump(all_rankings_weight, file)"
   ]
  },
  {
   "cell_type": "markdown",
   "id": "daa3530c-3ac3-4e73-855c-88505a552d72",
   "metadata": {},
   "source": [
    "## Shapley selection"
   ]
  },
  {
   "cell_type": "code",
   "execution_count": 19,
   "id": "ae61ca9c-8fd5-406e-8457-dea6ce537aff",
   "metadata": {},
   "outputs": [
    {
     "name": "stdout",
     "output_type": "stream",
     "text": [
      "torch.Size([1, 150])\n",
      "torch.Size([100, 5, 150])\n"
     ]
    },
    {
     "data": {
      "application/vnd.jupyter.widget-view+json": {
       "model_id": "6552648dd1f04ab4ab16f8bbc35d0f53",
       "version_major": 2,
       "version_minor": 0
      },
      "text/plain": [
       "  0%|          | 0/1 [00:00<?, ?it/s]"
      ]
     },
     "metadata": {},
     "output_type": "display_data"
    },
    {
     "name": "stdout",
     "output_type": "stream",
     "text": [
      "torch.Size([1, 150])\n",
      "torch.Size([100, 5, 150])\n",
      "torch.Size([2348, 150])\n",
      "torch.Size([100, 5, 150])\n"
     ]
    }
   ],
   "source": [
    "import shap\n",
    "\n",
    "model = model.eval().cpu()\n",
    "\n",
    "def sim_func(mask):\n",
    "    with torch.no_grad():\n",
    "\n",
    "        mask = torch.tensor(mask).to(torch.float32)\n",
    "\n",
    "        print(mask.shape)\n",
    "        stats = stats_batch_2.reshape(batches, num_crops, num_stats).cpu()\n",
    "        print(stats.shape)\n",
    "        d, c2 = mask.shape\n",
    "        assert num_stats == c2\n",
    "        masked_stats = (torch.einsum(\"bnc,dc->bdnc\", stats, mask)\n",
    "                        .reshape(batches * d * num_crops, num_stats))\n",
    "\n",
    "        embs = (model\n",
    "                .forward(masked_stats)\n",
    "                .reshape(batches, d, num_crops, -1))\n",
    "\n",
    "        return (torch.einsum(\"bdnc,bdmc->bdnm\", embs, embs)\n",
    "                .mean(dim=[0, 2, 3])\n",
    "                .unsqueeze(-1).numpy())\n",
    "\n",
    "reference = np.zeros((1, num_stats))\n",
    "input = np.ones((1, num_stats))\n",
    "explainer = shap.KernelExplainer(\n",
    "    sim_func,\n",
    "    reference\n",
    ")\n",
    "\n",
    "shap_values = np.abs(explainer.shap_values(input)[0].squeeze())"
   ]
  },
  {
   "cell_type": "code",
   "execution_count": 20,
   "id": "02a773e4-5890-4896-ad5e-085e8b2f42e2",
   "metadata": {},
   "outputs": [],
   "source": [
    "# Sorting the indices based on the shap values\n",
    "sorted_indices = np.argsort(shap_values)[::-1]\n",
    "\n",
    "# Save the current seed's rankings\n",
    "all_rankings_shapley[seed] = list(sorted_indices)\n",
    "\n",
    "# Persist the results\n",
    "with open('feature_rankings_KTH_HB_shapley.pkl', 'wb') as file:\n",
    "    pickle.dump(all_rankings_shapley, file)\n"
   ]
  },
  {
   "cell_type": "markdown",
   "id": "938a9ef9-edbd-4a24-9270-84b6f6e35dcf",
   "metadata": {},
   "source": [
    "## Compute average feature rank\n",
    "After running for several seeds, we now can compute the average ranks"
   ]
  },
  {
   "cell_type": "markdown",
   "id": "5b0b1d7b-c381-47a5-a521-e279ad8a359c",
   "metadata": {},
   "source": [
    "### Compute for shapley"
   ]
  },
  {
   "cell_type": "code",
   "execution_count": 21,
   "id": "c456f1a6-2766-4bb6-90ce-7e232bab3544",
   "metadata": {
    "tags": []
   },
   "outputs": [
    {
     "name": "stdout",
     "output_type": "stream",
     "text": [
      "edge_variance 1 1: 0.00\n",
      "skew 5: 1.00\n",
      "edge_variance 1 3: 2.00\n",
      "bandpass_variance 0: 3.00\n",
      "phase_correlation 1 er (2, 3): 4.00\n",
      "skew 3: 5.00\n",
      "edge_correlation (2, 3) 3: 6.00\n",
      "skew 4: 7.00\n",
      "edge_correlation 1 (1, 3): 8.00\n",
      "edge_mean 2 1: 9.00\n",
      "edge_correlation (1, 2) 2: 10.00\n",
      "variance 3: 11.00\n",
      "edge_correlation (1, 2) 3: 12.00\n",
      "kurtosis 5: 13.00\n",
      "edge_correlation 1 (0, 2): 14.00\n",
      "edge_stop 1 3: 15.00\n",
      "edge_correlation 1 (1, 2): 16.00\n",
      "variance: 17.00\n",
      "skew 1: 18.00\n",
      "edge_stop 1 2: 19.00\n",
      "phase_correlation 1 er (1, 2): 20.00\n",
      "edge_correlation 1 (0, 3): 21.00\n",
      "edge_correlation 3 (0, 2): 22.00\n",
      "edge_mean 3 1: 23.00\n",
      "edge_correlation (1, 2) 1: 24.00\n",
      "edge_correlation 3 (1, 3): 25.00\n",
      "edge_mean 1 3: 26.00\n",
      "kurtosis 2: 27.00\n",
      "edge_stop 2 2: 28.00\n",
      "edge_mean 1 1: 29.00\n",
      "edge_variance 3 3: 30.00\n",
      "edge_correlation (3, 4) 3: 31.00\n",
      "edge_stop 1 0: 32.00\n",
      "edge_mean 3 3: 33.00\n",
      "edge_stop 1 1: 34.00\n",
      "skew 2: 35.00\n",
      "edge_correlation 2 (0, 2): 36.00\n",
      "kurtosis 3: 37.00\n",
      "edge_stop 2 3: 38.00\n",
      "variance 2: 39.00\n",
      "edge_mean 4 3: 40.00\n",
      "kurtosis 4: 41.00\n",
      "edge_variance 1 2: 42.00\n",
      "edge_variance 2 1: 43.00\n",
      "edge_correlation (2, 3) 1: 44.00\n",
      "edge_correlation 3 (1, 2): 45.00\n",
      "edge_correlation 3 (0, 3): 46.00\n",
      "edge_mean 2 3: 47.00\n",
      "variance 5: 48.00\n",
      "variance 1: 49.00\n",
      "edge_correlation 1 (2, 3): 50.00\n",
      "edge_correlation 2 (1, 3): 51.00\n",
      "phase_correlation 1 er (0, 3): 52.00\n",
      "kurtosis 1: 53.00\n",
      "edge_correlation 2 (2, 3): 54.00\n",
      "edge_variance 3 2: 55.00\n",
      "variance 4: 56.00\n",
      "edge_variance 3 1: 57.00\n",
      "edge_stop 2 0: 58.00\n",
      "edge_stop 3 2: 59.00\n",
      "edge_stop 3 0: 60.00\n",
      "edge_mean 1 0: 61.00\n",
      "edge_correlation 2 (0, 1): 62.00\n",
      "edge_correlation (3, 4) 1: 63.00\n",
      "edge_variance 1 0: 64.00\n",
      "edge_correlation 2 (0, 3): 65.00\n",
      "edge_correlation (1, 2) 0: 66.00\n",
      "edge_mean 2 0: 67.00\n",
      "edge_variance 2 3: 68.00\n",
      "edge_mean 4 1: 69.00\n",
      "edge_correlation 4 (1, 3): 70.00\n",
      "phase_correlation 2 er (2, 3): 71.00\n",
      "edge_correlation 2 (1, 2): 72.00\n",
      "edge_correlation 3 (0, 1): 73.00\n",
      "edge_mean 3 2: 74.00\n",
      "edge_correlation 3 (2, 3): 75.00\n",
      "edge_stop 2 1: 76.00\n",
      "phase_correlation 2 er (0, 1): 77.00\n",
      "edge_variance 4 3: 78.00\n",
      "edge_variance 4 1: 79.00\n",
      "edge_mean 2 2: 80.00\n",
      "phase_correlation 1 er (0, 1): 81.00\n",
      "edge_stop 3 3: 82.00\n",
      "edge_correlation (2, 3) 0: 83.00\n",
      "edge_variance 2 2: 84.00\n",
      "edge_mean 1 2: 85.00\n",
      "phase_correlation 3 er (0, 3): 86.00\n",
      "edge_mean 4 0: 87.00\n",
      "edge_correlation (2, 3) 2: 88.00\n",
      "phase_correlation 2 er (1, 2): 89.00\n",
      "edge_correlation 1 (0, 1): 90.00\n",
      "phase_correlation 4 er (2, 3): 91.00\n",
      "edge_variance 3 0: 92.00\n",
      "edge_variance 2 0: 93.00\n",
      "edge_stop 3 1: 94.00\n",
      "phase_correlation 3 er (2, 3): 95.00\n",
      "phase_correlation 2 er (0, 3): 96.00\n",
      "edge_correlation 4 (0, 2): 97.00\n",
      "phase_correlation 3 er (0, 1): 98.00\n",
      "phase_correlation 3 er (1, 2): 99.00\n",
      "edge_correlation 4 (2, 3): 100.00\n",
      "edge_correlation 4 (0, 1): 101.00\n",
      "edge_mean 4 2: 102.00\n",
      "mean: 103.00\n",
      "phase_correlation (1, 2) er*di 2: 104.00\n",
      "phase_correlation (3, 4) ei*di 3: 105.00\n",
      "phase_correlation 4 er (0, 1): 106.00\n",
      "edge_correlation 4 (1, 2): 107.00\n",
      "edge_mean 3 0: 108.00\n",
      "phase_correlation (3, 4) er*di 1: 109.00\n",
      "edge_correlation (3, 4) 0: 110.00\n",
      "phase_correlation 4 er (0, 2): 111.00\n",
      "phase_correlation (3, 4) er*di 3: 112.00\n",
      "phase_correlation (1, 2) er*di 3: 113.00\n",
      "phase_correlation (2, 3) er*di 3: 114.00\n",
      "phase_correlation (1, 2) ei*di 0: 115.00\n",
      "edge_variance 4 2: 116.00\n",
      "edge_correlation 4 (0, 3): 117.00\n",
      "edge_stop 4 1: 118.00\n",
      "phase_correlation (1, 2) er*di 0: 119.00\n",
      "edge_correlation (3, 4) 2: 120.00\n",
      "edge_variance 4 0: 121.00\n",
      "phase_correlation (2, 3) er*di 0: 122.00\n",
      "phase_correlation (2, 3) er*di 1: 123.00\n",
      "phase_correlation (2, 3) ei*di 3: 124.00\n",
      "phase_correlation 4 er (1, 2): 125.00\n",
      "edge_stop 4 3: 126.00\n",
      "phase_correlation (1, 2) ei*di 2: 127.00\n",
      "phase_correlation 4 er (0, 3): 128.00\n",
      "phase_correlation 3 er (1, 3): 129.00\n",
      "phase_correlation (3, 4) ei*di 0: 130.00\n",
      "phase_correlation (3, 4) ei*di 2: 131.00\n",
      "phase_correlation (3, 4) er*di 2: 132.00\n",
      "phase_correlation (3, 4) ei*di 1: 133.00\n",
      "phase_correlation (3, 4) er*di 0: 134.00\n",
      "phase_correlation 4 er (1, 3): 135.00\n",
      "phase_correlation (2, 3) er*di 2: 136.00\n",
      "phase_correlation 3 er (0, 2): 137.00\n",
      "edge_stop 4 0: 138.00\n",
      "phase_correlation (2, 3) ei*di 2: 139.00\n",
      "phase_correlation (2, 3) ei*di 1: 140.00\n",
      "phase_correlation (2, 3) ei*di 0: 141.00\n",
      "phase_correlation 2 er (1, 3): 142.00\n",
      "phase_correlation (1, 2) ei*di 3: 143.00\n",
      "edge_stop 4 2: 144.00\n",
      "phase_correlation (1, 2) er*di 1: 145.00\n",
      "phase_correlation (1, 2) ei*di 1: 146.00\n",
      "phase_correlation 1 er (1, 3): 147.00\n",
      "phase_correlation 1 er (0, 2): 148.00\n",
      "phase_correlation 2 er (0, 2): 149.00\n"
     ]
    }
   ],
   "source": [
    "with open('feature_rankings_KTH_HB_shapley.pkl', 'rb') as file:\n",
    "    loaded_rankings = pickle.load(file)\n",
    "\n",
    "# Initialize a dictionary to store summed ranks for each feature\n",
    "summed_ranks = {feature: 0 for feature in range(150)}\n",
    "\n",
    "# Sum the ranks for each feature across seeds\n",
    "for seed, rankings in loaded_rankings.items():\n",
    "    for rank, feature in enumerate(rankings):\n",
    "        summed_ranks[feature] += rank\n",
    "\n",
    "# Compute the average rank for each feature\n",
    "average_ranks = {feature: total_rank/len(loaded_rankings) for feature, total_rank in summed_ranks.items()}\n",
    "\n",
    "# Sort the features based on their average ranks\n",
    "sorted_avg_ranks = sorted(average_ranks.items(), key=lambda x: x[1])\n",
    "\n",
    "# Print the sorted features along with their labels\n",
    "for feature, avg_rank in sorted_avg_ranks:\n",
    "    label = ostat_labels[feature]\n",
    "    print(f\"{label}: {avg_rank:.2f}\")\n",
    "\n",
    "# Save averaged ranks to a new pickle file\n",
    "with open('averaged_feature_rankings_KTH_HB_shapley.pkl', 'wb') as file:\n",
    "    pickle.dump(average_ranks, file)\n"
   ]
  },
  {
   "cell_type": "markdown",
   "id": "fd40bd6c-757f-44b8-8248-6cf5ecc811fa",
   "metadata": {},
   "source": [
    "### Compute for weight"
   ]
  },
  {
   "cell_type": "code",
   "execution_count": 22,
   "id": "f96cefed-1495-433b-b8f0-445f4bab2c0a",
   "metadata": {
    "tags": []
   },
   "outputs": [
    {
     "name": "stdout",
     "output_type": "stream",
     "text": [
      "variance: 0.00\n",
      "skew 2: 1.00\n",
      "skew 3: 2.00\n",
      "skew 1: 3.00\n",
      "kurtosis 5: 4.00\n",
      "kurtosis 4: 5.00\n",
      "variance 1: 6.00\n",
      "skew 4: 7.00\n",
      "kurtosis 3: 8.00\n",
      "variance 2: 9.00\n",
      "edge_stop 4 2: 10.00\n",
      "skew 5: 11.00\n",
      "variance 3: 12.00\n",
      "variance 4: 13.00\n",
      "variance 5: 14.00\n",
      "kurtosis 2: 15.00\n",
      "edge_stop 4 0: 16.00\n",
      "mean: 17.00\n",
      "kurtosis 1: 18.00\n",
      "edge_stop 3 2: 19.00\n",
      "edge_mean 3 1: 20.00\n",
      "edge_mean 1 3: 21.00\n",
      "edge_mean 3 3: 22.00\n",
      "edge_correlation 1 (1, 3): 23.00\n",
      "edge_mean 4 3: 24.00\n",
      "edge_mean 1 1: 25.00\n",
      "edge_correlation 1 (0, 2): 26.00\n",
      "edge_mean 4 1: 27.00\n",
      "edge_stop 1 3: 28.00\n",
      "edge_variance 1 3: 29.00\n",
      "edge_correlation 3 (0, 2): 30.00\n",
      "edge_correlation 1 (0, 1): 31.00\n",
      "edge_correlation 1 (0, 3): 32.00\n",
      "edge_stop 3 0: 33.00\n",
      "edge_variance 1 1: 34.00\n",
      "edge_stop 1 0: 35.00\n",
      "edge_stop 1 1: 36.00\n",
      "edge_correlation (3, 4) 1: 37.00\n",
      "edge_mean 1 0: 38.00\n",
      "edge_correlation 1 (2, 3): 39.00\n",
      "phase_correlation 1 er (0, 3): 40.00\n",
      "bandpass_variance 0: 41.00\n",
      "edge_correlation (3, 4) 3: 42.00\n",
      "edge_correlation 1 (1, 2): 43.00\n",
      "edge_variance 3 3: 44.00\n",
      "edge_variance 1 0: 45.00\n",
      "edge_variance 4 3: 46.00\n",
      "phase_correlation 1 er (0, 1): 47.00\n",
      "edge_variance 4 1: 48.00\n",
      "edge_mean 2 1: 49.00\n",
      "edge_mean 3 2: 50.00\n",
      "edge_variance 3 1: 51.00\n",
      "edge_correlation 3 (1, 2): 52.00\n",
      "edge_correlation (1, 2) 1: 53.00\n",
      "edge_correlation 3 (1, 3): 54.00\n",
      "edge_correlation (1, 2) 3: 55.00\n",
      "edge_mean 2 3: 56.00\n",
      "edge_correlation 4 (1, 3): 57.00\n",
      "phase_correlation 1 er (1, 2): 58.00\n",
      "edge_mean 1 2: 59.00\n",
      "edge_correlation 4 (0, 2): 60.00\n",
      "edge_correlation (1, 2) 0: 61.00\n",
      "edge_correlation 3 (2, 3): 62.00\n",
      "phase_correlation 1 er (2, 3): 63.00\n",
      "edge_stop 1 2: 64.00\n",
      "edge_correlation (2, 3) 1: 65.00\n",
      "edge_variance 1 2: 66.00\n",
      "edge_correlation (2, 3) 3: 67.00\n",
      "phase_correlation 1 er (1, 3): 68.00\n",
      "edge_stop 3 3: 69.00\n",
      "edge_correlation 4 (0, 3): 70.00\n",
      "edge_stop 2 3: 71.00\n",
      "edge_correlation 2 (0, 2): 72.00\n",
      "edge_correlation 3 (0, 1): 73.00\n",
      "edge_correlation 3 (0, 3): 74.00\n",
      "edge_stop 3 1: 75.00\n",
      "edge_mean 2 0: 76.00\n",
      "edge_stop 2 2: 77.00\n",
      "edge_correlation 4 (0, 1): 78.00\n",
      "phase_correlation 3 er (2, 3): 79.00\n",
      "edge_correlation 2 (1, 3): 80.00\n",
      "phase_correlation 3 er (1, 2): 81.00\n",
      "edge_correlation 2 (0, 3): 82.00\n",
      "edge_stop 2 1: 83.00\n",
      "edge_mean 4 0: 84.00\n",
      "phase_correlation 2 er (0, 3): 85.00\n",
      "edge_correlation 4 (2, 3): 86.00\n",
      "edge_correlation 2 (0, 1): 87.00\n",
      "edge_variance 2 1: 88.00\n",
      "edge_variance 2 3: 89.00\n",
      "edge_correlation 4 (1, 2): 90.00\n",
      "edge_mean 3 0: 91.00\n",
      "edge_stop 2 0: 92.00\n",
      "phase_correlation 2 er (0, 1): 93.00\n",
      "edge_correlation (1, 2) 2: 94.00\n",
      "edge_variance 2 0: 95.00\n",
      "edge_correlation 2 (2, 3): 96.00\n",
      "edge_mean 4 2: 97.00\n",
      "edge_correlation 2 (1, 2): 98.00\n",
      "phase_correlation 3 er (0, 1): 99.00\n",
      "edge_variance 3 2: 100.00\n",
      "phase_correlation 3 er (0, 3): 101.00\n",
      "edge_mean 2 2: 102.00\n",
      "phase_correlation 2 er (2, 3): 103.00\n",
      "phase_correlation (2, 3) er*di 2: 104.00\n",
      "phase_correlation 2 er (1, 3): 105.00\n",
      "phase_correlation 4 er (0, 3): 106.00\n",
      "phase_correlation 2 er (1, 2): 107.00\n",
      "phase_correlation 4 er (0, 1): 108.00\n",
      "edge_correlation (3, 4) 2: 109.00\n",
      "phase_correlation (3, 4) er*di 1: 110.00\n",
      "edge_correlation (2, 3) 0: 111.00\n",
      "phase_correlation (3, 4) er*di 3: 112.00\n",
      "edge_variance 3 0: 113.00\n",
      "edge_correlation (2, 3) 2: 114.00\n",
      "edge_correlation (3, 4) 0: 115.00\n",
      "phase_correlation 4 er (2, 3): 116.00\n",
      "phase_correlation (1, 2) er*di 2: 117.00\n",
      "edge_variance 4 0: 118.00\n",
      "phase_correlation 4 er (1, 2): 119.00\n",
      "edge_variance 2 2: 120.00\n",
      "phase_correlation (2, 3) er*di 0: 121.00\n",
      "edge_variance 4 2: 122.00\n",
      "phase_correlation (1, 2) er*di 1: 123.00\n",
      "phase_correlation (2, 3) er*di 1: 124.00\n",
      "phase_correlation (1, 2) er*di 3: 125.00\n",
      "phase_correlation (2, 3) er*di 3: 126.00\n",
      "phase_correlation (3, 4) er*di 2: 127.00\n",
      "phase_correlation (1, 2) er*di 0: 128.00\n",
      "phase_correlation (3, 4) er*di 0: 129.00\n",
      "phase_correlation 3 er (1, 3): 130.00\n",
      "edge_stop 4 3: 131.00\n",
      "edge_stop 4 1: 132.00\n",
      "phase_correlation 4 er (0, 2): 133.00\n",
      "phase_correlation (3, 4) ei*di 0: 134.00\n",
      "phase_correlation (2, 3) ei*di 3: 135.00\n",
      "phase_correlation (1, 2) ei*di 3: 136.00\n",
      "phase_correlation (1, 2) ei*di 2: 137.00\n",
      "phase_correlation (2, 3) ei*di 2: 138.00\n",
      "phase_correlation (2, 3) ei*di 0: 139.00\n",
      "phase_correlation 2 er (0, 2): 140.00\n",
      "phase_correlation (3, 4) ei*di 3: 141.00\n",
      "phase_correlation (1, 2) ei*di 0: 142.00\n",
      "phase_correlation (2, 3) ei*di 1: 143.00\n",
      "phase_correlation (3, 4) ei*di 1: 144.00\n",
      "phase_correlation (3, 4) ei*di 2: 145.00\n",
      "phase_correlation 4 er (1, 3): 146.00\n",
      "phase_correlation (1, 2) ei*di 1: 147.00\n",
      "phase_correlation 1 er (0, 2): 148.00\n",
      "phase_correlation 3 er (0, 2): 149.00\n"
     ]
    }
   ],
   "source": [
    "with open('feature_rankings_KTH_HB_weight.pkl', 'rb') as file:\n",
    "    loaded_rankings = pickle.load(file)\n",
    "\n",
    "# Initialize a dictionary to store summed ranks for each feature\n",
    "summed_ranks = {feature: 0 for feature in range(150)}\n",
    "\n",
    "# Sum the ranks for each feature across seeds\n",
    "for seed, rankings in loaded_rankings.items():\n",
    "    for rank, feature in enumerate(rankings):\n",
    "        summed_ranks[feature] += rank\n",
    "\n",
    "# Compute the average rank for each feature\n",
    "average_ranks_weight = {feature: total_rank/len(loaded_rankings) for feature, total_rank in summed_ranks.items()}\n",
    "\n",
    "# Sort the features based on their average ranks\n",
    "sorted_avg_ranks = sorted(average_ranks_weight.items(), key=lambda x: x[1])\n",
    "\n",
    "# Print the sorted features along with their labels\n",
    "for feature, avg_rank in sorted_avg_ranks:\n",
    "    label = ostat_labels[feature]\n",
    "    print(f\"{label}: {avg_rank:.2f}\")\n",
    "\n",
    "# Save averaged ranks to a new pickle file\n",
    "with open('averaged_feature_rankings_KTH_HB_weight.pkl', 'wb') as file:\n",
    "    pickle.dump(average_ranks_weight, file)"
   ]
  },
  {
   "cell_type": "markdown",
   "id": "7643a519-e2ed-49af-ab3a-b573cd48cd6f",
   "metadata": {},
   "source": [
    "## Obtain the various metrics for the analysis"
   ]
  },
  {
   "cell_type": "code",
   "execution_count": 23,
   "id": "f31a394b-f714-4bf2-8195-02d7cba4e2dd",
   "metadata": {},
   "outputs": [],
   "source": [
    "ostat_labels = ['mean', 'variance', 'bandpass_variance 0', 'variance 1', 'skew 1', 'kurtosis 1', 'variance 2', 'skew 2', 'kurtosis 2', 'variance 3', 'skew 3', 'kurtosis 3', 'variance 4', 'skew 4', 'kurtosis 4', 'variance 5', 'skew 5', 'kurtosis 5', 'edge_mean 1 0', 'edge_variance 1 0', 'edge_correlation (1, 2) 0', 'edge_stop 1 0', 'edge_mean 1 1', 'edge_variance 1 1', 'edge_correlation (1, 2) 1', 'edge_stop 1 1', 'edge_mean 1 2', 'edge_variance 1 2', 'edge_correlation (1, 2) 2', 'edge_stop 1 2', 'edge_mean 1 3', 'edge_variance 1 3', 'edge_correlation (1, 2) 3', 'edge_stop 1 3', 'edge_correlation 1 (0, 1)', 'edge_correlation 1 (0, 2)', 'edge_correlation 1 (0, 3)', 'edge_correlation 1 (1, 2)', 'edge_correlation 1 (1, 3)', 'edge_correlation 1 (2, 3)', 'edge_mean 2 0', 'edge_variance 2 0', 'edge_correlation (2, 3) 0', 'edge_stop 2 0', 'edge_mean 2 1', 'edge_variance 2 1', 'edge_correlation (2, 3) 1', 'edge_stop 2 1', 'edge_mean 2 2', 'edge_variance 2 2', 'edge_correlation (2, 3) 2', 'edge_stop 2 2', 'edge_mean 2 3', 'edge_variance 2 3', 'edge_correlation (2, 3) 3', 'edge_stop 2 3', 'edge_correlation 2 (0, 1)', 'edge_correlation 2 (0, 2)', 'edge_correlation 2 (0, 3)', 'edge_correlation 2 (1, 2)', 'edge_correlation 2 (1, 3)', 'edge_correlation 2 (2, 3)', 'edge_mean 3 0', 'edge_variance 3 0', 'edge_correlation (3, 4) 0', 'edge_stop 3 0', 'edge_mean 3 1', 'edge_variance 3 1', 'edge_correlation (3, 4) 1', 'edge_stop 3 1', 'edge_mean 3 2', 'edge_variance 3 2', 'edge_correlation (3, 4) 2', 'edge_stop 3 2', 'edge_mean 3 3', 'edge_variance 3 3', 'edge_correlation (3, 4) 3', 'edge_stop 3 3', 'edge_correlation 3 (0, 1)', 'edge_correlation 3 (0, 2)', 'edge_correlation 3 (0, 3)', 'edge_correlation 3 (1, 2)', 'edge_correlation 3 (1, 3)', 'edge_correlation 3 (2, 3)', 'edge_mean 4 0', 'edge_variance 4 0', 'edge_stop 4 0', 'edge_mean 4 1', 'edge_variance 4 1', 'edge_stop 4 1', 'edge_mean 4 2', 'edge_variance 4 2', 'edge_stop 4 2', 'edge_mean 4 3', 'edge_variance 4 3', 'edge_stop 4 3', 'edge_correlation 4 (0, 1)', 'edge_correlation 4 (0, 2)', 'edge_correlation 4 (0, 3)', 'edge_correlation 4 (1, 2)', 'edge_correlation 4 (1, 3)', 'edge_correlation 4 (2, 3)', 'phase_correlation 1 er (0, 1)', 'phase_correlation 1 er (0, 2)', 'phase_correlation 1 er (0, 3)', 'phase_correlation 1 er (1, 2)', 'phase_correlation 1 er (1, 3)', 'phase_correlation 1 er (2, 3)', 'phase_correlation (1, 2) ei*di 0', 'phase_correlation (1, 2) er*di 0', 'phase_correlation (1, 2) ei*di 1', 'phase_correlation (1, 2) er*di 1', 'phase_correlation (1, 2) ei*di 2', 'phase_correlation (1, 2) er*di 2', 'phase_correlation (1, 2) ei*di 3', 'phase_correlation (1, 2) er*di 3', 'phase_correlation 2 er (0, 1)', 'phase_correlation 2 er (0, 2)', 'phase_correlation 2 er (0, 3)', 'phase_correlation 2 er (1, 2)', 'phase_correlation 2 er (1, 3)', 'phase_correlation 2 er (2, 3)', 'phase_correlation (2, 3) ei*di 0', 'phase_correlation (2, 3) er*di 0', 'phase_correlation (2, 3) ei*di 1', 'phase_correlation (2, 3) er*di 1', 'phase_correlation (2, 3) ei*di 2', 'phase_correlation (2, 3) er*di 2', 'phase_correlation (2, 3) ei*di 3', 'phase_correlation (2, 3) er*di 3', 'phase_correlation 3 er (0, 1)', 'phase_correlation 3 er (0, 2)', 'phase_correlation 3 er (0, 3)', 'phase_correlation 3 er (1, 2)', 'phase_correlation 3 er (1, 3)', 'phase_correlation 3 er (2, 3)', 'phase_correlation (3, 4) ei*di 0', 'phase_correlation (3, 4) er*di 0', 'phase_correlation (3, 4) ei*di 1', 'phase_correlation (3, 4) er*di 1', 'phase_correlation (3, 4) ei*di 2', 'phase_correlation (3, 4) er*di 2', 'phase_correlation (3, 4) ei*di 3', 'phase_correlation (3, 4) er*di 3', 'phase_correlation 4 er (0, 1)', 'phase_correlation 4 er (0, 2)', 'phase_correlation 4 er (0, 3)', 'phase_correlation 4 er (1, 2)', 'phase_correlation 4 er (1, 3)', 'phase_correlation 4 er (2, 3)']"
   ]
  },
  {
   "cell_type": "code",
   "execution_count": 24,
   "id": "27f66110-d8be-4b03-b40d-604f662a8a21",
   "metadata": {},
   "outputs": [],
   "source": [
    "variance = [i for i, label in enumerate(ostat_labels) if 'variance' in label]\n",
    "mean = [i for i, label in enumerate(ostat_labels) if 'mean' in label]\n",
    "skew = [i for i, label in enumerate(ostat_labels) if 'skew' in label]\n",
    "kurtosis = [i for i, label in enumerate(ostat_labels) if 'kurtosis' in label]\n",
    "raw_stats = [0,1]"
   ]
  },
  {
   "cell_type": "code",
   "execution_count": 25,
   "id": "8d03fa45-b314-495a-a467-c6bd980411fb",
   "metadata": {},
   "outputs": [],
   "source": [
    "# Groups of indices\n",
    "rawstats = [0,1]\n",
    "bandpass_variance = [i for i, label in enumerate(ostat_labels) if 'bandpass_variance' in label]\n",
    "low = [3, 4, 5]\n",
    "nonoriented = list(range(6, 20))\n",
    "edgemean = [i for i, label in enumerate(ostat_labels) if 'edge_mean' in label]\n",
    "edgevariance = [i for i, label in enumerate(ostat_labels) if 'edge_variance' in label]\n",
    "edgecorrelation = [i for i, label in enumerate(ostat_labels) if 'edge_correlation' in label]\n",
    "phase = [i for i, label in enumerate(ostat_labels) if 'phase' in label]\n",
    "stop = [i for i, label in enumerate(ostat_labels) if 'stop' in label]\n",
    "\n",
    "### Get the indices for the 50 statistics\n",
    "variance = [i for i, label in enumerate(ostat_labels) if 'variance' in label]\n",
    "mean = [i for i, label in enumerate(ostat_labels) if 'mean' in label]\n",
    "skew = [i for i, label in enumerate(ostat_labels) if 'skew' in label]\n",
    "kurtosis = [i for i, label in enumerate(ostat_labels) if 'kurtosis' in label]\n",
    "\n",
    "heegerbergen_indices = variance + mean + skew + kurtosis\n",
    "\n",
    "all_indices = set(range(len(ostat_labels)))\n",
    "remaining_indices = sorted(list(all_indices - set(heegerbergen_indices)))\n",
    "\n",
    "# Compute mean ranks for each group and print\n",
    "groups = {\n",
    "    \"RawStats\": rawstats,\n",
    "    \"Bandpass Variance\": bandpass_variance,\n",
    "    \"Low\": low,\n",
    "    \"NonOriented\": nonoriented,\n",
    "    \"Edge Mean\": edgemean,\n",
    "    \"Edge Variance\": edgevariance,\n",
    "    \"Edge Correlation\": edgecorrelation,\n",
    "    \"Phase\": phase,\n",
    "    \"Stop\": stop\n",
    "}"
   ]
  },
  {
   "cell_type": "code",
   "execution_count": 26,
   "id": "b01fed03-8c0f-4269-b7cf-3255e671d092",
   "metadata": {},
   "outputs": [],
   "source": [
    "import pickle\n",
    "\n",
    "with open('averaged_feature_rankings_KTH_HB_weight.pkl', 'rb') as file:\n",
    "    average_ranks = pickle.load(file)\n"
   ]
  },
  {
   "cell_type": "markdown",
   "id": "6bb6a9f6-1880-4ff2-a5e2-295d0709502c",
   "metadata": {},
   "source": [
    "Calculate the various metrics"
   ]
  },
  {
   "cell_type": "code",
   "execution_count": 27,
   "id": "78c345c4-0499-409f-98ba-33af6d80ea8f",
   "metadata": {},
   "outputs": [
    {
     "name": "stdout",
     "output_type": "stream",
     "text": [
      "14 of the heegerbergen_indices are among the top 15 ranked features.\n",
      "Median rank of heegerbergen_indices is: 39\n",
      "Mean rank of heegerbergen_indices is: 45.7\n"
     ]
    }
   ],
   "source": [
    "# First, sort the average_ranks to get the top ranked features\n",
    "sorted_indices = sorted(range(len(average_ranks)), key=lambda k: average_ranks[k])\n",
    "\n",
    "# 1. Count how many of the heegerbergen_indices are among the top 15 ranked features.\n",
    "count_top_15 = sum([1 for idx in heegerbergen_indices if idx in sorted_indices[:15]])\n",
    "print(f\"{count_top_15} of the heegerbergen_indices are among the top 15 ranked features.\")\n",
    "\n",
    "# 2. Calculate the median rank of the heegerbergen_indices.\n",
    "heegerbergen_ranks = [sorted_indices.index(idx) for idx in heegerbergen_indices]\n",
    "median_rank = sorted(heegerbergen_ranks)[len(heegerbergen_ranks) // 2]\n",
    "print(f\"Median rank of heegerbergen_indices is: {median_rank + 1}\")  # adding 1 to shift from 0-based index to 1-based rank\n",
    "\n",
    "# 3. Calculate the mean rank of the heegerbergen_indices.\n",
    "mean_rank = sum(heegerbergen_ranks) / len(heegerbergen_ranks)\n",
    "print(f\"Mean rank of heegerbergen_indices is: {mean_rank + 1}\")  # adding 1 to shift from 0-based index to 1-based rank\n"
   ]
  },
  {
   "cell_type": "code",
   "execution_count": 35,
   "id": "b63478f3-bc16-4232-8ddd-e9b3390bcf2d",
   "metadata": {},
   "outputs": [
    {
     "name": "stdout",
     "output_type": "stream",
     "text": [
      "RawStats average rank: 28.50\n",
      "Bandpass Variance average rank: 47.00\n",
      "Low average rank: 30.67\n",
      "NonOriented average rank: 19.07\n",
      "Edge Mean average rank: 46.69\n",
      "Edge Variance average rank: 73.69\n",
      "Edge Correlation average rank: 69.72\n",
      "Phase average rank: 115.77\n",
      "Stop average rank: 49.12\n"
     ]
    }
   ],
   "source": [
    "def compute_group_mean_rank(indices, average_ranks):\n",
    "    group_ranks = [average_ranks[idx] for idx in indices]\n",
    "    return sum(group_ranks) / len(group_ranks) if group_ranks else None\n",
    "\n",
    "# Compute average rank for each group\n",
    "group_avg_rank = {group_name: compute_group_mean_rank(indices, average_ranks) for group_name, indices in groups.items()}\n",
    "\n",
    "# Print the results\n",
    "for group_name, avg_rank in group_avg_rank.items():\n",
    "    print(f\"{group_name} average rank: {avg_rank:.2f}\")"
   ]
  },
  {
   "cell_type": "markdown",
   "id": "67b72626-3ccb-4dfd-99e1-8aa6434dfc10",
   "metadata": {},
   "source": [
    "## Same for shapley"
   ]
  },
  {
   "cell_type": "code",
   "execution_count": 41,
   "id": "8325ef88-5e22-4026-9886-a37c28bae05b",
   "metadata": {},
   "outputs": [],
   "source": [
    "import pickle\n",
    "\n",
    "with open('averaged_feature_rankings_KTH_HB_shapley.pkl', 'rb') as file:\n",
    "    average_ranks = pickle.load(file)\n"
   ]
  },
  {
   "cell_type": "code",
   "execution_count": 42,
   "id": "aa78caa3-4a8c-4a17-a4e7-cd0efb6f59b3",
   "metadata": {},
   "outputs": [
    {
     "name": "stdout",
     "output_type": "stream",
     "text": [
      "5 of the heegerbergen_indices are among the top 15 ranked features.\n",
      "Median rank of heegerbergen_indices is: 74\n",
      "Mean rank of heegerbergen_indices is: 66.42\n"
     ]
    }
   ],
   "source": [
    "# First, sort the average_ranks to get the top ranked features\n",
    "sorted_indices = sorted(range(len(average_ranks)), key=lambda k: average_ranks[k])\n",
    "\n",
    "# 1. Count how many of the heegerbergen_indices are among the top 15 ranked features.\n",
    "count_top_15 = sum([1 for idx in heegerbergen_indices if idx in sorted_indices[:15]])\n",
    "print(f\"{count_top_15} of the heegerbergen_indices are among the top 15 ranked features.\")\n",
    "\n",
    "# 2. Calculate the median rank of the heegerbergen_indices.\n",
    "heegerbergen_ranks = [sorted_indices.index(idx) for idx in heegerbergen_indices]\n",
    "median_rank = sorted(heegerbergen_ranks)[len(heegerbergen_ranks) // 2]\n",
    "print(f\"Median rank of heegerbergen_indices is: {median_rank + 1}\")  # adding 1 to shift from 0-based index to 1-based rank\n",
    "\n",
    "# 3. Calculate the mean rank of the heegerbergen_indices.\n",
    "mean_rank = sum(heegerbergen_ranks) / len(heegerbergen_ranks)\n",
    "print(f\"Mean rank of heegerbergen_indices is: {mean_rank + 1}\")  # adding 1 to shift from 0-based index to 1-based rank\n"
   ]
  },
  {
   "cell_type": "code",
   "execution_count": 43,
   "id": "980b469d-961e-4628-98c4-0d4d358585f9",
   "metadata": {},
   "outputs": [
    {
     "name": "stdout",
     "output_type": "stream",
     "text": [
      "RawStats average rank: 109.50\n",
      "Bandpass Variance average rank: 47.00\n",
      "Low average rank: 107.00\n",
      "NonOriented average rank: 83.79\n",
      "Edge Mean average rank: 50.12\n",
      "Edge Variance average rank: 54.88\n",
      "Edge Correlation average rank: 48.75\n",
      "Phase average rank: 109.33\n",
      "Stop average rank: 56.31\n"
     ]
    }
   ],
   "source": [
    "def compute_group_mean_rank(indices, average_ranks):\n",
    "    group_ranks = [average_ranks[idx] for idx in indices]\n",
    "    return sum(group_ranks) / len(group_ranks) if group_ranks else None\n",
    "\n",
    "# Compute average rank for each group\n",
    "group_avg_rank = {group_name: compute_group_mean_rank(indices, average_ranks) for group_name, indices in groups.items()}\n",
    "\n",
    "# Print the results\n",
    "for group_name, avg_rank in group_avg_rank.items():\n",
    "    print(f\"{group_name} average rank: {avg_rank:.2f}\")"
   ]
  },
  {
   "cell_type": "markdown",
   "id": "9aa3de7c-4d4b-4c78-a669-d686d2b11dca",
   "metadata": {},
   "source": [
    "## Weight selection"
   ]
  },
  {
   "cell_type": "code",
   "execution_count": 154,
   "id": "6db3e715-18b4-48e2-8e85-c12541a2c32c",
   "metadata": {},
   "outputs": [
    {
     "name": "stdout",
     "output_type": "stream",
     "text": [
      "37.5\n",
      "11\n"
     ]
    }
   ],
   "source": [
    "variance = [i for i, label in enumerate(ostat_labels) if 'variance' in label]\n",
    "mean = [i for i, label in enumerate(ostat_labels) if 'mean' in label]\n",
    "skew = [i for i, label in enumerate(ostat_labels) if 'skew' in label]\n",
    "kurtosis = [i for i, label in enumerate(ostat_labels) if 'kurtosis' in label]\n",
    "raw_stats = [0,1]\n",
    "heegerbergen_indices = variance + mean + skew + kurtosis\n",
    "\n",
    "all_indices = set(range(len(ostat_labels)))\n",
    "remaining_indices = sorted(list(all_indices - set(heegerbergen_indices)))\n",
    "#print(remaining_indices)\n",
    "#print(len(combined_indices))\n",
    "#print(stat_index_array)\n",
    "# Convert the numpy array to a list for easier indexing\n",
    "stat_index_list = list(stat_index_array)\n",
    "\n",
    "# Compute the ranks/positions\n",
    "ranks = [stat_index_list.index(idx) + 1 for idx in heegerbergen_indices if idx in stat_index_list]\n",
    "\n",
    "# Computing the median rank\n",
    "ranks_sorted = sorted(ranks)\n",
    "length = len(ranks_sorted)\n",
    "\n",
    "if length % 2 == 1:  # odd number of ranks\n",
    "    median_rank = ranks_sorted[length // 2]\n",
    "else:  # even number of ranks\n",
    "    median_rank = (ranks_sorted[length // 2 - 1] + ranks_sorted[length // 2]) / 2\n",
    "\n",
    "print(median_rank)  #@Mark: This should print 56\n",
    "\n",
    "# Checking the intersection of the first 75 elements with heegerbergen_indices\n",
    "count = sum(1 for index in stat_index_array[:15] if index in heegerbergen_indices)\n",
    "\n",
    "print(count)"
   ]
  },
  {
   "cell_type": "code",
   "execution_count": 155,
   "id": "f34daa72-ceb9-45b6-88bf-bf4b33e7938a",
   "metadata": {},
   "outputs": [
    {
     "name": "stdout",
     "output_type": "stream",
     "text": [
      "47.6\n"
     ]
    }
   ],
   "source": [
    "# Compute the ranks\n",
    "stat_index_list = list(stat_index_array)\n",
    "\n",
    "ranks = [stat_index_list.index(idx) + 1 for idx in heegerbergen_indices if idx in stat_index_list]\n",
    "\n",
    "# Compute the mean rank\n",
    "mean_rank = sum(ranks) / len(ranks) if ranks else None\n",
    "\n",
    "print(mean_rank)  # This should print 4.0"
   ]
  },
  {
   "cell_type": "code",
   "execution_count": 28,
   "id": "e8f87559-5619-44e6-a07b-532b8098ef74",
   "metadata": {},
   "outputs": [
    {
     "ename": "NameError",
     "evalue": "name 'stat_index_list' is not defined",
     "output_type": "error",
     "traceback": [
      "\u001b[0;31m---------------------------------------------------------------------------\u001b[0m",
      "\u001b[0;31mNameError\u001b[0m                                 Traceback (most recent call last)",
      "Cell \u001b[0;32mIn[28], line 31\u001b[0m\n\u001b[1;32m     18\u001b[0m groups \u001b[38;5;241m=\u001b[39m {\n\u001b[1;32m     19\u001b[0m     \u001b[38;5;124m\"\u001b[39m\u001b[38;5;124mRawStats\u001b[39m\u001b[38;5;124m\"\u001b[39m: rawstats,\n\u001b[1;32m     20\u001b[0m     \u001b[38;5;124m\"\u001b[39m\u001b[38;5;124mBandpass Variance\u001b[39m\u001b[38;5;124m\"\u001b[39m: bandpass_variance,\n\u001b[0;32m   (...)\u001b[0m\n\u001b[1;32m     27\u001b[0m     \u001b[38;5;124m\"\u001b[39m\u001b[38;5;124mStop\u001b[39m\u001b[38;5;124m\"\u001b[39m: stop\n\u001b[1;32m     28\u001b[0m }\n\u001b[1;32m     30\u001b[0m \u001b[38;5;28;01mfor\u001b[39;00m group_name, indices \u001b[38;5;129;01min\u001b[39;00m groups\u001b[38;5;241m.\u001b[39mitems():\n\u001b[0;32m---> 31\u001b[0m     \u001b[38;5;28mprint\u001b[39m(\u001b[38;5;124mf\u001b[39m\u001b[38;5;124m\"\u001b[39m\u001b[38;5;132;01m{\u001b[39;00mgroup_name\u001b[38;5;132;01m}\u001b[39;00m\u001b[38;5;124m mean rank:\u001b[39m\u001b[38;5;124m\"\u001b[39m, compute_mean_rank(indices, \u001b[43mstat_index_list\u001b[49m))\n",
      "\u001b[0;31mNameError\u001b[0m: name 'stat_index_list' is not defined"
     ]
    }
   ],
   "source": [
    "def compute_mean_rank(indices, stat_index_list):\n",
    "    ranks = [stat_index_list.index(idx) + 1 for idx in indices if idx in stat_index_list]\n",
    "    return sum(ranks) / len(ranks) if ranks else None\n",
    "\n",
    "# Groups of indices\n",
    "rawstats = [0,1]\n",
    "bandpass_variance = [i for i, label in enumerate(ostat_labels) if 'bandpass_variance' in label]\n",
    "low = [3, 4, 5]\n",
    "nonoriented = list(range(6, 20))\n",
    "edgemean = [i for i, label in enumerate(ostat_labels) if 'edge_mean' in label]\n",
    "edgevariance = [i for i, label in enumerate(ostat_labels) if 'edge_variance' in label]\n",
    "edgecorrelation = [i for i, label in enumerate(ostat_labels) if 'edge_correlation' in label]\n",
    "phase = [i for i, label in enumerate(ostat_labels) if 'phase' in label]\n",
    "stop = [i for i, label in enumerate(ostat_labels) if 'stop' in label]\n",
    "\n",
    "\n",
    "# Compute mean ranks for each group and print\n",
    "groups = {\n",
    "    \"RawStats\": rawstats,\n",
    "    \"Bandpass Variance\": bandpass_variance,\n",
    "    \"Low\": low,\n",
    "    \"NonOriented\": nonoriented,\n",
    "    \"Edge Mean\": edgemean,\n",
    "    \"Edge Variance\": edgevariance,\n",
    "    \"Edge Correlation\": edgecorrelation,\n",
    "    \"Phase\": phase,\n",
    "    \"Stop\": stop\n",
    "}\n",
    "\n",
    "for group_name, indices in groups.items():\n",
    "    print(f\"{group_name} mean rank:\", compute_mean_rank(indices, stat_index_list))"
   ]
  },
  {
   "cell_type": "code",
   "execution_count": 29,
   "id": "4b35d946-cbfd-4bf9-8234-81edc551cecf",
   "metadata": {},
   "outputs": [],
   "source": [
    "# Groups of indices\n",
    "rawstats = [0,1]\n",
    "bandpass_variance = [i for i, label in enumerate(ostat_labels) if 'bandpass_variance' in label]\n",
    "low = [3, 4, 5]\n",
    "nonoriented = list(range(6, 20))\n",
    "edgemean = [i for i, label in enumerate(ostat_labels) if 'edge_mean' in label]\n",
    "edgevariance = [i for i, label in enumerate(ostat_labels) if 'edge_variance' in label]\n",
    "edgecorrelation = [i for i, label in enumerate(ostat_labels) if 'edge_correlation' in label]\n",
    "phase = [i for i, label in enumerate(ostat_labels) if 'phase' in label]\n",
    "stop = [i for i, label in enumerate(ostat_labels) if 'stop' in label]\n",
    "\n",
    "\n",
    "# Compute mean ranks for each group and print\n",
    "groups = {\n",
    "    \"RawStats\": rawstats,\n",
    "    \"Bandpass Variance\": bandpass_variance,\n",
    "    \"Low\": low,\n",
    "    \"NonOriented\": nonoriented,\n",
    "    \"Edge Mean\": edgemean,\n",
    "    \"Edge Variance\": edgevariance,\n",
    "    \"Edge Correlation\": edgecorrelation,\n",
    "    \"Phase\": phase,\n",
    "    \"Stop\": stop\n",
    "}"
   ]
  },
  {
   "cell_type": "code",
   "execution_count": null,
   "id": "4e5734aa-cece-4403-a511-5e1e6481c3b0",
   "metadata": {},
   "outputs": [],
   "source": []
  }
 ],
 "metadata": {
  "kernelspec": {
   "display_name": "Python 3 (ipykernel)",
   "language": "python",
   "name": "python3"
  },
  "language_info": {
   "codemirror_mode": {
    "name": "ipython",
    "version": 3
   },
   "file_extension": ".py",
   "mimetype": "text/x-python",
   "name": "python",
   "nbconvert_exporter": "python",
   "pygments_lexer": "ipython3",
   "version": "3.8.15"
  }
 },
 "nbformat": 4,
 "nbformat_minor": 5
}
