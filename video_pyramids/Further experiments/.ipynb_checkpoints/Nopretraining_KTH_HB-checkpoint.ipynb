{
 "cells": [
  {
   "cell_type": "code",
   "execution_count": 34,
   "id": "392b2e0e-e35f-46ca-9f3d-4b95242718d7",
   "metadata": {
    "tags": []
   },
   "outputs": [],
   "source": [
    "import torch\n",
    "import torchvision\n",
    "import torchvision.transforms as transforms\n",
    "import torch.utils.data as data\n",
    "from torch.utils.data import DataLoader\n",
    "import torch.nn as nn\n",
    "import sys\n",
    "import matplotlib.pyplot as plt\n",
    "from tsne_torch import TorchTSNE\n",
    "import numpy as np\n",
    "sys.path.append('/home/gridsan/ckoevesdi/.local/lib/python3.9/site-packages/')\n",
    "from pytorch_metric_learning import losses\n",
    "import os\n",
    "sys.path.append('/home/gridsan/ckoevesdi/PooledStatisticsMetamers/poolstatmetamer/')\n",
    "import utils.statnetencoder as sne\n",
    "import importlib\n",
    "import imp\n",
    "import torch.nn.functional as F\n",
    "\n",
    "#!wget https://raw.githubusercontent.com/pytorch/pytorch/master/torch/utils/collect_env.py\n",
    "\n",
    "#sys.path.append(r'C:\\Users\\chris\\Documents\\MIT\\Statistics_analysis_code\\PyTorchSteerablePyramid')\n",
    "sys.path.append('/home/gridsan/ckoevesdi/PyTorchSteerablePyramid/')\n",
    "import steerable\n",
    "import steerable.utils as utils\n",
    "from steerable.SCFpyr_PyTorch import SCFpyr_PyTorch\n",
    "\n",
    "torch.manual_seed(16)\n",
    "\n",
    "#use GPU 2\n",
    "device = torch.device('cuda:0') if torch.cuda.is_available() else torch.device('cpu')"
   ]
  },
  {
   "cell_type": "code",
   "execution_count": 35,
   "id": "c0179c80-c747-4963-ba5f-5e0696a83e42",
   "metadata": {},
   "outputs": [],
   "source": [
    "class KTHImageDataset(Dataset):\n",
    "    def __init__(self, root_dir, transform=None):\n",
    "        self.root_dir = root_dir\n",
    "        self.transform = transform\n",
    "        self.samples = []\n",
    "        \n",
    "        # Filtering only directories for classes\n",
    "        self.classes = [d for d in os.listdir(root_dir) if os.path.isdir(os.path.join(root_dir, d))]\n",
    "\n",
    "        for label, class_name in enumerate(self.classes):\n",
    "            class_dir = os.path.join(root_dir, class_name)\n",
    "            for sample_folder in os.listdir(class_dir):\n",
    "                sample_folder_path = os.path.join(class_dir, sample_folder)\n",
    "                for filename in os.listdir(sample_folder_path):\n",
    "                    img_path = os.path.join(sample_folder_path, filename)\n",
    "                    self.samples.append((img_path, label))\n",
    "\n",
    "    def __len__(self):\n",
    "        return len(self.samples)\n",
    "\n",
    "    def __getitem__(self, idx):\n",
    "        img_path, label = self.samples[idx]\n",
    "        image = Image.open(img_path).convert(\"RGB\")\n",
    "        \n",
    "        if self.transform:\n",
    "            image = self.transform(image)\n",
    "        \n",
    "        return image, label\n",
    "\n",
    "# Specify transformations\n",
    "transform = transforms.Compose([\n",
    "    transforms.Resize((200, 200)),\n",
    "    transforms.Grayscale(),\n",
    "    transforms.ToTensor(),  \n",
    "    transforms.ConvertImageDtype(torch.float32)\n",
    "])\n",
    "\n",
    "# Initialize dataset and dataloader\n",
    "sys.path.append('/home/gridsan/ckoevesdi/data_KTH/KTH-TIPS2-b/')\n",
    "\n",
    "root_dir = '/home/gridsan/ckoevesdi/data_KTH/KTH-TIPS2-b/'\n",
    "dataset = KTHImageDataset(root_dir=root_dir, transform=transform)\n",
    "brucy_dataloader = DataLoader(dataset, batch_size=1, shuffle=False)"
   ]
  },
  {
   "cell_type": "code",
   "execution_count": 56,
   "id": "7b085b67-b033-49b2-9b14-5b9c6cfd022e",
   "metadata": {},
   "outputs": [],
   "source": [
    "ostat_labels = ['mean', 'variance', 'bandpass_variance 0', 'variance 1', 'skew 1', 'kurtosis 1', 'variance 2', 'skew 2', 'kurtosis 2', 'variance 3', 'skew 3', 'kurtosis 3', 'variance 4', 'skew 4', 'kurtosis 4', 'variance 5', 'skew 5', 'kurtosis 5', 'edge_mean 1 0', 'edge_variance 1 0', 'edge_correlation (1, 2) 0', 'edge_stop 1 0', 'edge_mean 1 1', 'edge_variance 1 1', 'edge_correlation (1, 2) 1', 'edge_stop 1 1', 'edge_mean 1 2', 'edge_variance 1 2', 'edge_correlation (1, 2) 2', 'edge_stop 1 2', 'edge_mean 1 3', 'edge_variance 1 3', 'edge_correlation (1, 2) 3', 'edge_stop 1 3', 'edge_correlation 1 (0, 1)', 'edge_correlation 1 (0, 2)', 'edge_correlation 1 (0, 3)', 'edge_correlation 1 (1, 2)', 'edge_correlation 1 (1, 3)', 'edge_correlation 1 (2, 3)', 'edge_mean 2 0', 'edge_variance 2 0', 'edge_correlation (2, 3) 0', 'edge_stop 2 0', 'edge_mean 2 1', 'edge_variance 2 1', 'edge_correlation (2, 3) 1', 'edge_stop 2 1', 'edge_mean 2 2', 'edge_variance 2 2', 'edge_correlation (2, 3) 2', 'edge_stop 2 2', 'edge_mean 2 3', 'edge_variance 2 3', 'edge_correlation (2, 3) 3', 'edge_stop 2 3', 'edge_correlation 2 (0, 1)', 'edge_correlation 2 (0, 2)', 'edge_correlation 2 (0, 3)', 'edge_correlation 2 (1, 2)', 'edge_correlation 2 (1, 3)', 'edge_correlation 2 (2, 3)', 'edge_mean 3 0', 'edge_variance 3 0', 'edge_correlation (3, 4) 0', 'edge_stop 3 0', 'edge_mean 3 1', 'edge_variance 3 1', 'edge_correlation (3, 4) 1', 'edge_stop 3 1', 'edge_mean 3 2', 'edge_variance 3 2', 'edge_correlation (3, 4) 2', 'edge_stop 3 2', 'edge_mean 3 3', 'edge_variance 3 3', 'edge_correlation (3, 4) 3', 'edge_stop 3 3', 'edge_correlation 3 (0, 1)', 'edge_correlation 3 (0, 2)', 'edge_correlation 3 (0, 3)', 'edge_correlation 3 (1, 2)', 'edge_correlation 3 (1, 3)', 'edge_correlation 3 (2, 3)', 'edge_mean 4 0', 'edge_variance 4 0', 'edge_stop 4 0', 'edge_mean 4 1', 'edge_variance 4 1', 'edge_stop 4 1', 'edge_mean 4 2', 'edge_variance 4 2', 'edge_stop 4 2', 'edge_mean 4 3', 'edge_variance 4 3', 'edge_stop 4 3', 'edge_correlation 4 (0, 1)', 'edge_correlation 4 (0, 2)', 'edge_correlation 4 (0, 3)', 'edge_correlation 4 (1, 2)', 'edge_correlation 4 (1, 3)', 'edge_correlation 4 (2, 3)', 'phase_correlation 1 er (0, 1)', 'phase_correlation 1 er (0, 2)', 'phase_correlation 1 er (0, 3)', 'phase_correlation 1 er (1, 2)', 'phase_correlation 1 er (1, 3)', 'phase_correlation 1 er (2, 3)', 'phase_correlation (1, 2) ei*di 0', 'phase_correlation (1, 2) er*di 0', 'phase_correlation (1, 2) ei*di 1', 'phase_correlation (1, 2) er*di 1', 'phase_correlation (1, 2) ei*di 2', 'phase_correlation (1, 2) er*di 2', 'phase_correlation (1, 2) ei*di 3', 'phase_correlation (1, 2) er*di 3', 'phase_correlation 2 er (0, 1)', 'phase_correlation 2 er (0, 2)', 'phase_correlation 2 er (0, 3)', 'phase_correlation 2 er (1, 2)', 'phase_correlation 2 er (1, 3)', 'phase_correlation 2 er (2, 3)', 'phase_correlation (2, 3) ei*di 0', 'phase_correlation (2, 3) er*di 0', 'phase_correlation (2, 3) ei*di 1', 'phase_correlation (2, 3) er*di 1', 'phase_correlation (2, 3) ei*di 2', 'phase_correlation (2, 3) er*di 2', 'phase_correlation (2, 3) ei*di 3', 'phase_correlation (2, 3) er*di 3', 'phase_correlation 3 er (0, 1)', 'phase_correlation 3 er (0, 2)', 'phase_correlation 3 er (0, 3)', 'phase_correlation 3 er (1, 2)', 'phase_correlation 3 er (1, 3)', 'phase_correlation 3 er (2, 3)', 'phase_correlation (3, 4) ei*di 0', 'phase_correlation (3, 4) er*di 0', 'phase_correlation (3, 4) ei*di 1', 'phase_correlation (3, 4) er*di 1', 'phase_correlation (3, 4) ei*di 2', 'phase_correlation (3, 4) er*di 2', 'phase_correlation (3, 4) ei*di 3', 'phase_correlation (3, 4) er*di 3', 'phase_correlation 4 er (0, 1)', 'phase_correlation 4 er (0, 2)', 'phase_correlation 4 er (0, 3)', 'phase_correlation 4 er (1, 2)', 'phase_correlation 4 er (1, 3)', 'phase_correlation 4 er (2, 3)']"
   ]
  },
  {
   "cell_type": "code",
   "execution_count": 36,
   "id": "35cb91ee-6cd3-42cb-98f7-3f0dfcdde754",
   "metadata": {},
   "outputs": [
    {
     "data": {
      "text/plain": [
       "4752"
      ]
     },
     "execution_count": 36,
     "metadata": {},
     "output_type": "execute_result"
    }
   ],
   "source": [
    "len(dataset)"
   ]
  },
  {
   "cell_type": "code",
   "execution_count": 19,
   "id": "57588376-c71d-4a48-b20b-60c0e55736d3",
   "metadata": {
    "tags": []
   },
   "outputs": [
    {
     "name": "stdout",
     "output_type": "stream",
     "text": [
      "Labels: [0, 0, 0, 0]\n"
     ]
    },
    {
     "data": {
      "image/png": "[encoded data removed]",
      "text/plain": [
       "<Figure size 432x288 with 1 Axes>"
      ]
     },
     "metadata": {
      "needs_background": "light"
     },
     "output_type": "display_data"
    }
   ],
   "source": [
    "import matplotlib.pyplot as plt\n",
    "import numpy as np\n",
    "\n",
    "import torchvision\n",
    "def imshow(img):\n",
    "    img = img / 2 + 0.5  # Unnormalize if you have normalized in your transformations\n",
    "    npimg = img.numpy()\n",
    "    plt.imshow(np.transpose(npimg, (1, 2, 0)))\n",
    "\n",
    "# Get a batch of images and labels\n",
    "dataiter = iter(dataloader)\n",
    "images, labels = dataiter.next()\n",
    "\n",
    "# Show images and their corresponding labels\n",
    "imshow(torchvision.utils.make_grid(images[:4]))\n",
    "print(f'Labels: {labels[:4].tolist()}')\n",
    "plt.show()\n"
   ]
  },
  {
   "cell_type": "code",
   "execution_count": 31,
   "id": "99f8131a-a50f-40ef-803a-f38a0fb143b7",
   "metadata": {},
   "outputs": [
    {
     "name": "stdout",
     "output_type": "stream",
     "text": [
      "Creating solver: pyramid=UBBBBL_6 pooling=WholeImagePooling()\n"
     ]
    }
   ],
   "source": [
    "import utils.brucenet as bn\n",
    "brucy = bn.BruceNet(pooling_region_size=1e20, pyramid_params=False, dummy_img = torch.zeros(20,\n",
    "                                     1,\n",
    "                                     200,\n",
    "                                     200)).to(device)"
   ]
  },
  {
   "cell_type": "code",
   "execution_count": 37,
   "id": "1855ae35-ebd0-4c20-b356-09bcb357c168",
   "metadata": {},
   "outputs": [],
   "source": [
    "all_statistics = []\n",
    "\n",
    "for j, (texture_batch, labels) in enumerate(brucy_dataloader):\n",
    "    # Assuming texture_batch has a shape of [20, 5, 1, 128, 128]\n",
    "    #print(texture_batch.shape)\n",
    "    output = texture_batch.to(device)\n",
    "    output = torch.stack([output, output]).squeeze(1)\n",
    "    #print(output.shape)\n",
    "    #print(labels)\n",
    "    statistics = brucy(output)  # This should output a tensor of shape [2, 150]\n",
    "    statistics = statistics[0,:]\n",
    "    #print(statistics[0,:])\n",
    "    # You can now store these statistics, along with the label and original image index\n",
    "    all_statistics.append({\n",
    "        'statistics': statistics.cpu().numpy(),\n",
    "        #'label': labels[i].item(),\n",
    "        'original_image_index': labels.cpu().numpy()\n",
    "    })"
   ]
  },
  {
   "cell_type": "code",
   "execution_count": 39,
   "id": "47a7b386-52c3-4b36-b81f-0115ab69f221",
   "metadata": {},
   "outputs": [
    {
     "name": "stdout",
     "output_type": "stream",
     "text": [
      "(4752, 150)\n"
     ]
    }
   ],
   "source": [
    "from sklearn.preprocessing import StandardScaler\n",
    "from sklearn.preprocessing import MinMaxScaler\n",
    "# Convert the list of dictionaries to a NumPy array or PyTorch tensor\n",
    "statistics_array = np.array([item['statistics'] for item in all_statistics])\n",
    "labels_array = np.array([item['original_image_index'] for item in all_statistics])\n",
    "print(statistics_array.shape)\n",
    "\n",
    "# Standardize\n",
    "scaler = StandardScaler()\n",
    "#scaler = MinMaxScaler()\n",
    "scaled_array = scaler.fit_transform(statistics_array)\n",
    "#scaled_array = statistics_array\n",
    "\n",
    "# Convert NumPy arrays to PyTorch tensors\n",
    "statistics_tensor = torch.tensor(scaled_array, dtype=torch.float32)\n",
    "labels_tensor = torch.tensor(labels_array, dtype=torch.long)\n",
    "#print(statistics_tensor[2])"
   ]
  },
  {
   "cell_type": "code",
   "execution_count": 42,
   "id": "2bf5cf55-06a3-4284-8b26-f3cecf8db662",
   "metadata": {},
   "outputs": [],
   "source": [
    "from torch.utils.data import Dataset, DataLoader\n",
    "\n",
    "class StatisticsDataset(Dataset):\n",
    "    def __init__(self, statistics_tensor, labels_tensor):\n",
    "        self.statistics = statistics_tensor\n",
    "        self.labels = labels_tensor\n",
    "    \n",
    "    def __len__(self):\n",
    "        return len(self.labels)\n",
    "    \n",
    "    def __getitem__(self, idx):\n",
    "        return self.statistics[idx], self.labels[idx]\n",
    "\n",
    "# Create the dataset object\n",
    "statistics_dataset = StatisticsDataset(statistics_tensor, labels_tensor)\n",
    "\n",
    "batches = 64"
   ]
  },
  {
   "cell_type": "code",
   "execution_count": 63,
   "id": "059895f3-f2c7-4ebb-a4ca-8d011e8af18d",
   "metadata": {},
   "outputs": [],
   "source": [
    "from torch.utils.data import random_split\n",
    "total_size = len(statistics_dataset)\n",
    "train_size = int(0.8 * total_size)\n",
    "test_size = total_size - train_size\n",
    "train_dataset, test_dataset = random_split(statistics_dataset, [train_size, test_size])\n",
    "train_dataloader = DataLoader(train_dataset, batch_size=batches, shuffle=True)\n",
    "test_dataloader = DataLoader(test_dataset, batch_size=batches, shuffle=False)  # Generally, shuffle is set to False for testing\n"
   ]
  },
  {
   "cell_type": "code",
   "execution_count": 79,
   "id": "50dbf48a-ab48-496b-baa9-806fe730bb51",
   "metadata": {},
   "outputs": [
    {
     "name": "stdout",
     "output_type": "stream",
     "text": [
      "EmbeddingModel(\n",
      "  (layer1): Linear(in_features=150, out_features=100, bias=True)\n",
      "  (layer2): Linear(in_features=100, out_features=75, bias=True)\n",
      "  (layer3): Linear(in_features=75, out_features=50, bias=True)\n",
      "  (layer4): Linear(in_features=50, out_features=11, bias=True)\n",
      ")\n"
     ]
    }
   ],
   "source": [
    "class EmbeddingModel(nn.Module):\n",
    "    def __init__(self):\n",
    "        super(EmbeddingModel, self).__init__()\n",
    "        self.layer1 = nn.Linear(150, 100)\n",
    "        self.layer2 = nn.Linear(100, 75)\n",
    "        self.layer3 = nn.Linear(75, 50)\n",
    "        self.layer4 = nn.Linear(50, 11)\n",
    "        \n",
    "    def forward(self, x):\n",
    "        x = F.relu(self.layer1(x))\n",
    "        x = F.relu(self.layer2(x))\n",
    "        x = F.relu(self.layer3(x))\n",
    "        x = self.layer4(x)\n",
    "        return x\n",
    "\n",
    "model = EmbeddingModel()\n",
    "model.to(device)\n",
    "print(model)"
   ]
  },
  {
   "cell_type": "code",
   "execution_count": 112,
   "id": "4ec7bee1-3db2-41de-aaf3-12f9275b3fe8",
   "metadata": {},
   "outputs": [
    {
     "name": "stdout",
     "output_type": "stream",
     "text": [
      "EmbeddingModel(\n",
      "  (layer1): Linear(in_features=150, out_features=100, bias=True)\n",
      "  (layer2): Linear(in_features=100, out_features=50, bias=True)\n",
      "  (layer4): Linear(in_features=50, out_features=11, bias=True)\n",
      ")\n"
     ]
    }
   ],
   "source": [
    "class EmbeddingModel(nn.Module):\n",
    "    def __init__(self):\n",
    "        super(EmbeddingModel, self).__init__()\n",
    "        self.layer1 = nn.Linear(150, 100)\n",
    "        self.layer2 = nn.Linear(100, 50)\n",
    "        self.layer4 = nn.Linear(50, 11)\n",
    "        \n",
    "    def forward(self, x):\n",
    "        x = F.relu(self.layer1(x))\n",
    "        x = F.relu(self.layer2(x))\n",
    "        x = self.layer4(x)\n",
    "        return x\n",
    "\n",
    "model = EmbeddingModel()\n",
    "model.to(device)\n",
    "print(model)"
   ]
  },
  {
   "cell_type": "code",
   "execution_count": 65,
   "id": "13b24f4e-f346-4f0a-b0a3-c8bf596b96ee",
   "metadata": {},
   "outputs": [],
   "source": [
    "class ImprovedModel(nn.Module):\n",
    "    def __init__(self):\n",
    "        super(ImprovedModel, self).__init__()\n",
    "        self.layer1 = nn.Linear(150, 128)\n",
    "        self.layer2 = nn.Linear(128, 128)\n",
    "        self.layer3 = nn.Linear(128, 64)\n",
    "        self.layer4 = nn.Linear(64, 64)\n",
    "        self.layer5 = nn.Linear(64, 32)\n",
    "        self.layer6 = nn.Linear(32, 11)\n",
    "        self.bn2 = nn.BatchNorm1d(64)\n",
    "        self.dropout = nn.Dropout(0.5)\n",
    "\n",
    "    def forward(self, x):\n",
    "        x = F.relu(self.layer1(x))\n",
    "        x = self.dropout(F.relu(self.layer2(x)))\n",
    "        x = F.relu(self.layer3(x))\n",
    "        x = self.bn2(x)\n",
    "        x = self.dropout(F.relu(self.layer4(x)))\n",
    "        x = F.relu(self.layer5(x))\n",
    "        x = self.layer6(x)\n",
    "        return x\n"
   ]
  },
  {
   "cell_type": "code",
   "execution_count": 101,
   "id": "2fbe5280-adac-439a-a1e3-a2fcd422c76c",
   "metadata": {},
   "outputs": [],
   "source": [
    "import torch.nn as nn\n",
    "import torch.nn.functional as F\n",
    "\n",
    "class ImprovedModel(nn.Module):\n",
    "    def __init__(self):\n",
    "        super(ImprovedModel, self).__init__()\n",
    "        self.layer1 = nn.Linear(150, 128)\n",
    "        self.layer2 = nn.Linear(128, 128)\n",
    "        self.layer3 = nn.Linear(128, 64)\n",
    "        self.layer4 = nn.Linear(64, 64)\n",
    "        self.layer6 = nn.Linear(64, 11)\n",
    "        self.bn2 = nn.BatchNorm1d(64)\n",
    "        self.dropout = nn.Dropout(0.5)\n",
    "        \n",
    "    def forward(self, x):\n",
    "        x = F.relu(self.layer1(x))\n",
    "        x = self.dropout(F.relu(self.layer2(x)))\n",
    "        x = F.relu(self.layer3(x))\n",
    "        x = self.bn2(x)\n",
    "        x = self.dropout(F.relu(self.layer4(x)))\n",
    "        x = self.layer6(x)\n",
    "        return x\n"
   ]
  },
  {
   "cell_type": "markdown",
   "id": "8fdb97a7-a1f5-4001-a5b3-f52030ad953d",
   "metadata": {},
   "source": [
    "## Training loop"
   ]
  },
  {
   "cell_type": "code",
   "execution_count": 113,
   "id": "cdfad2ea-95cf-4132-b673-dcbb23e61334",
   "metadata": {},
   "outputs": [],
   "source": [
    "from torch.nn import CrossEntropyLoss\n",
    "import torch.optim as optim\n",
    "model = EmbeddingModel()\n",
    "#model = ImprovedModel()\n",
    "\n",
    "model.to(device)\n",
    "classification_loss = CrossEntropyLoss()\n",
    "optimizer = torch.optim.Adam(model.parameters(), lr=0.001)\n",
    "training_loss = []\n",
    "training_representation_loss = []\n",
    "training_sparsity_loss = []\n",
    "num_total_epochs = 0\n",
    "#[s for s in stat_labels] #print all stats with details\n",
    "model.train() # Set model to training mode\n",
    "optimizer.zero_grad()\n",
    "model.zero_grad()"
   ]
  },
  {
   "cell_type": "code",
   "execution_count": 114,
   "id": "1dfeedd0-a2b8-4e63-a2d3-a734be905c38",
   "metadata": {
    "collapsed": true,
    "jupyter": {
     "outputs_hidden": true
    },
    "tags": []
   },
   "outputs": [
    {
     "name": "stdout",
     "output_type": "stream",
     "text": [
      "Epoch [1/100], Loss: 1.3101, Accuracy: 35.10%\n",
      "Epoch [2/100], Loss: 0.9580, Accuracy: 59.06%\n",
      "Epoch [3/100], Loss: 0.8795, Accuracy: 72.90%\n",
      "Epoch [4/100], Loss: 0.6770, Accuracy: 79.03%\n",
      "Epoch [5/100], Loss: 0.6024, Accuracy: 82.50%\n",
      "Epoch [6/100], Loss: 0.2956, Accuracy: 85.16%\n",
      "Epoch [7/100], Loss: 0.5590, Accuracy: 87.56%\n",
      "Epoch [8/100], Loss: 0.2424, Accuracy: 89.06%\n",
      "Epoch [9/100], Loss: 0.2723, Accuracy: 90.58%\n",
      "Epoch [10/100], Loss: 0.4339, Accuracy: 90.77%\n",
      "Epoch [11/100], Loss: 0.2197, Accuracy: 92.03%\n",
      "Epoch [12/100], Loss: 0.1841, Accuracy: 92.40%\n",
      "Epoch [13/100], Loss: 0.1562, Accuracy: 93.32%\n",
      "Epoch [14/100], Loss: 0.1361, Accuracy: 93.55%\n",
      "Epoch [15/100], Loss: 0.2666, Accuracy: 94.08%\n",
      "Epoch [16/100], Loss: 0.3006, Accuracy: 94.21%\n",
      "Epoch [17/100], Loss: 0.0986, Accuracy: 94.53%\n",
      "Epoch [18/100], Loss: 0.0401, Accuracy: 95.16%\n",
      "Epoch [19/100], Loss: 0.0923, Accuracy: 94.90%\n",
      "Epoch [20/100], Loss: 0.0681, Accuracy: 95.71%\n",
      "Epoch [21/100], Loss: 0.1406, Accuracy: 95.82%\n",
      "Epoch [22/100], Loss: 0.0897, Accuracy: 96.00%\n",
      "Epoch [23/100], Loss: 0.2661, Accuracy: 95.92%\n",
      "Epoch [24/100], Loss: 0.1047, Accuracy: 95.79%\n",
      "Epoch [25/100], Loss: 0.0839, Accuracy: 96.55%\n",
      "Epoch [26/100], Loss: 0.0885, Accuracy: 96.32%\n",
      "Epoch [27/100], Loss: 0.1231, Accuracy: 96.53%\n",
      "Epoch [28/100], Loss: 0.0749, Accuracy: 97.03%\n",
      "Epoch [29/100], Loss: 0.0450, Accuracy: 97.11%\n",
      "Epoch [30/100], Loss: 0.0773, Accuracy: 97.13%\n",
      "Epoch [31/100], Loss: 0.2003, Accuracy: 97.37%\n",
      "Epoch [32/100], Loss: 0.0908, Accuracy: 97.03%\n",
      "Epoch [33/100], Loss: 0.0391, Accuracy: 97.50%\n",
      "Epoch [34/100], Loss: 0.0421, Accuracy: 97.18%\n",
      "Epoch [35/100], Loss: 0.0882, Accuracy: 97.42%\n",
      "Epoch [36/100], Loss: 0.0485, Accuracy: 97.90%\n",
      "Epoch [37/100], Loss: 0.0543, Accuracy: 97.76%\n",
      "Epoch [38/100], Loss: 0.0283, Accuracy: 98.03%\n",
      "Epoch [39/100], Loss: 0.0339, Accuracy: 98.21%\n",
      "Epoch [40/100], Loss: 0.0385, Accuracy: 98.26%\n",
      "Epoch [41/100], Loss: 0.0189, Accuracy: 98.40%\n",
      "Epoch [42/100], Loss: 0.0214, Accuracy: 98.05%\n",
      "Epoch [43/100], Loss: 0.0649, Accuracy: 98.11%\n",
      "Epoch [44/100], Loss: 0.0650, Accuracy: 98.21%\n",
      "Epoch [45/100], Loss: 0.0334, Accuracy: 98.34%\n",
      "Epoch [46/100], Loss: 0.0276, Accuracy: 98.37%\n",
      "Epoch [47/100], Loss: 0.0959, Accuracy: 98.45%\n",
      "Epoch [48/100], Loss: 0.0400, Accuracy: 98.55%\n",
      "Epoch [49/100], Loss: 0.0484, Accuracy: 98.55%\n",
      "Epoch [50/100], Loss: 0.0337, Accuracy: 98.74%\n",
      "Epoch [51/100], Loss: 0.0668, Accuracy: 98.74%\n",
      "Epoch [52/100], Loss: 0.1885, Accuracy: 98.37%\n",
      "Epoch [53/100], Loss: 0.0081, Accuracy: 98.82%\n",
      "Epoch [54/100], Loss: 0.0041, Accuracy: 98.84%\n",
      "Epoch [55/100], Loss: 0.0222, Accuracy: 98.55%\n",
      "Epoch [56/100], Loss: 0.0601, Accuracy: 98.95%\n",
      "Epoch [57/100], Loss: 0.0098, Accuracy: 98.92%\n",
      "Epoch [58/100], Loss: 0.0404, Accuracy: 98.66%\n",
      "Epoch [59/100], Loss: 0.1282, Accuracy: 97.32%\n",
      "Epoch [60/100], Loss: 0.0170, Accuracy: 97.68%\n",
      "Epoch [61/100], Loss: 0.0361, Accuracy: 98.68%\n",
      "Epoch [62/100], Loss: 0.0447, Accuracy: 98.84%\n",
      "Epoch [63/100], Loss: 0.0256, Accuracy: 99.03%\n",
      "Epoch [64/100], Loss: 0.0041, Accuracy: 98.95%\n",
      "Epoch [65/100], Loss: 0.1447, Accuracy: 98.95%\n",
      "Epoch [66/100], Loss: 0.0231, Accuracy: 98.66%\n",
      "Epoch [67/100], Loss: 0.0071, Accuracy: 98.90%\n",
      "Epoch [68/100], Loss: 0.0369, Accuracy: 99.21%\n",
      "Epoch [69/100], Loss: 0.0201, Accuracy: 99.18%\n",
      "Epoch [70/100], Loss: 0.0112, Accuracy: 99.03%\n",
      "Epoch [71/100], Loss: 0.0437, Accuracy: 98.68%\n",
      "Epoch [72/100], Loss: 0.0201, Accuracy: 99.08%\n",
      "Epoch [73/100], Loss: 0.0502, Accuracy: 99.13%\n",
      "Epoch [74/100], Loss: 0.0561, Accuracy: 99.03%\n",
      "Epoch [75/100], Loss: 0.0240, Accuracy: 99.11%\n",
      "Epoch [76/100], Loss: 0.0288, Accuracy: 99.18%\n",
      "Epoch [77/100], Loss: 0.0098, Accuracy: 99.29%\n",
      "Epoch [78/100], Loss: 0.0357, Accuracy: 99.26%\n",
      "Epoch [79/100], Loss: 0.0343, Accuracy: 99.03%\n",
      "Epoch [80/100], Loss: 0.0089, Accuracy: 99.13%\n",
      "Epoch [81/100], Loss: 0.0018, Accuracy: 99.37%\n",
      "Epoch [82/100], Loss: 0.0124, Accuracy: 99.03%\n",
      "Epoch [83/100], Loss: 0.0118, Accuracy: 99.37%\n",
      "Epoch [84/100], Loss: 0.0133, Accuracy: 99.11%\n",
      "Epoch [85/100], Loss: 0.0220, Accuracy: 99.34%\n",
      "Epoch [86/100], Loss: 0.0263, Accuracy: 99.26%\n",
      "Epoch [87/100], Loss: 0.0599, Accuracy: 98.87%\n",
      "Epoch [88/100], Loss: 0.0917, Accuracy: 98.76%\n",
      "Epoch [89/100], Loss: 0.0109, Accuracy: 98.87%\n",
      "Epoch [90/100], Loss: 0.0096, Accuracy: 99.24%\n",
      "Epoch [91/100], Loss: 0.0188, Accuracy: 98.87%\n",
      "Epoch [92/100], Loss: 0.0040, Accuracy: 99.13%\n",
      "Epoch [93/100], Loss: 0.0038, Accuracy: 99.13%\n",
      "Epoch [94/100], Loss: 0.0039, Accuracy: 99.16%\n",
      "Epoch [95/100], Loss: 0.0090, Accuracy: 99.24%\n",
      "Epoch [96/100], Loss: 0.0009, Accuracy: 99.03%\n",
      "Epoch [97/100], Loss: 0.0027, Accuracy: 99.08%\n",
      "Epoch [98/100], Loss: 0.0360, Accuracy: 99.34%\n",
      "Epoch [99/100], Loss: 0.0352, Accuracy: 99.18%\n",
      "Epoch [100/100], Loss: 0.0066, Accuracy: 99.16%\n"
     ]
    }
   ],
   "source": [
    "# Training loop\n",
    "num_epochs = 100 # Number of epochs for fine-tuning\n",
    "\n",
    "# Initialize variables for tracking accuracy\n",
    "total_samples = 0\n",
    "correct_samples = 0\n",
    "\n",
    "for epoch in range(num_epochs):\n",
    "    for x_batch, y_batch in train_dataloader:  \n",
    "        x_batch, y_batch = x_batch.to(device), y_batch.to(device)\n",
    "        y_batch = y_batch.squeeze()\n",
    "        #print(y_batch.shape)\n",
    "        # Forward pass\n",
    "        outputs = model(x_batch)\n",
    "        #print(outputs.shape)\n",
    "        # Compute loss\n",
    "        loss = classification_loss(outputs, y_batch)\n",
    "        \n",
    "        # Zero gradients\n",
    "        optimizer.zero_grad()\n",
    "        \n",
    "        # Backward pass\n",
    "        loss.backward()\n",
    "        \n",
    "        # Update parameters\n",
    "        optimizer.step()\n",
    "        \n",
    "        # Compute accuracy\n",
    "        _, predicted = torch.max(outputs.data, 1)\n",
    "        total_samples += y_batch.size(0)\n",
    "        correct_samples += (predicted == y_batch).sum().item()\n",
    "\n",
    "    # Calculate accuracy for this epoch\n",
    "    epoch_accuracy = 100 * correct_samples / total_samples\n",
    "\n",
    "    # Logging\n",
    "    print(f'Epoch [{epoch+1}/{num_epochs}], Loss: {loss.item():.4f}, Accuracy: {epoch_accuracy:.2f}%')\n",
    "\n",
    "    # Reset accuracy tracking variables for the next epoch\n",
    "    total_samples = 0\n",
    "    correct_samples = 0"
   ]
  },
  {
   "cell_type": "markdown",
   "id": "3c386ffa-813a-4626-a6ff-78205dc16ad5",
   "metadata": {},
   "source": [
    "## Testing"
   ]
  },
  {
   "cell_type": "code",
   "execution_count": 115,
   "id": "4144c999-857d-4ab6-83d1-ab6b99b6315c",
   "metadata": {},
   "outputs": [
    {
     "name": "stdout",
     "output_type": "stream",
     "text": [
      "Test Accuracy: 95.37%\n"
     ]
    },
    {
     "data": {
      "text/plain": [
       "EmbeddingModel(\n",
       "  (layer1): Linear(in_features=150, out_features=100, bias=True)\n",
       "  (layer2): Linear(in_features=100, out_features=50, bias=True)\n",
       "  (layer4): Linear(in_features=50, out_features=11, bias=True)\n",
       ")"
      ]
     },
     "execution_count": 115,
     "metadata": {},
     "output_type": "execute_result"
    }
   ],
   "source": [
    "model.eval()\n",
    "\n",
    "# Initialize variables for tracking accuracy\n",
    "total_samples = 0\n",
    "correct_samples = 0\n",
    "all_preds = []\n",
    "all_labels = []\n",
    "# Disable gradient calculation\n",
    "with torch.no_grad():\n",
    "    for x_batch, y_batch in test_dataloader:  \n",
    "        x_batch, y_batch = x_batch.to(device), y_batch.to(device)\n",
    "        y_batch = y_batch.squeeze()\n",
    "        \n",
    "        # Forward pass\n",
    "        outputs = model(x_batch)\n",
    "        \n",
    "        # Compute accuracy\n",
    "        _, predicted = torch.max(outputs.data, 1)\n",
    "        all_preds.extend(predicted.cpu().numpy())\n",
    "        all_labels.extend(y_batch.cpu().numpy())\n",
    "        total_samples += y_batch.size(0)\n",
    "        correct_samples += (predicted == y_batch).sum().item()\n",
    "\n",
    "# Calculate accuracy for the test set\n",
    "test_accuracy = 100 * correct_samples / total_samples\n",
    "\n",
    "print(f'Test Accuracy: {test_accuracy:.2f}%')\n",
    "\n",
    "# Set the model back to training mode (optional if you continue training afterwards)\n",
    "model.train()"
   ]
  },
  {
   "cell_type": "code",
   "execution_count": 116,
   "id": "34006a7e-ab09-4806-bf81-c5fbce8d89b2",
   "metadata": {},
   "outputs": [
    {
     "data": {
      "image/png": "[encoded data removed]",
      "text/plain": [
       "<Figure size 576x684 with 1 Axes>"
      ]
     },
     "metadata": {
      "needs_background": "light"
     },
     "output_type": "display_data"
    }
   ],
   "source": [
    "import shap\n",
    "import torch\n",
    "\n",
    "# Initialize your DataLoader and model\n",
    "# Assuming 'train_dataloader' and 'test_dataloader' are already created\n",
    "# Assuming 'model' is your trained PyTorch model\n",
    "\n",
    "# Move the model to CPU\n",
    "model = model.to('cpu')\n",
    "\n",
    "# Make sure the model is in evaluation mode\n",
    "model.eval()\n",
    "\n",
    "# Collect some test examples\n",
    "test_data_list = []\n",
    "test_label_list = []\n",
    "\n",
    "with torch.no_grad():\n",
    "    for data, labels in test_dataloader:\n",
    "        # Move the data and labels to CPU\n",
    "        data = data.to('cpu')\n",
    "        labels = labels.to('cpu')\n",
    "        \n",
    "        test_data_list.append(data)\n",
    "        test_label_list.append(labels)\n",
    "        \n",
    "        # Assuming you only want to collect a few batches\n",
    "        if len(test_data_list) > 3:\n",
    "            break\n",
    "\n",
    "# Concatenate all the test data and labels\n",
    "test_data_tensor = torch.cat(test_data_list, dim=0)\n",
    "test_label_tensor = torch.cat(test_label_list, dim=0)\n",
    "\n",
    "# Choose a background dataset for SHAP, usually a small random subset of the training data\n",
    "background_data = next(iter(train_dataloader))[0][:].to('cpu')  # 100 instances from your training data, moved to CPU\n",
    "\n",
    "# Initialize SHAP explainer\n",
    "explainer = shap.DeepExplainer(model, background_data)\n",
    "\n",
    "# Compute SHAP values for the test data\n",
    "shap_values = explainer.shap_values(test_data_tensor)\n",
    "\n",
    "\n",
    "# Generate SHAP summary plot\n",
    "shap.summary_plot(shap_values, test_data_tensor, plot_type=\"bar\", feature_names=ostat_labels)\n"
   ]
  },
  {
   "cell_type": "markdown",
   "id": "f830d8c4-51c5-45b3-ae00-1e9ff28a93d1",
   "metadata": {},
   "source": [
    "## Permutation importance"
   ]
  },
  {
   "cell_type": "code",
   "execution_count": 117,
   "id": "1c73f272-1d3c-42bf-bb31-a6f1b05f54d4",
   "metadata": {},
   "outputs": [],
   "source": [
    "# Function to compute test accuracy\n",
    "import copy\n",
    "def compute_test_accuracy(model, dataloader, device):\n",
    "    model.eval()\n",
    "    total_samples = 0\n",
    "    correct_samples = 0\n",
    "    with torch.no_grad():\n",
    "        for x_batch, y_batch in dataloader:\n",
    "            x_batch, y_batch = x_batch.to(device), y_batch.to(device)\n",
    "            y_batch = y_batch.squeeze()\n",
    "            outputs = model(x_batch)\n",
    "            _, predicted = torch.max(outputs.data, 1)\n",
    "            total_samples += y_batch.size(0)\n",
    "            correct_samples += (predicted == y_batch).sum().item()\n",
    "    return 100 * correct_samples / total_samples"
   ]
  },
  {
   "cell_type": "code",
   "execution_count": 119,
   "id": "ec71d3dc-b7f8-4285-be8a-da045d3503d2",
   "metadata": {},
   "outputs": [
    {
     "ename": "RuntimeError",
     "evalue": "Expected all tensors to be on the same device, but found at least two devices, cpu and cuda:0! (when checking argument for argument mat1 in method wrapper_addmm)",
     "output_type": "error",
     "traceback": [
      "\u001b[0;31m---------------------------------------------------------------------------\u001b[0m",
      "\u001b[0;31mRuntimeError\u001b[0m                              Traceback (most recent call last)",
      "Input \u001b[0;32mIn [119]\u001b[0m, in \u001b[0;36m<cell line: 20>\u001b[0;34m()\u001b[0m\n\u001b[1;32m     32\u001b[0m         permuted_dataloader \u001b[38;5;241m=\u001b[39m DataLoader(permuted_dataset, batch_size\u001b[38;5;241m=\u001b[39mbatches, shuffle\u001b[38;5;241m=\u001b[39m\u001b[38;5;28;01mFalse\u001b[39;00m)\n\u001b[1;32m     34\u001b[0m         \u001b[38;5;66;03m# Compute accuracy with permuted data\u001b[39;00m\n\u001b[0;32m---> 35\u001b[0m         permuted_accuracy \u001b[38;5;241m=\u001b[39m \u001b[43mcompute_test_accuracy\u001b[49m\u001b[43m(\u001b[49m\u001b[43mmodel\u001b[49m\u001b[43m,\u001b[49m\u001b[43m \u001b[49m\u001b[43mpermuted_dataloader\u001b[49m\u001b[43m,\u001b[49m\u001b[43m \u001b[49m\u001b[43mdevice\u001b[49m\u001b[43m)\u001b[49m\n\u001b[1;32m     36\u001b[0m         permuted_accuracies[i, j] \u001b[38;5;241m=\u001b[39m permuted_accuracy\n\u001b[1;32m     39\u001b[0m mean_drops \u001b[38;5;241m=\u001b[39m np\u001b[38;5;241m.\u001b[39mmean(original_test_accuracy \u001b[38;5;241m-\u001b[39m permuted_accuracies, axis\u001b[38;5;241m=\u001b[39m\u001b[38;5;241m1\u001b[39m)\n",
      "Input \u001b[0;32mIn [117]\u001b[0m, in \u001b[0;36mcompute_test_accuracy\u001b[0;34m(model, dataloader, device)\u001b[0m\n\u001b[1;32m      9\u001b[0m x_batch, y_batch \u001b[38;5;241m=\u001b[39m x_batch\u001b[38;5;241m.\u001b[39mto(device), y_batch\u001b[38;5;241m.\u001b[39mto(device)\n\u001b[1;32m     10\u001b[0m y_batch \u001b[38;5;241m=\u001b[39m y_batch\u001b[38;5;241m.\u001b[39msqueeze()\n\u001b[0;32m---> 11\u001b[0m outputs \u001b[38;5;241m=\u001b[39m \u001b[43mmodel\u001b[49m\u001b[43m(\u001b[49m\u001b[43mx_batch\u001b[49m\u001b[43m)\u001b[49m\n\u001b[1;32m     12\u001b[0m _, predicted \u001b[38;5;241m=\u001b[39m torch\u001b[38;5;241m.\u001b[39mmax(outputs\u001b[38;5;241m.\u001b[39mdata, \u001b[38;5;241m1\u001b[39m)\n\u001b[1;32m     13\u001b[0m total_samples \u001b[38;5;241m+\u001b[39m\u001b[38;5;241m=\u001b[39m y_batch\u001b[38;5;241m.\u001b[39msize(\u001b[38;5;241m0\u001b[39m)\n",
      "File \u001b[0;32m/state/partition1/llgrid/pkg/anaconda/anaconda3-2022a/lib/python3.8/site-packages/torch/nn/modules/module.py:1110\u001b[0m, in \u001b[0;36mModule._call_impl\u001b[0;34m(self, *input, **kwargs)\u001b[0m\n\u001b[1;32m   1106\u001b[0m \u001b[38;5;66;03m# If we don't have any hooks, we want to skip the rest of the logic in\u001b[39;00m\n\u001b[1;32m   1107\u001b[0m \u001b[38;5;66;03m# this function, and just call forward.\u001b[39;00m\n\u001b[1;32m   1108\u001b[0m \u001b[38;5;28;01mif\u001b[39;00m \u001b[38;5;129;01mnot\u001b[39;00m (\u001b[38;5;28mself\u001b[39m\u001b[38;5;241m.\u001b[39m_backward_hooks \u001b[38;5;129;01mor\u001b[39;00m \u001b[38;5;28mself\u001b[39m\u001b[38;5;241m.\u001b[39m_forward_hooks \u001b[38;5;129;01mor\u001b[39;00m \u001b[38;5;28mself\u001b[39m\u001b[38;5;241m.\u001b[39m_forward_pre_hooks \u001b[38;5;129;01mor\u001b[39;00m _global_backward_hooks\n\u001b[1;32m   1109\u001b[0m         \u001b[38;5;129;01mor\u001b[39;00m _global_forward_hooks \u001b[38;5;129;01mor\u001b[39;00m _global_forward_pre_hooks):\n\u001b[0;32m-> 1110\u001b[0m     \u001b[38;5;28;01mreturn\u001b[39;00m \u001b[43mforward_call\u001b[49m\u001b[43m(\u001b[49m\u001b[38;5;241;43m*\u001b[39;49m\u001b[38;5;28;43minput\u001b[39;49m\u001b[43m,\u001b[49m\u001b[43m \u001b[49m\u001b[38;5;241;43m*\u001b[39;49m\u001b[38;5;241;43m*\u001b[39;49m\u001b[43mkwargs\u001b[49m\u001b[43m)\u001b[49m\n\u001b[1;32m   1111\u001b[0m \u001b[38;5;66;03m# Do not call functions when jit is used\u001b[39;00m\n\u001b[1;32m   1112\u001b[0m full_backward_hooks, non_full_backward_hooks \u001b[38;5;241m=\u001b[39m [], []\n",
      "Input \u001b[0;32mIn [112]\u001b[0m, in \u001b[0;36mEmbeddingModel.forward\u001b[0;34m(self, x)\u001b[0m\n\u001b[1;32m      8\u001b[0m \u001b[38;5;28;01mdef\u001b[39;00m \u001b[38;5;21mforward\u001b[39m(\u001b[38;5;28mself\u001b[39m, x):\n\u001b[0;32m----> 9\u001b[0m     x \u001b[38;5;241m=\u001b[39m F\u001b[38;5;241m.\u001b[39mrelu(\u001b[38;5;28;43mself\u001b[39;49m\u001b[38;5;241;43m.\u001b[39;49m\u001b[43mlayer1\u001b[49m\u001b[43m(\u001b[49m\u001b[43mx\u001b[49m\u001b[43m)\u001b[49m)\n\u001b[1;32m     10\u001b[0m     x \u001b[38;5;241m=\u001b[39m F\u001b[38;5;241m.\u001b[39mrelu(\u001b[38;5;28mself\u001b[39m\u001b[38;5;241m.\u001b[39mlayer2(x))\n\u001b[1;32m     11\u001b[0m     x \u001b[38;5;241m=\u001b[39m \u001b[38;5;28mself\u001b[39m\u001b[38;5;241m.\u001b[39mlayer4(x)\n",
      "File \u001b[0;32m/state/partition1/llgrid/pkg/anaconda/anaconda3-2022a/lib/python3.8/site-packages/torch/nn/modules/module.py:1110\u001b[0m, in \u001b[0;36mModule._call_impl\u001b[0;34m(self, *input, **kwargs)\u001b[0m\n\u001b[1;32m   1106\u001b[0m \u001b[38;5;66;03m# If we don't have any hooks, we want to skip the rest of the logic in\u001b[39;00m\n\u001b[1;32m   1107\u001b[0m \u001b[38;5;66;03m# this function, and just call forward.\u001b[39;00m\n\u001b[1;32m   1108\u001b[0m \u001b[38;5;28;01mif\u001b[39;00m \u001b[38;5;129;01mnot\u001b[39;00m (\u001b[38;5;28mself\u001b[39m\u001b[38;5;241m.\u001b[39m_backward_hooks \u001b[38;5;129;01mor\u001b[39;00m \u001b[38;5;28mself\u001b[39m\u001b[38;5;241m.\u001b[39m_forward_hooks \u001b[38;5;129;01mor\u001b[39;00m \u001b[38;5;28mself\u001b[39m\u001b[38;5;241m.\u001b[39m_forward_pre_hooks \u001b[38;5;129;01mor\u001b[39;00m _global_backward_hooks\n\u001b[1;32m   1109\u001b[0m         \u001b[38;5;129;01mor\u001b[39;00m _global_forward_hooks \u001b[38;5;129;01mor\u001b[39;00m _global_forward_pre_hooks):\n\u001b[0;32m-> 1110\u001b[0m     \u001b[38;5;28;01mreturn\u001b[39;00m \u001b[43mforward_call\u001b[49m\u001b[43m(\u001b[49m\u001b[38;5;241;43m*\u001b[39;49m\u001b[38;5;28;43minput\u001b[39;49m\u001b[43m,\u001b[49m\u001b[43m \u001b[49m\u001b[38;5;241;43m*\u001b[39;49m\u001b[38;5;241;43m*\u001b[39;49m\u001b[43mkwargs\u001b[49m\u001b[43m)\u001b[49m\n\u001b[1;32m   1111\u001b[0m \u001b[38;5;66;03m# Do not call functions when jit is used\u001b[39;00m\n\u001b[1;32m   1112\u001b[0m full_backward_hooks, non_full_backward_hooks \u001b[38;5;241m=\u001b[39m [], []\n",
      "File \u001b[0;32m/state/partition1/llgrid/pkg/anaconda/anaconda3-2022a/lib/python3.8/site-packages/torch/nn/modules/linear.py:103\u001b[0m, in \u001b[0;36mLinear.forward\u001b[0;34m(self, input)\u001b[0m\n\u001b[1;32m    102\u001b[0m \u001b[38;5;28;01mdef\u001b[39;00m \u001b[38;5;21mforward\u001b[39m(\u001b[38;5;28mself\u001b[39m, \u001b[38;5;28minput\u001b[39m: Tensor) \u001b[38;5;241m-\u001b[39m\u001b[38;5;241m>\u001b[39m Tensor:\n\u001b[0;32m--> 103\u001b[0m     \u001b[38;5;28;01mreturn\u001b[39;00m \u001b[43mF\u001b[49m\u001b[38;5;241;43m.\u001b[39;49m\u001b[43mlinear\u001b[49m\u001b[43m(\u001b[49m\u001b[38;5;28;43minput\u001b[39;49m\u001b[43m,\u001b[49m\u001b[43m \u001b[49m\u001b[38;5;28;43mself\u001b[39;49m\u001b[38;5;241;43m.\u001b[39;49m\u001b[43mweight\u001b[49m\u001b[43m,\u001b[49m\u001b[43m \u001b[49m\u001b[38;5;28;43mself\u001b[39;49m\u001b[38;5;241;43m.\u001b[39;49m\u001b[43mbias\u001b[49m\u001b[43m)\u001b[49m\n",
      "\u001b[0;31mRuntimeError\u001b[0m: Expected all tensors to be on the same device, but found at least two devices, cpu and cuda:0! (when checking argument for argument mat1 in method wrapper_addmm)"
     ]
    }
   ],
   "source": [
    "from torch.utils.data import DataLoader, TensorDataset\n",
    "\n",
    "n_features = 150\n",
    "n_permutations = 30\n",
    "permuted_accuracies = np.zeros((n_features, n_permutations))\n",
    "\n",
    "# Extract data and labels from DataLoader\n",
    "test_data_list = [batch[0] for batch in test_dataloader]\n",
    "test_labels_list = [batch[1] for batch in test_dataloader]\n",
    "test_data_tensor = torch.cat(test_data_list)\n",
    "test_labels_tensor = torch.cat(test_labels_list)\n",
    "\n",
    "# Convert to NumPy for easier manipulation\n",
    "test_data_array = test_data_tensor.cpu().numpy()\n",
    "test_labels_array = test_labels_tensor.cpu().numpy()\n",
    "\n",
    "# Scale the test data\n",
    "#test_scaled_array = scaler.transform(test_data_array)  # Assuming you have a fitted scaler\n",
    "test_scaled_array = test_data_array\n",
    "for i in range(n_features):\n",
    "    for j in range(n_permutations):\n",
    "        # Shuffle one feature\n",
    "        permuted_data = test_scaled_array.copy()\n",
    "        np.random.shuffle(permuted_data[:, i])\n",
    "        \n",
    "        # Convert back to PyTorch tensors\n",
    "        permuted_data_tensor = torch.tensor(permuted_data, dtype=torch.float32)\n",
    "        permuted_labels_tensor = torch.tensor(test_labels_array, dtype=torch.long)\n",
    "        \n",
    "        # Create a new DataLoader with permuted data\n",
    "        permuted_dataset = TensorDataset(permuted_data_tensor, permuted_labels_tensor)\n",
    "        permuted_dataloader = DataLoader(permuted_dataset, batch_size=batches, shuffle=False)\n",
    "        \n",
    "        # Compute accuracy with permuted data\n",
    "        permuted_accuracy = compute_test_accuracy(model, permuted_dataloader, device)\n",
    "        permuted_accuracies[i, j] = permuted_accuracy\n",
    "\n",
    "        \n",
    "mean_drops = np.mean(original_test_accuracy - permuted_accuracies, axis=1)\n",
    "std_drops = np.std(original_test_accuracy - permuted_accuracies, axis=1)\n",
    "\n",
    "# Most important stats\n",
    "high_drop_indices = np.where(mean_drops > 3)[0]\n",
    "\n",
    "print(\"Indices where mean drop is greater than 3:\", high_drop_indices)"
   ]
  },
  {
   "cell_type": "code",
   "execution_count": 120,
   "id": "adf8a482-cbb3-4da9-8381-25c25f8eed7f",
   "metadata": {},
   "outputs": [
    {
     "ename": "RuntimeError",
     "evalue": "Expected all tensors to be on the same device, but found at least two devices, cpu and cuda:0! (when checking argument for argument mat1 in method wrapper_addmm)",
     "output_type": "error",
     "traceback": [
      "\u001b[0;31m---------------------------------------------------------------------------\u001b[0m",
      "\u001b[0;31mRuntimeError\u001b[0m                              Traceback (most recent call last)",
      "Input \u001b[0;32mIn [120]\u001b[0m, in \u001b[0;36m<cell line: 11>\u001b[0;34m()\u001b[0m\n\u001b[1;32m     19\u001b[0m         permuted_dataloader \u001b[38;5;241m=\u001b[39m DataLoader(permuted_dataset, batch_size\u001b[38;5;241m=\u001b[39mbatches, shuffle\u001b[38;5;241m=\u001b[39m\u001b[38;5;28;01mFalse\u001b[39;00m)\n\u001b[1;32m     21\u001b[0m         \u001b[38;5;66;03m# Compute accuracy with permuted data\u001b[39;00m\n\u001b[0;32m---> 22\u001b[0m         permuted_accuracy \u001b[38;5;241m=\u001b[39m \u001b[43mcompute_test_accuracy\u001b[49m\u001b[43m(\u001b[49m\u001b[43mmodel\u001b[49m\u001b[43m,\u001b[49m\u001b[43m \u001b[49m\u001b[43mpermuted_dataloader\u001b[49m\u001b[43m,\u001b[49m\u001b[43m \u001b[49m\u001b[43mdevice\u001b[49m\u001b[43m)\u001b[49m\n\u001b[1;32m     23\u001b[0m         permuted_accuracies[i, j] \u001b[38;5;241m=\u001b[39m permuted_accuracy\n\u001b[1;32m     25\u001b[0m mean_drops \u001b[38;5;241m=\u001b[39m np\u001b[38;5;241m.\u001b[39mmean(original_test_accuracy \u001b[38;5;241m-\u001b[39m permuted_accuracies, axis\u001b[38;5;241m=\u001b[39m\u001b[38;5;241m1\u001b[39m)\n",
      "Input \u001b[0;32mIn [117]\u001b[0m, in \u001b[0;36mcompute_test_accuracy\u001b[0;34m(model, dataloader, device)\u001b[0m\n\u001b[1;32m      9\u001b[0m x_batch, y_batch \u001b[38;5;241m=\u001b[39m x_batch\u001b[38;5;241m.\u001b[39mto(device), y_batch\u001b[38;5;241m.\u001b[39mto(device)\n\u001b[1;32m     10\u001b[0m y_batch \u001b[38;5;241m=\u001b[39m y_batch\u001b[38;5;241m.\u001b[39msqueeze()\n\u001b[0;32m---> 11\u001b[0m outputs \u001b[38;5;241m=\u001b[39m \u001b[43mmodel\u001b[49m\u001b[43m(\u001b[49m\u001b[43mx_batch\u001b[49m\u001b[43m)\u001b[49m\n\u001b[1;32m     12\u001b[0m _, predicted \u001b[38;5;241m=\u001b[39m torch\u001b[38;5;241m.\u001b[39mmax(outputs\u001b[38;5;241m.\u001b[39mdata, \u001b[38;5;241m1\u001b[39m)\n\u001b[1;32m     13\u001b[0m total_samples \u001b[38;5;241m+\u001b[39m\u001b[38;5;241m=\u001b[39m y_batch\u001b[38;5;241m.\u001b[39msize(\u001b[38;5;241m0\u001b[39m)\n",
      "File \u001b[0;32m/state/partition1/llgrid/pkg/anaconda/anaconda3-2022a/lib/python3.8/site-packages/torch/nn/modules/module.py:1110\u001b[0m, in \u001b[0;36mModule._call_impl\u001b[0;34m(self, *input, **kwargs)\u001b[0m\n\u001b[1;32m   1106\u001b[0m \u001b[38;5;66;03m# If we don't have any hooks, we want to skip the rest of the logic in\u001b[39;00m\n\u001b[1;32m   1107\u001b[0m \u001b[38;5;66;03m# this function, and just call forward.\u001b[39;00m\n\u001b[1;32m   1108\u001b[0m \u001b[38;5;28;01mif\u001b[39;00m \u001b[38;5;129;01mnot\u001b[39;00m (\u001b[38;5;28mself\u001b[39m\u001b[38;5;241m.\u001b[39m_backward_hooks \u001b[38;5;129;01mor\u001b[39;00m \u001b[38;5;28mself\u001b[39m\u001b[38;5;241m.\u001b[39m_forward_hooks \u001b[38;5;129;01mor\u001b[39;00m \u001b[38;5;28mself\u001b[39m\u001b[38;5;241m.\u001b[39m_forward_pre_hooks \u001b[38;5;129;01mor\u001b[39;00m _global_backward_hooks\n\u001b[1;32m   1109\u001b[0m         \u001b[38;5;129;01mor\u001b[39;00m _global_forward_hooks \u001b[38;5;129;01mor\u001b[39;00m _global_forward_pre_hooks):\n\u001b[0;32m-> 1110\u001b[0m     \u001b[38;5;28;01mreturn\u001b[39;00m \u001b[43mforward_call\u001b[49m\u001b[43m(\u001b[49m\u001b[38;5;241;43m*\u001b[39;49m\u001b[38;5;28;43minput\u001b[39;49m\u001b[43m,\u001b[49m\u001b[43m \u001b[49m\u001b[38;5;241;43m*\u001b[39;49m\u001b[38;5;241;43m*\u001b[39;49m\u001b[43mkwargs\u001b[49m\u001b[43m)\u001b[49m\n\u001b[1;32m   1111\u001b[0m \u001b[38;5;66;03m# Do not call functions when jit is used\u001b[39;00m\n\u001b[1;32m   1112\u001b[0m full_backward_hooks, non_full_backward_hooks \u001b[38;5;241m=\u001b[39m [], []\n",
      "Input \u001b[0;32mIn [112]\u001b[0m, in \u001b[0;36mEmbeddingModel.forward\u001b[0;34m(self, x)\u001b[0m\n\u001b[1;32m      8\u001b[0m \u001b[38;5;28;01mdef\u001b[39;00m \u001b[38;5;21mforward\u001b[39m(\u001b[38;5;28mself\u001b[39m, x):\n\u001b[0;32m----> 9\u001b[0m     x \u001b[38;5;241m=\u001b[39m F\u001b[38;5;241m.\u001b[39mrelu(\u001b[38;5;28;43mself\u001b[39;49m\u001b[38;5;241;43m.\u001b[39;49m\u001b[43mlayer1\u001b[49m\u001b[43m(\u001b[49m\u001b[43mx\u001b[49m\u001b[43m)\u001b[49m)\n\u001b[1;32m     10\u001b[0m     x \u001b[38;5;241m=\u001b[39m F\u001b[38;5;241m.\u001b[39mrelu(\u001b[38;5;28mself\u001b[39m\u001b[38;5;241m.\u001b[39mlayer2(x))\n\u001b[1;32m     11\u001b[0m     x \u001b[38;5;241m=\u001b[39m \u001b[38;5;28mself\u001b[39m\u001b[38;5;241m.\u001b[39mlayer4(x)\n",
      "File \u001b[0;32m/state/partition1/llgrid/pkg/anaconda/anaconda3-2022a/lib/python3.8/site-packages/torch/nn/modules/module.py:1110\u001b[0m, in \u001b[0;36mModule._call_impl\u001b[0;34m(self, *input, **kwargs)\u001b[0m\n\u001b[1;32m   1106\u001b[0m \u001b[38;5;66;03m# If we don't have any hooks, we want to skip the rest of the logic in\u001b[39;00m\n\u001b[1;32m   1107\u001b[0m \u001b[38;5;66;03m# this function, and just call forward.\u001b[39;00m\n\u001b[1;32m   1108\u001b[0m \u001b[38;5;28;01mif\u001b[39;00m \u001b[38;5;129;01mnot\u001b[39;00m (\u001b[38;5;28mself\u001b[39m\u001b[38;5;241m.\u001b[39m_backward_hooks \u001b[38;5;129;01mor\u001b[39;00m \u001b[38;5;28mself\u001b[39m\u001b[38;5;241m.\u001b[39m_forward_hooks \u001b[38;5;129;01mor\u001b[39;00m \u001b[38;5;28mself\u001b[39m\u001b[38;5;241m.\u001b[39m_forward_pre_hooks \u001b[38;5;129;01mor\u001b[39;00m _global_backward_hooks\n\u001b[1;32m   1109\u001b[0m         \u001b[38;5;129;01mor\u001b[39;00m _global_forward_hooks \u001b[38;5;129;01mor\u001b[39;00m _global_forward_pre_hooks):\n\u001b[0;32m-> 1110\u001b[0m     \u001b[38;5;28;01mreturn\u001b[39;00m \u001b[43mforward_call\u001b[49m\u001b[43m(\u001b[49m\u001b[38;5;241;43m*\u001b[39;49m\u001b[38;5;28;43minput\u001b[39;49m\u001b[43m,\u001b[49m\u001b[43m \u001b[49m\u001b[38;5;241;43m*\u001b[39;49m\u001b[38;5;241;43m*\u001b[39;49m\u001b[43mkwargs\u001b[49m\u001b[43m)\u001b[49m\n\u001b[1;32m   1111\u001b[0m \u001b[38;5;66;03m# Do not call functions when jit is used\u001b[39;00m\n\u001b[1;32m   1112\u001b[0m full_backward_hooks, non_full_backward_hooks \u001b[38;5;241m=\u001b[39m [], []\n",
      "File \u001b[0;32m/state/partition1/llgrid/pkg/anaconda/anaconda3-2022a/lib/python3.8/site-packages/torch/nn/modules/linear.py:103\u001b[0m, in \u001b[0;36mLinear.forward\u001b[0;34m(self, input)\u001b[0m\n\u001b[1;32m    102\u001b[0m \u001b[38;5;28;01mdef\u001b[39;00m \u001b[38;5;21mforward\u001b[39m(\u001b[38;5;28mself\u001b[39m, \u001b[38;5;28minput\u001b[39m: Tensor) \u001b[38;5;241m-\u001b[39m\u001b[38;5;241m>\u001b[39m Tensor:\n\u001b[0;32m--> 103\u001b[0m     \u001b[38;5;28;01mreturn\u001b[39;00m \u001b[43mF\u001b[49m\u001b[38;5;241;43m.\u001b[39;49m\u001b[43mlinear\u001b[49m\u001b[43m(\u001b[49m\u001b[38;5;28;43minput\u001b[39;49m\u001b[43m,\u001b[49m\u001b[43m \u001b[49m\u001b[38;5;28;43mself\u001b[39;49m\u001b[38;5;241;43m.\u001b[39;49m\u001b[43mweight\u001b[49m\u001b[43m,\u001b[49m\u001b[43m \u001b[49m\u001b[38;5;28;43mself\u001b[39;49m\u001b[38;5;241;43m.\u001b[39;49m\u001b[43mbias\u001b[49m\u001b[43m)\u001b[49m\n",
      "\u001b[0;31mRuntimeError\u001b[0m: Expected all tensors to be on the same device, but found at least two devices, cpu and cuda:0! (when checking argument for argument mat1 in method wrapper_addmm)"
     ]
    }
   ],
   "source": [
    "n_features = 150\n",
    "n_permutations = 30\n",
    "permuted_accuracies = np.zeros((n_features, n_permutations))\n",
    "\n",
    "# Extract data and labels from DataLoader\n",
    "test_data_list = [batch[0] for batch in test_dataloader]\n",
    "test_labels_list = [batch[1] for batch in test_dataloader]\n",
    "test_data_tensor = torch.cat(test_data_list).to(device)  # Make sure it's on the GPU\n",
    "test_labels_tensor = torch.cat(test_labels_list).to(device)  # Make sure it's on the GPU\n",
    "\n",
    "for i in range(n_features):\n",
    "    for j in range(n_permutations):\n",
    "        # Shuffle one feature directly on the GPU\n",
    "        permuted_data = test_data_tensor.clone()\n",
    "        permuted_data[:, i] = permuted_data[torch.randperm(permuted_data.size()[0]), i]\n",
    "        \n",
    "        # Create a new DataLoader with permuted data\n",
    "        permuted_dataset = TensorDataset(permuted_data, test_labels_tensor)\n",
    "        permuted_dataloader = DataLoader(permuted_dataset, batch_size=batches, shuffle=False)\n",
    "        \n",
    "        # Compute accuracy with permuted data\n",
    "        permuted_accuracy = compute_test_accuracy(model, permuted_dataloader, device)\n",
    "        permuted_accuracies[i, j] = permuted_accuracy\n",
    "\n",
    "mean_drops = np.mean(original_test_accuracy - permuted_accuracies, axis=1)\n",
    "std_drops = np.std(original_test_accuracy - permuted_accuracies, axis=1)\n",
    "\n",
    "# Most important stats\n",
    "high_drop_indices = np.where(mean_drops > 3)[0]\n",
    "\n",
    "print(\"Indices where mean drop is greater than 3:\", high_drop_indices)"
   ]
  },
  {
   "cell_type": "code",
   "execution_count": null,
   "id": "8305fbb0-a33a-4618-88b4-f90dd3fb04d0",
   "metadata": {},
   "outputs": [],
   "source": []
  }
 ],
 "metadata": {
  "kernelspec": {
   "display_name": "Python 3 (ipykernel)",
   "language": "python",
   "name": "python3"
  },
  "language_info": {
   "codemirror_mode": {
    "name": "ipython",
    "version": 3
   },
   "file_extension": ".py",
   "mimetype": "text/x-python",
   "name": "python",
   "nbconvert_exporter": "python",
   "pygments_lexer": "ipython3",
   "version": "3.8.13"
  }
 },
 "nbformat": 4,
 "nbformat_minor": 5
}
