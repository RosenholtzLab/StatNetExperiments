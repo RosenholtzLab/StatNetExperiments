{
 "cells": [
  {
   "cell_type": "code",
   "execution_count": null,
   "id": "392b2e0e-e35f-46ca-9f3d-4b95242718d7",
   "metadata": {
    "tags": []
   },
   "outputs": [
    {
     "ename": "ModuleNotFoundError",
     "evalue": "No module named 'utils'",
     "output_type": "error",
     "traceback": [
      "\u001b[0;31m---------------------------------------------------------------------------\u001b[0m",
      "\u001b[0;31mModuleNotFoundError\u001b[0m                       Traceback (most recent call last)",
      "Input \u001b[0;32mIn [1]\u001b[0m, in \u001b[0;36m<cell line: 15>\u001b[0;34m()\u001b[0m\n\u001b[1;32m     13\u001b[0m \u001b[38;5;28;01mimport\u001b[39;00m \u001b[38;5;21;01mos\u001b[39;00m\n\u001b[1;32m     14\u001b[0m sys\u001b[38;5;241m.\u001b[39mpath\u001b[38;5;241m.\u001b[39mappend(\u001b[38;5;124m'\u001b[39m\u001b[38;5;124m/home/gridsan/ckoevesdi/PooledStatisticsMetamers/poolstatmetamer/\u001b[39m\u001b[38;5;124m'\u001b[39m)\n\u001b[0;32m---> 15\u001b[0m \u001b[38;5;28;01mimport\u001b[39;00m \u001b[38;5;21;01mutils\u001b[39;00m\u001b[38;5;21;01m.\u001b[39;00m\u001b[38;5;21;01mstatnetencoder\u001b[39;00m \u001b[38;5;28;01mas\u001b[39;00m \u001b[38;5;21;01msne\u001b[39;00m\n\u001b[1;32m     16\u001b[0m \u001b[38;5;28;01mimport\u001b[39;00m \u001b[38;5;21;01mimportlib\u001b[39;00m\n\u001b[1;32m     17\u001b[0m \u001b[38;5;28;01mimport\u001b[39;00m \u001b[38;5;21;01mimp\u001b[39;00m\n",
      "\u001b[0;31mModuleNotFoundError\u001b[0m: No module named 'utils'"
     ]
    }
   ],
   "source": [
    "import torch\n",
    "import torchvision\n",
    "import torchvision.transforms as transforms\n",
    "import torch.utils.data as data\n",
    "from torch.utils.data import DataLoader\n",
    "import torch.nn as nn\n",
    "import sys\n",
    "import matplotlib.pyplot as plt\n",
    "from tsne_torch import TorchTSNE\n",
    "import numpy as np\n",
    "sys.path.append('/home/gridsan/ckoevesdi/.local/lib/python3.9/site-packages/')\n",
    "from pytorch_metric_learning import losses\n",
    "import os\n",
    "sys.path.append('/home/gridsan/ckoevesdi/PooledStatisticsMetamers/poolstatmetamer/')\n",
    "import utils.statnetencoder as sne\n",
    "import importlib\n",
    "import imp\n",
    "import torch.nn.functional as F\n",
    "\n",
    "#!wget https://raw.githubusercontent.com/pytorch/pytorch/master/torch/utils/collect_env.py\n",
    "\n",
    "#sys.path.append(r'C:\\Users\\chris\\Documents\\MIT\\Statistics_analysis_code\\PyTorchSteerablePyramid')\n",
    "sys.path.append('/home/gridsan/ckoevesdi/PyTorchSteerablePyramid/')\n",
    "import steerable\n",
    "import steerable.utils as utils\n",
    "from steerable.SCFpyr_PyTorch import SCFpyr_PyTorch\n",
    "\n",
    "torch.manual_seed(16)\n",
    "\n",
    "#use GPU 2\n",
    "device = torch.device('cuda:0') if torch.cuda.is_available() else torch.device('cpu')"
   ]
  },
  {
   "cell_type": "code",
   "execution_count": null,
   "id": "c0179c80-c747-4963-ba5f-5e0696a83e42",
   "metadata": {},
   "outputs": [],
   "source": [
    "from torch.utils.data import Dataset\n",
    "from PIL import Image\n",
    "import os\n",
    "\n",
    "class KTHImageDataset(Dataset):\n",
    "    def __init__(self, root_dir, transform=None):\n",
    "        self.root_dir = root_dir\n",
    "        self.transform = transform\n",
    "        self.samples = []\n",
    "        \n",
    "        # Filtering only directories for classes\n",
    "        self.classes = [d for d in os.listdir(root_dir) if os.path.isdir(os.path.join(root_dir, d))]\n",
    "\n",
    "        for label, class_name in enumerate(self.classes):\n",
    "            class_dir = os.path.join(root_dir, class_name)\n",
    "            for sample_folder in os.listdir(class_dir):\n",
    "                sample_folder_path = os.path.join(class_dir, sample_folder)\n",
    "                for filename in os.listdir(sample_folder_path):\n",
    "                    img_path = os.path.join(sample_folder_path, filename)\n",
    "                    self.samples.append((img_path, label))\n",
    "\n",
    "    def __len__(self):\n",
    "        return len(self.samples)\n",
    "\n",
    "    def __getitem__(self, idx):\n",
    "        img_path, label = self.samples[idx]\n",
    "        image = Image.open(img_path).convert(\"RGB\")\n",
    "        \n",
    "        if self.transform:\n",
    "            image = self.transform(image)\n",
    "        \n",
    "        return image, label\n",
    "\n",
    "# Specify transformations\n",
    "transform = transforms.Compose([\n",
    "    transforms.Resize((200, 200)),\n",
    "    transforms.Grayscale(),\n",
    "    transforms.ToTensor(),  \n",
    "    transforms.ConvertImageDtype(torch.float32)\n",
    "])\n",
    "\n",
    "# Initialize dataset and dataloader\n",
    "sys.path.append('/home/gridsan/ckoevesdi/data_KTH/KTH-TIPS2-b/')\n",
    "\n",
    "root_dir = '/home/gridsan/ckoevesdi/data_KTH/KTH-TIPS2-b/'\n",
    "dataset = KTHImageDataset(root_dir=root_dir, transform=transform)\n",
    "brucy_dataloader = DataLoader(dataset, batch_size=1, shuffle=False)"
   ]
  },
  {
   "cell_type": "code",
   "execution_count": null,
   "id": "7b085b67-b033-49b2-9b14-5b9c6cfd022e",
   "metadata": {},
   "outputs": [],
   "source": [
    "ostat_labels = ['mean', 'variance', 'bandpass_variance 0', 'variance 1', 'skew 1', 'kurtosis 1', 'variance 2', 'skew 2', 'kurtosis 2', 'variance 3', 'skew 3', 'kurtosis 3', 'variance 4', 'skew 4', 'kurtosis 4', 'variance 5', 'skew 5', 'kurtosis 5', 'edge_mean 1 0', 'edge_variance 1 0', 'edge_correlation (1, 2) 0', 'edge_stop 1 0', 'edge_mean 1 1', 'edge_variance 1 1', 'edge_correlation (1, 2) 1', 'edge_stop 1 1', 'edge_mean 1 2', 'edge_variance 1 2', 'edge_correlation (1, 2) 2', 'edge_stop 1 2', 'edge_mean 1 3', 'edge_variance 1 3', 'edge_correlation (1, 2) 3', 'edge_stop 1 3', 'edge_correlation 1 (0, 1)', 'edge_correlation 1 (0, 2)', 'edge_correlation 1 (0, 3)', 'edge_correlation 1 (1, 2)', 'edge_correlation 1 (1, 3)', 'edge_correlation 1 (2, 3)', 'edge_mean 2 0', 'edge_variance 2 0', 'edge_correlation (2, 3) 0', 'edge_stop 2 0', 'edge_mean 2 1', 'edge_variance 2 1', 'edge_correlation (2, 3) 1', 'edge_stop 2 1', 'edge_mean 2 2', 'edge_variance 2 2', 'edge_correlation (2, 3) 2', 'edge_stop 2 2', 'edge_mean 2 3', 'edge_variance 2 3', 'edge_correlation (2, 3) 3', 'edge_stop 2 3', 'edge_correlation 2 (0, 1)', 'edge_correlation 2 (0, 2)', 'edge_correlation 2 (0, 3)', 'edge_correlation 2 (1, 2)', 'edge_correlation 2 (1, 3)', 'edge_correlation 2 (2, 3)', 'edge_mean 3 0', 'edge_variance 3 0', 'edge_correlation (3, 4) 0', 'edge_stop 3 0', 'edge_mean 3 1', 'edge_variance 3 1', 'edge_correlation (3, 4) 1', 'edge_stop 3 1', 'edge_mean 3 2', 'edge_variance 3 2', 'edge_correlation (3, 4) 2', 'edge_stop 3 2', 'edge_mean 3 3', 'edge_variance 3 3', 'edge_correlation (3, 4) 3', 'edge_stop 3 3', 'edge_correlation 3 (0, 1)', 'edge_correlation 3 (0, 2)', 'edge_correlation 3 (0, 3)', 'edge_correlation 3 (1, 2)', 'edge_correlation 3 (1, 3)', 'edge_correlation 3 (2, 3)', 'edge_mean 4 0', 'edge_variance 4 0', 'edge_stop 4 0', 'edge_mean 4 1', 'edge_variance 4 1', 'edge_stop 4 1', 'edge_mean 4 2', 'edge_variance 4 2', 'edge_stop 4 2', 'edge_mean 4 3', 'edge_variance 4 3', 'edge_stop 4 3', 'edge_correlation 4 (0, 1)', 'edge_correlation 4 (0, 2)', 'edge_correlation 4 (0, 3)', 'edge_correlation 4 (1, 2)', 'edge_correlation 4 (1, 3)', 'edge_correlation 4 (2, 3)', 'phase_correlation 1 er (0, 1)', 'phase_correlation 1 er (0, 2)', 'phase_correlation 1 er (0, 3)', 'phase_correlation 1 er (1, 2)', 'phase_correlation 1 er (1, 3)', 'phase_correlation 1 er (2, 3)', 'phase_correlation (1, 2) ei*di 0', 'phase_correlation (1, 2) er*di 0', 'phase_correlation (1, 2) ei*di 1', 'phase_correlation (1, 2) er*di 1', 'phase_correlation (1, 2) ei*di 2', 'phase_correlation (1, 2) er*di 2', 'phase_correlation (1, 2) ei*di 3', 'phase_correlation (1, 2) er*di 3', 'phase_correlation 2 er (0, 1)', 'phase_correlation 2 er (0, 2)', 'phase_correlation 2 er (0, 3)', 'phase_correlation 2 er (1, 2)', 'phase_correlation 2 er (1, 3)', 'phase_correlation 2 er (2, 3)', 'phase_correlation (2, 3) ei*di 0', 'phase_correlation (2, 3) er*di 0', 'phase_correlation (2, 3) ei*di 1', 'phase_correlation (2, 3) er*di 1', 'phase_correlation (2, 3) ei*di 2', 'phase_correlation (2, 3) er*di 2', 'phase_correlation (2, 3) ei*di 3', 'phase_correlation (2, 3) er*di 3', 'phase_correlation 3 er (0, 1)', 'phase_correlation 3 er (0, 2)', 'phase_correlation 3 er (0, 3)', 'phase_correlation 3 er (1, 2)', 'phase_correlation 3 er (1, 3)', 'phase_correlation 3 er (2, 3)', 'phase_correlation (3, 4) ei*di 0', 'phase_correlation (3, 4) er*di 0', 'phase_correlation (3, 4) ei*di 1', 'phase_correlation (3, 4) er*di 1', 'phase_correlation (3, 4) ei*di 2', 'phase_correlation (3, 4) er*di 2', 'phase_correlation (3, 4) ei*di 3', 'phase_correlation (3, 4) er*di 3', 'phase_correlation 4 er (0, 1)', 'phase_correlation 4 er (0, 2)', 'phase_correlation 4 er (0, 3)', 'phase_correlation 4 er (1, 2)', 'phase_correlation 4 er (1, 3)', 'phase_correlation 4 er (2, 3)']"
   ]
  },
  {
   "cell_type": "code",
   "execution_count": null,
   "id": "35cb91ee-6cd3-42cb-98f7-3f0dfcdde754",
   "metadata": {},
   "outputs": [
    {
     "ename": "NameError",
     "evalue": "name 'dataset' is not defined",
     "output_type": "error",
     "traceback": [
      "\u001b[0;31m---------------------------------------------------------------------------\u001b[0m",
      "\u001b[0;31mNameError\u001b[0m                                 Traceback (most recent call last)",
      "Input \u001b[0;32mIn [2]\u001b[0m, in \u001b[0;36m<cell line: 1>\u001b[0;34m()\u001b[0m\n\u001b[0;32m----> 1\u001b[0m \u001b[38;5;28mlen\u001b[39m(\u001b[43mdataset\u001b[49m)\n",
      "\u001b[0;31mNameError\u001b[0m: name 'dataset' is not defined"
     ]
    }
   ],
   "source": [
    "len(dataset)"
   ]
  },
  {
   "cell_type": "code",
   "execution_count": null,
   "id": "57588376-c71d-4a48-b20b-60c0e55736d3",
   "metadata": {
    "tags": []
   },
   "outputs": [
    {
     "ename": "NameError",
     "evalue": "name 'brucy_dataloader' is not defined",
     "output_type": "error",
     "traceback": [
      "\u001b[0;31m---------------------------------------------------------------------------\u001b[0m",
      "\u001b[0;31mNameError\u001b[0m                                 Traceback (most recent call last)",
      "Input \u001b[0;32mIn [3]\u001b[0m, in \u001b[0;36m<cell line: 11>\u001b[0;34m()\u001b[0m\n\u001b[1;32m      8\u001b[0m     plt\u001b[38;5;241m.\u001b[39mimshow(np\u001b[38;5;241m.\u001b[39mtranspose(npimg, (\u001b[38;5;241m1\u001b[39m, \u001b[38;5;241m2\u001b[39m, \u001b[38;5;241m0\u001b[39m)))\n\u001b[1;32m     10\u001b[0m \u001b[38;5;66;03m# Get a batch of images and labels\u001b[39;00m\n\u001b[0;32m---> 11\u001b[0m dataiter \u001b[38;5;241m=\u001b[39m \u001b[38;5;28miter\u001b[39m(\u001b[43mbrucy_dataloader\u001b[49m)\n\u001b[1;32m     12\u001b[0m images, labels \u001b[38;5;241m=\u001b[39m dataiter\u001b[38;5;241m.\u001b[39mnext()\n\u001b[1;32m     14\u001b[0m \u001b[38;5;66;03m# Show images and their corresponding labels\u001b[39;00m\n",
      "\u001b[0;31mNameError\u001b[0m: name 'brucy_dataloader' is not defined"
     ]
    }
   ],
   "source": [
    "import matplotlib.pyplot as plt\n",
    "import numpy as np\n",
    "\n",
    "import torchvision\n",
    "def imshow(img):\n",
    "    img = img / 2 + 0.5  # Unnormalize if you have normalized in your transformations\n",
    "    npimg = img.numpy()\n",
    "    plt.imshow(np.transpose(npimg, (1, 2, 0)))\n",
    "\n",
    "# Get a batch of images and labels\n",
    "dataiter = iter(brucy_dataloader)\n",
    "images, labels = dataiter.next()\n",
    "\n",
    "# Show images and their corresponding labels\n",
    "imshow(torchvision.utils.make_grid(images[:8]))\n",
    "print(f'Labels: {labels[:8].tolist()}')\n",
    "plt.show()\n"
   ]
  },
  {
   "cell_type": "code",
   "execution_count": 6,
   "id": "99f8131a-a50f-40ef-803a-f38a0fb143b7",
   "metadata": {},
   "outputs": [
    {
     "name": "stdout",
     "output_type": "stream",
     "text": [
      "Creating solver: pyramid=UBBBBL_6 pooling=WholeImagePooling()\n"
     ]
    },
    {
     "name": "stderr",
     "output_type": "stream",
     "text": [
      "/state/partition1/llgrid/pkg/anaconda/anaconda3-2022a/lib/python3.8/site-packages/torch/functional.py:568: UserWarning: torch.meshgrid: in an upcoming release, it will be required to pass the indexing argument. (Triggered internally at  ../aten/src/ATen/native/TensorShape.cpp:2228.)\n",
      "  return _VF.meshgrid(tensors, **kwargs)  # type: ignore[attr-defined]\n"
     ]
    }
   ],
   "source": [
    "import utils.brucenet as bn\n",
    "brucy = bn.BruceNet(pooling_region_size=1e20, pyramid_params=False, dummy_img = torch.zeros(20,\n",
    "                                     1,\n",
    "                                     200,\n",
    "                                     200)).to(device)"
   ]
  },
  {
   "cell_type": "code",
   "execution_count": 7,
   "id": "1855ae35-ebd0-4c20-b356-09bcb357c168",
   "metadata": {},
   "outputs": [],
   "source": [
    "all_statistics = []\n",
    "\n",
    "for j, (texture_batch, labels) in enumerate(brucy_dataloader):\n",
    "    # Assuming texture_batch has a shape of [20, 5, 1, 128, 128]\n",
    "    #print(texture_batch.shape)\n",
    "    output = texture_batch.to(device)\n",
    "    output = torch.stack([output, output]).squeeze(1)\n",
    "    #print(output.shape)\n",
    "    #print(labels)\n",
    "    statistics = brucy(output)  # This should output a tensor of shape [2, 150]\n",
    "    statistics = statistics[0,:]\n",
    "    #print(statistics[0,:])\n",
    "    # You can now store these statistics, along with the label and original image index\n",
    "    all_statistics.append({\n",
    "        'statistics': statistics.cpu().numpy(),\n",
    "        #'label': labels[i].item(),\n",
    "        'original_image_index': labels.cpu().numpy()\n",
    "    })"
   ]
  },
  {
   "cell_type": "code",
   "execution_count": 56,
   "id": "47a7b386-52c3-4b36-b81f-0115ab69f221",
   "metadata": {},
   "outputs": [
    {
     "name": "stdout",
     "output_type": "stream",
     "text": [
      "(4752, 150)\n"
     ]
    }
   ],
   "source": [
    "from sklearn.preprocessing import StandardScaler\n",
    "from sklearn.preprocessing import MinMaxScaler\n",
    "# Convert the list of dictionaries to a NumPy array or PyTorch tensor\n",
    "statistics_array = np.array([item['statistics'] for item in all_statistics])\n",
    "labels_array = np.array([item['original_image_index'] for item in all_statistics])\n",
    "print(statistics_array.shape)\n",
    "\n",
    "# Standardize\n",
    "scaler = StandardScaler()\n",
    "#scaler = MinMaxScaler()\n",
    "scaled_array = scaler.fit_transform(statistics_array)\n",
    "np.random.shuffle(scaled_array[:, 87])\n",
    "np.random.shuffle(scaled_array[:, 62])\n",
    "np.random.shuffle(scaled_array[:, 52])\n",
    "\n",
    "\n",
    "#scaled_array = statistics_array\n",
    "\n",
    "# Convert NumPy arrays to PyTorch tensors\n",
    "statistics_tensor = torch.tensor(scaled_array, dtype=torch.float32)\n",
    "labels_tensor = torch.tensor(labels_array, dtype=torch.long)\n",
    "#print(statistics_tensor[2])"
   ]
  },
  {
   "cell_type": "code",
   "execution_count": 57,
   "id": "2bf5cf55-06a3-4284-8b26-f3cecf8db662",
   "metadata": {},
   "outputs": [],
   "source": [
    "from torch.utils.data import Dataset, DataLoader\n",
    "\n",
    "class StatisticsDataset(Dataset):\n",
    "    def __init__(self, statistics_tensor, labels_tensor):\n",
    "        self.statistics = statistics_tensor\n",
    "        self.labels = labels_tensor\n",
    "    \n",
    "    def __len__(self):\n",
    "        return len(self.labels)\n",
    "    \n",
    "    def __getitem__(self, idx):\n",
    "        return self.statistics[idx], self.labels[idx]\n",
    "\n",
    "# Create the dataset object\n",
    "statistics_dataset = StatisticsDataset(statistics_tensor, labels_tensor)\n",
    "\n",
    "batches = 64"
   ]
  },
  {
   "cell_type": "code",
   "execution_count": 58,
   "id": "059895f3-f2c7-4ebb-a4ca-8d011e8af18d",
   "metadata": {},
   "outputs": [],
   "source": [
    "from torch.utils.data import random_split\n",
    "total_size = len(statistics_dataset)\n",
    "train_size = int(0.8 * total_size)\n",
    "test_size = total_size - train_size\n",
    "train_dataset, test_dataset = random_split(statistics_dataset, [train_size, test_size])\n",
    "train_dataloader = DataLoader(train_dataset, batch_size=batches, shuffle=True)\n",
    "test_dataloader = DataLoader(test_dataset, batch_size=batches, shuffle=False)  # Generally, shuffle is set to False for testing\n"
   ]
  },
  {
   "cell_type": "code",
   "execution_count": 59,
   "id": "50dbf48a-ab48-496b-baa9-806fe730bb51",
   "metadata": {},
   "outputs": [
    {
     "name": "stdout",
     "output_type": "stream",
     "text": [
      "EmbeddingModel(\n",
      "  (layer1): Linear(in_features=150, out_features=100, bias=True)\n",
      "  (layer2): Linear(in_features=100, out_features=75, bias=True)\n",
      "  (layer3): Linear(in_features=75, out_features=50, bias=True)\n",
      "  (layer4): Linear(in_features=50, out_features=11, bias=True)\n",
      ")\n"
     ]
    }
   ],
   "source": [
    "class EmbeddingModel(nn.Module):\n",
    "    def __init__(self):\n",
    "        super(EmbeddingModel, self).__init__()\n",
    "        self.layer1 = nn.Linear(150, 100)\n",
    "        self.layer2 = nn.Linear(100, 75)\n",
    "        self.layer3 = nn.Linear(75, 50)\n",
    "        self.layer4 = nn.Linear(50, 11)\n",
    "        \n",
    "    def forward(self, x):\n",
    "        x = F.relu(self.layer1(x))\n",
    "        x = F.relu(self.layer2(x))\n",
    "        x = F.relu(self.layer3(x))\n",
    "        x = self.layer4(x)\n",
    "        return x\n",
    "\n",
    "model = EmbeddingModel()\n",
    "model.to(device)\n",
    "print(model)"
   ]
  },
  {
   "cell_type": "code",
   "execution_count": 60,
   "id": "4ec7bee1-3db2-41de-aaf3-12f9275b3fe8",
   "metadata": {},
   "outputs": [
    {
     "name": "stdout",
     "output_type": "stream",
     "text": [
      "EmbeddingModel(\n",
      "  (layer1): Linear(in_features=150, out_features=100, bias=True)\n",
      "  (layer2): Linear(in_features=100, out_features=50, bias=True)\n",
      "  (layer4): Linear(in_features=50, out_features=11, bias=True)\n",
      ")\n"
     ]
    }
   ],
   "source": [
    "class EmbeddingModel(nn.Module):\n",
    "    def __init__(self):\n",
    "        super(EmbeddingModel, self).__init__()\n",
    "        self.layer1 = nn.Linear(150, 100)\n",
    "        self.layer2 = nn.Linear(100, 50)\n",
    "        self.layer4 = nn.Linear(50, 11)\n",
    "        \n",
    "    def forward(self, x):\n",
    "        x = F.relu(self.layer1(x))\n",
    "        x = F.relu(self.layer2(x))\n",
    "        x = self.layer4(x)\n",
    "        return x\n",
    "\n",
    "model = EmbeddingModel()\n",
    "model.to(device)\n",
    "print(model)"
   ]
  },
  {
   "cell_type": "code",
   "execution_count": 61,
   "id": "13b24f4e-f346-4f0a-b0a3-c8bf596b96ee",
   "metadata": {},
   "outputs": [],
   "source": [
    "class ImprovedModel(nn.Module):\n",
    "    def __init__(self):\n",
    "        super(ImprovedModel, self).__init__()\n",
    "        self.layer1 = nn.Linear(150, 128)\n",
    "        self.layer2 = nn.Linear(128, 128)\n",
    "        self.layer3 = nn.Linear(128, 64)\n",
    "        self.layer4 = nn.Linear(64, 64)\n",
    "        self.layer5 = nn.Linear(64, 32)\n",
    "        self.layer6 = nn.Linear(32, 11)\n",
    "        self.bn2 = nn.BatchNorm1d(64)\n",
    "        self.dropout = nn.Dropout(0.5)\n",
    "\n",
    "    def forward(self, x):\n",
    "        x = F.relu(self.layer1(x))\n",
    "        x = self.dropout(F.relu(self.layer2(x)))\n",
    "        x = F.relu(self.layer3(x))\n",
    "        x = self.bn2(x)\n",
    "        x = self.dropout(F.relu(self.layer4(x)))\n",
    "        x = F.relu(self.layer5(x))\n",
    "        x = self.layer6(x)\n",
    "        return x\n"
   ]
  },
  {
   "cell_type": "code",
   "execution_count": 62,
   "id": "2fbe5280-adac-439a-a1e3-a2fcd422c76c",
   "metadata": {},
   "outputs": [],
   "source": [
    "import torch.nn as nn\n",
    "import torch.nn.functional as F\n",
    "\n",
    "class ImprovedModel(nn.Module):\n",
    "    def __init__(self):\n",
    "        super(ImprovedModel, self).__init__()\n",
    "        self.layer1 = nn.Linear(150, 128)\n",
    "        self.layer2 = nn.Linear(128, 128)\n",
    "        self.layer3 = nn.Linear(128, 64)\n",
    "        self.layer4 = nn.Linear(64, 64)\n",
    "        self.layer6 = nn.Linear(64, 11)\n",
    "        self.bn2 = nn.BatchNorm1d(64)\n",
    "        self.dropout = nn.Dropout(0.5)\n",
    "        \n",
    "    def forward(self, x):\n",
    "        x = F.relu(self.layer1(x))\n",
    "        x = self.dropout(F.relu(self.layer2(x)))\n",
    "        x = F.relu(self.layer3(x))\n",
    "        x = self.bn2(x)\n",
    "        x = self.dropout(F.relu(self.layer4(x)))\n",
    "        x = self.layer6(x)\n",
    "        return x\n"
   ]
  },
  {
   "cell_type": "markdown",
   "id": "8fdb97a7-a1f5-4001-a5b3-f52030ad953d",
   "metadata": {},
   "source": [
    "## Training loop"
   ]
  },
  {
   "cell_type": "code",
   "execution_count": 63,
   "id": "cdfad2ea-95cf-4132-b673-dcbb23e61334",
   "metadata": {},
   "outputs": [],
   "source": [
    "from torch.nn import CrossEntropyLoss\n",
    "import torch.optim as optim\n",
    "model = EmbeddingModel()\n",
    "#model = ImprovedModel()\n",
    "\n",
    "model.to(device)\n",
    "classification_loss = CrossEntropyLoss()\n",
    "optimizer = torch.optim.Adam(model.parameters(), lr=0.001)\n",
    "training_loss = []\n",
    "training_representation_loss = []\n",
    "training_sparsity_loss = []\n",
    "num_total_epochs = 0\n",
    "#[s for s in stat_labels] #print all stats with details\n",
    "model.train() # Set model to training mode\n",
    "optimizer.zero_grad()\n",
    "model.zero_grad()"
   ]
  },
  {
   "cell_type": "code",
   "execution_count": 64,
   "id": "1dfeedd0-a2b8-4e63-a2d3-a734be905c38",
   "metadata": {
    "tags": []
   },
   "outputs": [
    {
     "name": "stdout",
     "output_type": "stream",
     "text": [
      "Epoch [1/100], Loss: 1.1742, Accuracy: 35.75%\n",
      "Epoch [2/100], Loss: 1.1300, Accuracy: 57.91%\n",
      "Epoch [3/100], Loss: 0.6414, Accuracy: 70.74%\n",
      "Epoch [4/100], Loss: 0.8010, Accuracy: 78.40%\n",
      "Epoch [5/100], Loss: 0.5524, Accuracy: 82.14%\n",
      "Epoch [6/100], Loss: 0.7852, Accuracy: 85.19%\n",
      "Epoch [7/100], Loss: 0.3313, Accuracy: 87.00%\n",
      "Epoch [8/100], Loss: 0.1777, Accuracy: 89.45%\n",
      "Epoch [9/100], Loss: 0.3323, Accuracy: 89.98%\n",
      "Epoch [10/100], Loss: 0.2113, Accuracy: 91.40%\n",
      "Epoch [11/100], Loss: 0.1684, Accuracy: 92.82%\n",
      "Epoch [12/100], Loss: 0.3156, Accuracy: 93.29%\n",
      "Epoch [13/100], Loss: 0.1675, Accuracy: 93.84%\n",
      "Epoch [14/100], Loss: 0.2554, Accuracy: 94.16%\n",
      "Epoch [15/100], Loss: 0.1896, Accuracy: 94.74%\n",
      "Epoch [16/100], Loss: 0.1217, Accuracy: 95.24%\n",
      "Epoch [17/100], Loss: 0.1463, Accuracy: 95.66%\n",
      "Epoch [18/100], Loss: 0.1749, Accuracy: 95.84%\n",
      "Epoch [19/100], Loss: 0.1172, Accuracy: 96.24%\n",
      "Epoch [20/100], Loss: 0.3583, Accuracy: 96.08%\n",
      "Epoch [21/100], Loss: 0.1032, Accuracy: 96.37%\n",
      "Epoch [22/100], Loss: 0.0881, Accuracy: 96.66%\n",
      "Epoch [23/100], Loss: 0.2332, Accuracy: 96.87%\n",
      "Epoch [24/100], Loss: 0.0553, Accuracy: 97.05%\n",
      "Epoch [25/100], Loss: 0.0448, Accuracy: 97.37%\n",
      "Epoch [26/100], Loss: 0.0393, Accuracy: 97.45%\n",
      "Epoch [27/100], Loss: 0.1556, Accuracy: 97.66%\n",
      "Epoch [28/100], Loss: 0.1408, Accuracy: 97.76%\n",
      "Epoch [29/100], Loss: 0.0315, Accuracy: 97.68%\n",
      "Epoch [30/100], Loss: 0.0290, Accuracy: 97.68%\n",
      "Epoch [31/100], Loss: 0.1331, Accuracy: 97.87%\n",
      "Epoch [32/100], Loss: 0.1069, Accuracy: 98.11%\n",
      "Epoch [33/100], Loss: 0.0553, Accuracy: 98.13%\n",
      "Epoch [34/100], Loss: 0.0557, Accuracy: 97.97%\n",
      "Epoch [35/100], Loss: 0.1077, Accuracy: 97.95%\n",
      "Epoch [36/100], Loss: 0.0757, Accuracy: 98.40%\n",
      "Epoch [37/100], Loss: 0.0095, Accuracy: 98.26%\n",
      "Epoch [38/100], Loss: 0.0220, Accuracy: 98.66%\n",
      "Epoch [39/100], Loss: 0.0803, Accuracy: 98.55%\n",
      "Epoch [40/100], Loss: 0.0253, Accuracy: 98.76%\n",
      "Epoch [41/100], Loss: 0.0412, Accuracy: 98.61%\n",
      "Epoch [42/100], Loss: 0.0424, Accuracy: 98.50%\n",
      "Epoch [43/100], Loss: 0.0276, Accuracy: 98.76%\n",
      "Epoch [44/100], Loss: 0.2756, Accuracy: 98.74%\n",
      "Epoch [45/100], Loss: 0.0376, Accuracy: 98.32%\n",
      "Epoch [46/100], Loss: 0.0461, Accuracy: 98.74%\n",
      "Epoch [47/100], Loss: 0.1300, Accuracy: 98.45%\n",
      "Epoch [48/100], Loss: 0.0465, Accuracy: 98.32%\n",
      "Epoch [49/100], Loss: 0.0173, Accuracy: 98.68%\n",
      "Epoch [50/100], Loss: 0.0139, Accuracy: 98.95%\n",
      "Epoch [51/100], Loss: 0.0240, Accuracy: 98.63%\n",
      "Epoch [52/100], Loss: 0.0245, Accuracy: 98.66%\n",
      "Epoch [53/100], Loss: 0.0132, Accuracy: 99.03%\n",
      "Epoch [54/100], Loss: 0.0369, Accuracy: 98.95%\n",
      "Epoch [55/100], Loss: 0.0163, Accuracy: 98.84%\n",
      "Epoch [56/100], Loss: 0.0629, Accuracy: 99.00%\n",
      "Epoch [57/100], Loss: 0.0088, Accuracy: 99.05%\n",
      "Epoch [58/100], Loss: 0.0028, Accuracy: 99.18%\n",
      "Epoch [59/100], Loss: 0.0317, Accuracy: 98.79%\n",
      "Epoch [60/100], Loss: 0.0273, Accuracy: 99.05%\n",
      "Epoch [61/100], Loss: 0.0220, Accuracy: 99.11%\n",
      "Epoch [62/100], Loss: 0.0033, Accuracy: 98.66%\n",
      "Epoch [63/100], Loss: 0.0064, Accuracy: 99.08%\n",
      "Epoch [64/100], Loss: 0.0061, Accuracy: 99.05%\n",
      "Epoch [65/100], Loss: 0.0213, Accuracy: 99.00%\n",
      "Epoch [66/100], Loss: 0.0159, Accuracy: 99.08%\n",
      "Epoch [67/100], Loss: 0.0040, Accuracy: 99.05%\n",
      "Epoch [68/100], Loss: 0.0057, Accuracy: 99.21%\n",
      "Epoch [69/100], Loss: 0.0043, Accuracy: 99.29%\n",
      "Epoch [70/100], Loss: 0.0083, Accuracy: 98.90%\n",
      "Epoch [71/100], Loss: 0.0287, Accuracy: 99.13%\n",
      "Epoch [72/100], Loss: 0.0034, Accuracy: 99.13%\n",
      "Epoch [73/100], Loss: 0.0349, Accuracy: 99.21%\n",
      "Epoch [74/100], Loss: 0.0654, Accuracy: 99.18%\n",
      "Epoch [75/100], Loss: 0.0112, Accuracy: 98.76%\n",
      "Epoch [76/100], Loss: 0.0155, Accuracy: 98.95%\n",
      "Epoch [77/100], Loss: 0.0034, Accuracy: 99.00%\n",
      "Epoch [78/100], Loss: 0.0015, Accuracy: 99.32%\n",
      "Epoch [79/100], Loss: 0.0038, Accuracy: 99.08%\n",
      "Epoch [80/100], Loss: 0.0192, Accuracy: 99.16%\n",
      "Epoch [81/100], Loss: 0.0229, Accuracy: 99.18%\n",
      "Epoch [82/100], Loss: 0.0214, Accuracy: 99.39%\n",
      "Epoch [83/100], Loss: 0.0005, Accuracy: 99.21%\n",
      "Epoch [84/100], Loss: 0.0255, Accuracy: 99.11%\n",
      "Epoch [85/100], Loss: 0.0346, Accuracy: 99.16%\n",
      "Epoch [86/100], Loss: 0.0407, Accuracy: 98.71%\n",
      "Epoch [87/100], Loss: 0.0842, Accuracy: 98.21%\n",
      "Epoch [88/100], Loss: 0.0049, Accuracy: 98.45%\n",
      "Epoch [89/100], Loss: 0.0037, Accuracy: 99.21%\n",
      "Epoch [90/100], Loss: 0.0042, Accuracy: 99.29%\n",
      "Epoch [91/100], Loss: 0.0307, Accuracy: 99.37%\n",
      "Epoch [92/100], Loss: 0.0586, Accuracy: 99.29%\n",
      "Epoch [93/100], Loss: 0.0044, Accuracy: 99.55%\n",
      "Epoch [94/100], Loss: 0.0635, Accuracy: 99.29%\n",
      "Epoch [95/100], Loss: 0.0382, Accuracy: 99.08%\n",
      "Epoch [96/100], Loss: 0.0084, Accuracy: 99.18%\n",
      "Epoch [97/100], Loss: 0.0005, Accuracy: 99.42%\n",
      "Epoch [98/100], Loss: 0.0105, Accuracy: 99.50%\n",
      "Epoch [99/100], Loss: 0.1218, Accuracy: 99.42%\n",
      "Epoch [100/100], Loss: 0.0009, Accuracy: 99.26%\n"
     ]
    }
   ],
   "source": [
    "# Training loop\n",
    "num_epochs = 100 # Number of epochs for fine-tuning\n",
    "\n",
    "# Initialize variables for tracking accuracy\n",
    "total_samples = 0\n",
    "correct_samples = 0\n",
    "\n",
    "for epoch in range(num_epochs):\n",
    "    for x_batch, y_batch in train_dataloader:  \n",
    "        x_batch, y_batch = x_batch.to(device), y_batch.to(device)\n",
    "        y_batch = y_batch.squeeze()\n",
    "        #print(y_batch.shape)\n",
    "        # Forward pass\n",
    "        outputs = model(x_batch)\n",
    "        #print(outputs.shape)\n",
    "        # Compute loss\n",
    "        loss = classification_loss(outputs, y_batch)\n",
    "        \n",
    "        # Zero gradients\n",
    "        optimizer.zero_grad()\n",
    "        \n",
    "        # Backward pass\n",
    "        loss.backward()\n",
    "        \n",
    "        # Update parameters\n",
    "        optimizer.step()\n",
    "        \n",
    "        # Compute accuracy\n",
    "        _, predicted = torch.max(outputs.data, 1)\n",
    "        total_samples += y_batch.size(0)\n",
    "        correct_samples += (predicted == y_batch).sum().item()\n",
    "\n",
    "    # Calculate accuracy for this epoch\n",
    "    epoch_accuracy = 100 * correct_samples / total_samples\n",
    "\n",
    "    # Logging\n",
    "    print(f'Epoch [{epoch+1}/{num_epochs}], Loss: {loss.item():.4f}, Accuracy: {epoch_accuracy:.2f}%')\n",
    "\n",
    "    # Reset accuracy tracking variables for the next epoch\n",
    "    total_samples = 0\n",
    "    correct_samples = 0"
   ]
  },
  {
   "cell_type": "markdown",
   "id": "3c386ffa-813a-4626-a6ff-78205dc16ad5",
   "metadata": {},
   "source": [
    "## Testing"
   ]
  },
  {
   "cell_type": "code",
   "execution_count": 65,
   "id": "4144c999-857d-4ab6-83d1-ab6b99b6315c",
   "metadata": {},
   "outputs": [
    {
     "name": "stdout",
     "output_type": "stream",
     "text": [
      "Test Accuracy: 96.53%\n"
     ]
    },
    {
     "data": {
      "text/plain": [
       "EmbeddingModel(\n",
       "  (layer1): Linear(in_features=150, out_features=100, bias=True)\n",
       "  (layer2): Linear(in_features=100, out_features=50, bias=True)\n",
       "  (layer4): Linear(in_features=50, out_features=11, bias=True)\n",
       ")"
      ]
     },
     "execution_count": 65,
     "metadata": {},
     "output_type": "execute_result"
    }
   ],
   "source": [
    "model.eval()\n",
    "\n",
    "# Initialize variables for tracking accuracy\n",
    "total_samples = 0\n",
    "correct_samples = 0\n",
    "all_preds = []\n",
    "all_labels = []\n",
    "# Disable gradient calculation\n",
    "with torch.no_grad():\n",
    "    for x_batch, y_batch in test_dataloader:  \n",
    "        x_batch, y_batch = x_batch.to(device), y_batch.to(device)\n",
    "        y_batch = y_batch.squeeze()\n",
    "        \n",
    "        # Forward pass\n",
    "        outputs = model(x_batch)\n",
    "        \n",
    "        # Compute accuracy\n",
    "        _, predicted = torch.max(outputs.data, 1)\n",
    "        all_preds.extend(predicted.cpu().numpy())\n",
    "        all_labels.extend(y_batch.cpu().numpy())\n",
    "        total_samples += y_batch.size(0)\n",
    "        correct_samples += (predicted == y_batch).sum().item()\n",
    "\n",
    "# Calculate accuracy for the test set\n",
    "test_accuracy = 100 * correct_samples / total_samples\n",
    "\n",
    "print(f'Test Accuracy: {test_accuracy:.2f}%')\n",
    "\n",
    "# Set the model back to training mode (optional if you continue training afterwards)\n",
    "model.train()"
   ]
  },
  {
   "cell_type": "code",
   "execution_count": 66,
   "id": "34006a7e-ab09-4806-bf81-c5fbce8d89b2",
   "metadata": {},
   "outputs": [
    {
     "name": "stderr",
     "output_type": "stream",
     "text": [
      "Using a non-full backward hook when the forward contains multiple autograd Nodes is deprecated and will be removed in future versions. This hook will be missing some grad_input. Please use register_full_backward_hook to get the documented behavior.\n"
     ]
    },
    {
     "data": {
      "image/png": "[encoded data removed]",
      "text/plain": [
       "<Figure size 576x684 with 1 Axes>"
      ]
     },
     "metadata": {
      "needs_background": "light"
     },
     "output_type": "display_data"
    }
   ],
   "source": [
    "import shap\n",
    "import torch\n",
    "\n",
    "# Initialize your DataLoader and model\n",
    "# Assuming 'train_dataloader' and 'test_dataloader' are already created\n",
    "# Assuming 'model' is your trained PyTorch model\n",
    "\n",
    "# Move the model to CPU\n",
    "model = model.to('cpu')\n",
    "\n",
    "# Make sure the model is in evaluation mode\n",
    "model.eval()\n",
    "\n",
    "# Collect some test examples\n",
    "test_data_list = []\n",
    "test_label_list = []\n",
    "\n",
    "with torch.no_grad():\n",
    "    for data, labels in test_dataloader:\n",
    "        # Move the data and labels to CPU\n",
    "        data = data.to('cpu')\n",
    "        labels = labels.to('cpu')\n",
    "        \n",
    "        test_data_list.append(data)\n",
    "        test_label_list.append(labels)\n",
    "        \n",
    "        # Assuming you only want to collect a few batches\n",
    "        if len(test_data_list) > 3:\n",
    "            break\n",
    "\n",
    "# Concatenate all the test data and labels\n",
    "test_data_tensor = torch.cat(test_data_list, dim=0)\n",
    "test_label_tensor = torch.cat(test_label_list, dim=0)\n",
    "\n",
    "# Choose a background dataset for SHAP, usually a small random subset of the training data\n",
    "background_data = next(iter(train_dataloader))[0][:].to('cpu')  # 100 instances from your training data, moved to CPU\n",
    "\n",
    "# Initialize SHAP explainer\n",
    "explainer = shap.DeepExplainer(model, background_data)\n",
    "\n",
    "# Compute SHAP values for the test data\n",
    "shap_values = explainer.shap_values(test_data_tensor)\n",
    "\n",
    "\n",
    "# Generate SHAP summary plot\n",
    "shap.summary_plot(shap_values, test_data_tensor, plot_type=\"bar\", feature_names=ostat_labels)\n",
    "model = model.to(device)"
   ]
  },
  {
   "cell_type": "markdown",
   "id": "f830d8c4-51c5-45b3-ae00-1e9ff28a93d1",
   "metadata": {},
   "source": [
    "## Permutation importance"
   ]
  },
  {
   "cell_type": "code",
   "execution_count": 19,
   "id": "1c73f272-1d3c-42bf-bb31-a6f1b05f54d4",
   "metadata": {},
   "outputs": [],
   "source": [
    "# Function to compute test accuracy\n",
    "import copy\n",
    "def compute_test_accuracy(model, dataloader, device):\n",
    "    model.eval()\n",
    "    total_samples = 0\n",
    "    correct_samples = 0\n",
    "    with torch.no_grad():\n",
    "        for x_batch, y_batch in dataloader:\n",
    "            x_batch, y_batch = x_batch.to(device), y_batch.to(device)\n",
    "            y_batch = y_batch.squeeze()\n",
    "            outputs = model(x_batch)\n",
    "            _, predicted = torch.max(outputs.data, 1)\n",
    "            total_samples += y_batch.size(0)\n",
    "            correct_samples += (predicted == y_batch).sum().item()\n",
    "    return 100 * correct_samples / total_samples"
   ]
  },
  {
   "cell_type": "code",
   "execution_count": 20,
   "id": "ec71d3dc-b7f8-4285-be8a-da045d3503d2",
   "metadata": {
    "tags": []
   },
   "outputs": [
    {
     "name": "stdout",
     "output_type": "stream",
     "text": [
      "Original Test Accuracy: 96.74%\n",
      "951\n",
      "Indices where mean drop is greater than 3: [  2  30  40  44  48  52  62  66  70  74  84  86  87  90  92  93 109 111\n",
      " 113 114 115 127]\n"
     ]
    }
   ],
   "source": [
    "from torch.utils.data import DataLoader, TensorDataset\n",
    "# Original test accuracy\n",
    "original_test_accuracy = compute_test_accuracy(model, test_dataloader, device)\n",
    "print(f'Original Test Accuracy: {original_test_accuracy:.2f}%')\n",
    "\n",
    "n_features = 150\n",
    "n_permutations = 30\n",
    "permuted_accuracies = np.zeros((n_features, n_permutations))\n",
    "\n",
    "# Extract data and labels from DataLoader\n",
    "test_data_list = [batch[0] for batch in test_dataloader]\n",
    "test_labels_list = [batch[1] for batch in test_dataloader]\n",
    "test_data_tensor = torch.cat(test_data_list)\n",
    "test_labels_tensor = torch.cat(test_labels_list)\n",
    "print(len(test_data_tensor))\n",
    "# Convert to NumPy for easier manipulation\n",
    "test_data_array = test_data_tensor.cpu().numpy()\n",
    "test_labels_array = test_labels_tensor.cpu().numpy()\n",
    "\n",
    "# Scale the test data\n",
    "#test_scaled_array = scaler.transform(test_data_array)  # Assuming you have a fitted scaler\n",
    "test_scaled_array = test_data_array\n",
    "for i in range(n_features):\n",
    "    for j in range(n_permutations):\n",
    "        # Shuffle one feature\n",
    "        permuted_data = test_scaled_array.copy()\n",
    "        np.random.shuffle(permuted_data[:, i])\n",
    "        \n",
    "        # Convert back to PyTorch tensors\n",
    "        permuted_data_tensor = torch.tensor(permuted_data, dtype=torch.float32)\n",
    "        permuted_labels_tensor = torch.tensor(test_labels_array, dtype=torch.long)\n",
    "        \n",
    "        # Create a new DataLoader with permuted data\n",
    "        permuted_dataset = StatisticsDataset(permuted_data_tensor, permuted_labels_tensor)\n",
    "        permuted_dataloader = DataLoader(permuted_dataset, batch_size=batches, shuffle=False)\n",
    "        \n",
    "        # Compute accuracy with permuted data\n",
    "        permuted_accuracy = compute_test_accuracy(model, permuted_dataloader, device)\n",
    "        permuted_accuracies[i, j] = permuted_accuracy\n",
    "\n",
    "        \n",
    "mean_drops = np.mean(original_test_accuracy - permuted_accuracies, axis=1)\n",
    "std_drops = np.std(original_test_accuracy - permuted_accuracies, axis=1)\n",
    "\n",
    "# Most important stats\n",
    "high_drop_indices = np.where(mean_drops > 3)[0]\n",
    "\n",
    "print(\"Indices where mean drop is greater than 3:\", high_drop_indices)"
   ]
  },
  {
   "cell_type": "code",
   "execution_count": 55,
   "id": "6c91569d-5896-4326-a55b-5cd457927a66",
   "metadata": {
    "tags": []
   },
   "outputs": [
    {
     "name": "stdout",
     "output_type": "stream",
     "text": [
      "[0.89029092 0.24886085 6.74728356 0.64143007 0.27690151 0.35050824\n",
      " 0.42762005 0.08412198 0.40308447 0.32246758 0.26638626 0.56081318\n",
      " 0.48720645 0.27690151 0.6764809  0.46267087 0.30844725 0.07360673\n",
      " 2.33087978 0.96389765 1.33894147 1.43708377 2.43953733 0.48720645\n",
      " 0.31195233 0.37153873 2.55871013 1.36698212 1.54574132 2.89519804\n",
      " 3.59971959 0.28391167 0.16824395 1.17770768 0.56431826 0.6554504\n",
      " 0.51174203 0.83771469 0.24185068 0.60287417 6.44935156 1.35997196\n",
      " 0.84472485 2.34490011 6.63862601 0.41009464 0.23133544 0.75709779\n",
      " 3.35786891 2.02593761 1.38801262 1.90676481 7.60602874 0.20679986\n",
      " 0.55029793 1.40203295 1.05152471 0.9744129  0.49421661 0.53277252\n",
      " 0.81668419 0.99193831 6.89449702 1.14966702 1.0935857  2.76901507\n",
      " 4.93165089 0.55380301 0.48370137 1.43708377 3.94321767 1.24780932\n",
      " 0.76410796 2.59376095 4.78093235 0.24535577 0.63792499 1.42306344\n",
      " 0.56081318 0.57483351 0.09814231 0.50122678 0.83070452 0.7746232\n",
      " 9.44619699 0.87977567 3.41745531 6.45636172 1.05152471 2.78654048\n",
      " 4.71784087 0.95688749 3.22467578 5.18051174 0.81668419 1.79810726\n",
      " 0.59235892 1.5702769  0.86225026 0.54328777 1.69645987 0.70452156\n",
      " 2.44654749 2.03995794 0.72204697 0.92183666 2.71994392 1.05502979\n",
      " 1.30038556 3.1615843  2.87066246 5.05082369 1.4511041  5.86750789\n",
      " 5.67823344 4.60567823 1.94181563 1.93831055 0.80266386 0.57833859\n",
      " 2.18016123 1.21626358 0.64143007 2.05748335 1.26883982 2.1871714\n",
      " 1.19172801 3.09148265 2.4851034  1.92429022 1.03750438 1.58780231\n",
      " 0.5362776  0.6554504  2.07150368 1.14265685 0.80616894 1.56677182\n",
      " 1.04451455 0.98142306 0.85173502 1.49316509 1.78058184 1.31090081\n",
      " 0.53978268 2.41149667 0.297932   0.29442692 1.93130039 0.39957939]\n",
      "Indices where mean drop is greater than 3: [ 2 44 52 62 84]\n",
      "Index 2: bandpass_variance 0\n",
      "Index 44: edge_mean 2 1\n",
      "Index 52: edge_mean 2 3\n",
      "Index 62: edge_mean 3 0\n",
      "Index 84: edge_mean 4 0\n"
     ]
    }
   ],
   "source": [
    "print(mean_drops)\n",
    "# Most important stats\n",
    "high_drop_indices = np.where(mean_drops > 6.5)[0]\n",
    "high_indices = high_drop_indices\n",
    "print(\"Indices where mean drop is greater than 3:\", high_drop_indices)\n",
    "for i in high_indices:\n",
    "    print(f\"Index {i}: {ostat_labels[i]}\")"
   ]
  },
  {
   "cell_type": "code",
   "execution_count": 22,
   "id": "8305fbb0-a33a-4618-88b4-f90dd3fb04d0",
   "metadata": {},
   "outputs": [
    {
     "ename": "NameError",
     "evalue": "name 'highly_correlated_set' is not defined",
     "output_type": "error",
     "traceback": [
      "\u001b[0;31m---------------------------------------------------------------------------\u001b[0m",
      "\u001b[0;31mNameError\u001b[0m                                 Traceback (most recent call last)",
      "Input \u001b[0;32mIn [22]\u001b[0m, in \u001b[0;36m<cell line: 2>\u001b[0;34m()\u001b[0m\n\u001b[1;32m      1\u001b[0m \u001b[38;5;66;03m# To check if any of the highly correlated pairs contain \"mean\"\u001b[39;00m\n\u001b[0;32m----> 2\u001b[0m contains_mean \u001b[38;5;241m=\u001b[39m \u001b[38;5;28many\u001b[39m(\u001b[38;5;124m\"\u001b[39m\u001b[38;5;124mvariance\u001b[39m\u001b[38;5;124m\"\u001b[39m \u001b[38;5;129;01min\u001b[39;00m (ostat_labels[index1] \u001b[38;5;129;01mor\u001b[39;00m ostat_labels[index2]) \u001b[38;5;28;01mfor\u001b[39;00m index1, index2 \u001b[38;5;129;01min\u001b[39;00m \u001b[43mhighly_correlated_set\u001b[49m)\n\u001b[1;32m      4\u001b[0m \u001b[38;5;66;03m# Print result\u001b[39;00m\n\u001b[1;32m      5\u001b[0m \u001b[38;5;28mprint\u001b[39m(\u001b[38;5;124mf\u001b[39m\u001b[38;5;124m\"\u001b[39m\u001b[38;5;124mContains \u001b[39m\u001b[38;5;124m'\u001b[39m\u001b[38;5;124mmean\u001b[39m\u001b[38;5;124m'\u001b[39m\u001b[38;5;124m: \u001b[39m\u001b[38;5;132;01m{\u001b[39;00mcontains_mean\u001b[38;5;132;01m}\u001b[39;00m\u001b[38;5;124m\"\u001b[39m)\n",
      "\u001b[0;31mNameError\u001b[0m: name 'highly_correlated_set' is not defined"
     ]
    }
   ],
   "source": [
    "# To check if any of the highly correlated pairs contain \"mean\"\n",
    "contains_mean = any(\"variance\" in (ostat_labels[index1] or ostat_labels[index2]) for index1, index2 in highly_correlated_set)\n",
    "\n",
    "# Print result\n",
    "print(f\"Contains 'mean': {contains_mean}\")"
   ]
  },
  {
   "cell_type": "code",
   "execution_count": null,
   "id": "9684d592-c9bb-4764-8328-93c97291bf38",
   "metadata": {},
   "outputs": [],
   "source": []
  }
 ],
 "metadata": {
  "kernelspec": {
   "display_name": "Python 3 (ipykernel)",
   "language": "python",
   "name": "python3"
  },
  "language_info": {
   "codemirror_mode": {
    "name": "ipython",
    "version": 3
   },
   "file_extension": ".py",
   "mimetype": "text/x-python",
   "name": "python",
   "nbconvert_exporter": "python",
   "pygments_lexer": "ipython3",
   "version": "3.8.13"
  }
 },
 "nbformat": 4,
 "nbformat_minor": 5
}
