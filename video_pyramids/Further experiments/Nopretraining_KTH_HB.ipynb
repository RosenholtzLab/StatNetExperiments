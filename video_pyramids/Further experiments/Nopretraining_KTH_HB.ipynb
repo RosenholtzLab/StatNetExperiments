{
 "cells": [
  {
   "cell_type": "code",
   "execution_count": 3,
   "id": "392b2e0e-e35f-46ca-9f3d-4b95242718d7",
   "metadata": {
    "tags": []
   },
   "outputs": [],
   "source": [
    "import torch\n",
    "import torchvision\n",
    "import torchvision.transforms as transforms\n",
    "import torch.utils.data as data\n",
    "from torch.utils.data import DataLoader\n",
    "import torch.nn as nn\n",
    "import sys\n",
    "import matplotlib.pyplot as plt\n",
    "from tsne_torch import TorchTSNE\n",
    "import numpy as np\n",
    "sys.path.append('/home/gridsan/ckoevesdi/.local/lib/python3.9/site-packages/')\n",
    "from pytorch_metric_learning import losses\n",
    "import os\n",
    "sys.path.append('/home/gridsan/ckoevesdi/PooledStatisticsMetamers/poolstatmetamer/')\n",
    "import utils.statnetencoder as sne\n",
    "import importlib\n",
    "import imp\n",
    "import torch.nn.functional as F\n",
    "\n",
    "#!wget https://raw.githubusercontent.com/pytorch/pytorch/master/torch/utils/collect_env.py\n",
    "\n",
    "#sys.path.append(r'C:\\Users\\chris\\Documents\\MIT\\Statistics_analysis_code\\PyTorchSteerablePyramid')\n",
    "sys.path.append('/home/gridsan/ckoevesdi/PyTorchSteerablePyramid/')\n",
    "import steerable\n",
    "import steerable.utils as utils\n",
    "from steerable.SCFpyr_PyTorch import SCFpyr_PyTorch\n",
    "\n",
    "torch.manual_seed(16)\n",
    "\n",
    "#use GPU 2\n",
    "device = torch.device('cuda:0') if torch.cuda.is_available() else torch.device('cpu')"
   ]
  },
  {
   "cell_type": "code",
   "execution_count": 4,
   "id": "c0179c80-c747-4963-ba5f-5e0696a83e42",
   "metadata": {},
   "outputs": [],
   "source": [
    "from torch.utils.data import Dataset\n",
    "from PIL import Image\n",
    "import os\n",
    "\n",
    "class KTHImageDataset(Dataset):\n",
    "    def __init__(self, root_dir, transform=None):\n",
    "        self.root_dir = root_dir\n",
    "        self.transform = transform\n",
    "        self.samples = []\n",
    "\n",
    "        # Filtering only directories for classes\n",
    "        self.classes = [d for d in os.listdir(root_dir) if os.path.isdir(os.path.join(root_dir, d))]\n",
    "\n",
    "        for label, class_name in enumerate(self.classes):\n",
    "            class_dir = os.path.join(root_dir, class_name)\n",
    "\n",
    "            # Scanning for image files directly in the class folder\n",
    "            for filename in os.listdir(class_dir):\n",
    "                img_path = os.path.join(class_dir, filename)\n",
    "\n",
    "                if os.path.isfile(img_path):  # Checking if it's a file\n",
    "                    self.samples.append((img_path, label))\n",
    "\n",
    "    def __len__(self):\n",
    "        return len(self.samples)\n",
    "\n",
    "    def __getitem__(self, idx):\n",
    "        img_path, label = self.samples[idx]\n",
    "        image = Image.open(img_path).convert(\"RGB\")\n",
    "        \n",
    "        if self.transform:\n",
    "            image = self.transform(image)\n",
    "        \n",
    "        return image, label\n",
    "\n",
    "\n",
    "# Specify transformations\n",
    "transform = transforms.Compose([\n",
    "    transforms.Resize((200, 200)),\n",
    "    transforms.Grayscale(),\n",
    "    transforms.ToTensor(),  \n",
    "    transforms.ConvertImageDtype(torch.float32)\n",
    "])\n",
    "\n",
    "# Initialize dataset and dataloader\n",
    "sys.path.append('/home/gridsan/ckoevesdi/data_KTH_HB/')\n",
    "\n",
    "root_dir = '/home/gridsan/ckoevesdi/data_KTH_HB/'\n",
    "dataset = KTHImageDataset(root_dir=root_dir, transform=transform)\n",
    "brucy_dataloader = DataLoader(dataset, batch_size=1, shuffle=False)"
   ]
  },
  {
   "cell_type": "code",
   "execution_count": 3,
   "id": "7b085b67-b033-49b2-9b14-5b9c6cfd022e",
   "metadata": {},
   "outputs": [],
   "source": [
    "ostat_labels = ['mean', 'variance', 'bandpass_variance 0', 'variance 1', 'skew 1', 'kurtosis 1', 'variance 2', 'skew 2', 'kurtosis 2', 'variance 3', 'skew 3', 'kurtosis 3', 'variance 4', 'skew 4', 'kurtosis 4', 'variance 5', 'skew 5', 'kurtosis 5', 'edge_mean 1 0', 'edge_variance 1 0', 'edge_correlation (1, 2) 0', 'edge_stop 1 0', 'edge_mean 1 1', 'edge_variance 1 1', 'edge_correlation (1, 2) 1', 'edge_stop 1 1', 'edge_mean 1 2', 'edge_variance 1 2', 'edge_correlation (1, 2) 2', 'edge_stop 1 2', 'edge_mean 1 3', 'edge_variance 1 3', 'edge_correlation (1, 2) 3', 'edge_stop 1 3', 'edge_correlation 1 (0, 1)', 'edge_correlation 1 (0, 2)', 'edge_correlation 1 (0, 3)', 'edge_correlation 1 (1, 2)', 'edge_correlation 1 (1, 3)', 'edge_correlation 1 (2, 3)', 'edge_mean 2 0', 'edge_variance 2 0', 'edge_correlation (2, 3) 0', 'edge_stop 2 0', 'edge_mean 2 1', 'edge_variance 2 1', 'edge_correlation (2, 3) 1', 'edge_stop 2 1', 'edge_mean 2 2', 'edge_variance 2 2', 'edge_correlation (2, 3) 2', 'edge_stop 2 2', 'edge_mean 2 3', 'edge_variance 2 3', 'edge_correlation (2, 3) 3', 'edge_stop 2 3', 'edge_correlation 2 (0, 1)', 'edge_correlation 2 (0, 2)', 'edge_correlation 2 (0, 3)', 'edge_correlation 2 (1, 2)', 'edge_correlation 2 (1, 3)', 'edge_correlation 2 (2, 3)', 'edge_mean 3 0', 'edge_variance 3 0', 'edge_correlation (3, 4) 0', 'edge_stop 3 0', 'edge_mean 3 1', 'edge_variance 3 1', 'edge_correlation (3, 4) 1', 'edge_stop 3 1', 'edge_mean 3 2', 'edge_variance 3 2', 'edge_correlation (3, 4) 2', 'edge_stop 3 2', 'edge_mean 3 3', 'edge_variance 3 3', 'edge_correlation (3, 4) 3', 'edge_stop 3 3', 'edge_correlation 3 (0, 1)', 'edge_correlation 3 (0, 2)', 'edge_correlation 3 (0, 3)', 'edge_correlation 3 (1, 2)', 'edge_correlation 3 (1, 3)', 'edge_correlation 3 (2, 3)', 'edge_mean 4 0', 'edge_variance 4 0', 'edge_stop 4 0', 'edge_mean 4 1', 'edge_variance 4 1', 'edge_stop 4 1', 'edge_mean 4 2', 'edge_variance 4 2', 'edge_stop 4 2', 'edge_mean 4 3', 'edge_variance 4 3', 'edge_stop 4 3', 'edge_correlation 4 (0, 1)', 'edge_correlation 4 (0, 2)', 'edge_correlation 4 (0, 3)', 'edge_correlation 4 (1, 2)', 'edge_correlation 4 (1, 3)', 'edge_correlation 4 (2, 3)', 'phase_correlation 1 er (0, 1)', 'phase_correlation 1 er (0, 2)', 'phase_correlation 1 er (0, 3)', 'phase_correlation 1 er (1, 2)', 'phase_correlation 1 er (1, 3)', 'phase_correlation 1 er (2, 3)', 'phase_correlation (1, 2) ei*di 0', 'phase_correlation (1, 2) er*di 0', 'phase_correlation (1, 2) ei*di 1', 'phase_correlation (1, 2) er*di 1', 'phase_correlation (1, 2) ei*di 2', 'phase_correlation (1, 2) er*di 2', 'phase_correlation (1, 2) ei*di 3', 'phase_correlation (1, 2) er*di 3', 'phase_correlation 2 er (0, 1)', 'phase_correlation 2 er (0, 2)', 'phase_correlation 2 er (0, 3)', 'phase_correlation 2 er (1, 2)', 'phase_correlation 2 er (1, 3)', 'phase_correlation 2 er (2, 3)', 'phase_correlation (2, 3) ei*di 0', 'phase_correlation (2, 3) er*di 0', 'phase_correlation (2, 3) ei*di 1', 'phase_correlation (2, 3) er*di 1', 'phase_correlation (2, 3) ei*di 2', 'phase_correlation (2, 3) er*di 2', 'phase_correlation (2, 3) ei*di 3', 'phase_correlation (2, 3) er*di 3', 'phase_correlation 3 er (0, 1)', 'phase_correlation 3 er (0, 2)', 'phase_correlation 3 er (0, 3)', 'phase_correlation 3 er (1, 2)', 'phase_correlation 3 er (1, 3)', 'phase_correlation 3 er (2, 3)', 'phase_correlation (3, 4) ei*di 0', 'phase_correlation (3, 4) er*di 0', 'phase_correlation (3, 4) ei*di 1', 'phase_correlation (3, 4) er*di 1', 'phase_correlation (3, 4) ei*di 2', 'phase_correlation (3, 4) er*di 2', 'phase_correlation (3, 4) ei*di 3', 'phase_correlation (3, 4) er*di 3', 'phase_correlation 4 er (0, 1)', 'phase_correlation 4 er (0, 2)', 'phase_correlation 4 er (0, 3)', 'phase_correlation 4 er (1, 2)', 'phase_correlation 4 er (1, 3)', 'phase_correlation 4 er (2, 3)']"
   ]
  },
  {
   "cell_type": "code",
   "execution_count": 4,
   "id": "35cb91ee-6cd3-42cb-98f7-3f0dfcdde754",
   "metadata": {},
   "outputs": [
    {
     "data": {
      "text/plain": [
       "4752"
      ]
     },
     "execution_count": 4,
     "metadata": {},
     "output_type": "execute_result"
    }
   ],
   "source": [
    "len(dataset)"
   ]
  },
  {
   "cell_type": "code",
   "execution_count": 5,
   "id": "57588376-c71d-4a48-b20b-60c0e55736d3",
   "metadata": {
    "tags": []
   },
   "outputs": [
    {
     "name": "stdout",
     "output_type": "stream",
     "text": [
      "Labels: [0]\n"
     ]
    },
    {
     "data": {
      "image/png": "[encoded data removed]",
      "text/plain": [
       "<Figure size 432x288 with 1 Axes>"
      ]
     },
     "metadata": {
      "needs_background": "light"
     },
     "output_type": "display_data"
    }
   ],
   "source": [
    "import matplotlib.pyplot as plt\n",
    "import numpy as np\n",
    "\n",
    "import torchvision\n",
    "def imshow(img):\n",
    "    img = img / 2 + 0.5  # Unnormalize if you have normalized in your transformations\n",
    "    npimg = img.numpy()\n",
    "    plt.imshow(np.transpose(npimg, (1, 2, 0)))\n",
    "\n",
    "# Get a batch of images and labels\n",
    "dataiter = iter(brucy_dataloader)\n",
    "images, labels = dataiter.next()\n",
    "\n",
    "# Show images and their corresponding labels\n",
    "imshow(torchvision.utils.make_grid(images[:4]))\n",
    "print(f'Labels: {labels[:4].tolist()}')\n",
    "plt.show()\n"
   ]
  },
  {
   "cell_type": "code",
   "execution_count": 6,
   "id": "99f8131a-a50f-40ef-803a-f38a0fb143b7",
   "metadata": {},
   "outputs": [
    {
     "name": "stdout",
     "output_type": "stream",
     "text": [
      "Creating solver: pyramid=UBBBBL_6 pooling=WholeImagePooling()\n"
     ]
    },
    {
     "name": "stderr",
     "output_type": "stream",
     "text": [
      "/state/partition1/llgrid/pkg/anaconda/anaconda3-2022a/lib/python3.8/site-packages/torch/functional.py:568: UserWarning: torch.meshgrid: in an upcoming release, it will be required to pass the indexing argument. (Triggered internally at  ../aten/src/ATen/native/TensorShape.cpp:2228.)\n",
      "  return _VF.meshgrid(tensors, **kwargs)  # type: ignore[attr-defined]\n"
     ]
    }
   ],
   "source": [
    "import utils.brucenet as bn\n",
    "brucy = bn.BruceNet(pooling_region_size=1e20, pyramid_params=False, dummy_img = torch.zeros(20,\n",
    "                                     1,\n",
    "                                     200,\n",
    "                                     200)).to(device)"
   ]
  },
  {
   "cell_type": "code",
   "execution_count": 7,
   "id": "1855ae35-ebd0-4c20-b356-09bcb357c168",
   "metadata": {},
   "outputs": [],
   "source": [
    "all_statistics = []\n",
    "\n",
    "for j, (texture_batch, labels) in enumerate(brucy_dataloader):\n",
    "    # Assuming texture_batch has a shape of [20, 5, 1, 128, 128]\n",
    "    #print(texture_batch.shape)\n",
    "    output = texture_batch.to(device)\n",
    "    output = torch.stack([output, output]).squeeze(1)\n",
    "    #print(output.shape)\n",
    "    #print(labels)\n",
    "    statistics = brucy(output)  # This should output a tensor of shape [2, 150]\n",
    "    statistics = statistics[0,:]\n",
    "    #print(statistics[0,:])\n",
    "    # You can now store these statistics, along with the label and original image index\n",
    "    all_statistics.append({\n",
    "        'statistics': statistics.cpu().numpy(),\n",
    "        #'label': labels[i].item(),\n",
    "        'original_image_index': labels.cpu().numpy()\n",
    "    })"
   ]
  },
  {
   "cell_type": "code",
   "execution_count": 8,
   "id": "47a7b386-52c3-4b36-b81f-0115ab69f221",
   "metadata": {},
   "outputs": [
    {
     "name": "stdout",
     "output_type": "stream",
     "text": [
      "(4752, 150)\n"
     ]
    }
   ],
   "source": [
    "from sklearn.preprocessing import StandardScaler\n",
    "from sklearn.preprocessing import MinMaxScaler\n",
    "# Convert the list of dictionaries to a NumPy array or PyTorch tensor\n",
    "statistics_array = np.array([item['statistics'] for item in all_statistics])\n",
    "labels_array = np.array([item['original_image_index'] for item in all_statistics])\n",
    "print(statistics_array.shape)\n",
    "\n",
    "# Standardize\n",
    "scaler = StandardScaler()\n",
    "#scaler = MinMaxScaler()\n",
    "scaled_array = scaler.fit_transform(statistics_array)\n",
    "#scaled_array = statistics_array\n",
    "\n",
    "# Convert NumPy arrays to PyTorch tensors\n",
    "statistics_tensor = torch.tensor(scaled_array, dtype=torch.float32)\n",
    "labels_tensor = torch.tensor(labels_array, dtype=torch.long)\n",
    "#print(statistics_tensor[2])"
   ]
  },
  {
   "cell_type": "code",
   "execution_count": 9,
   "id": "2bf5cf55-06a3-4284-8b26-f3cecf8db662",
   "metadata": {},
   "outputs": [],
   "source": [
    "from torch.utils.data import Dataset, DataLoader\n",
    "\n",
    "class StatisticsDataset(Dataset):\n",
    "    def __init__(self, statistics_tensor, labels_tensor):\n",
    "        self.statistics = statistics_tensor\n",
    "        self.labels = labels_tensor\n",
    "    \n",
    "    def __len__(self):\n",
    "        return len(self.labels)\n",
    "    \n",
    "    def __getitem__(self, idx):\n",
    "        return self.statistics[idx], self.labels[idx]\n",
    "\n",
    "# Create the dataset object\n",
    "statistics_dataset = StatisticsDataset(statistics_tensor, labels_tensor)\n",
    "\n",
    "batches = 64"
   ]
  },
  {
   "cell_type": "code",
   "execution_count": 10,
   "id": "059895f3-f2c7-4ebb-a4ca-8d011e8af18d",
   "metadata": {},
   "outputs": [],
   "source": [
    "from torch.utils.data import random_split\n",
    "total_size = len(statistics_dataset)\n",
    "train_size = int(0.8 * total_size)\n",
    "test_size = total_size - train_size\n",
    "train_dataset, test_dataset = random_split(statistics_dataset, [train_size, test_size])\n",
    "train_dataloader = DataLoader(train_dataset, batch_size=batches, shuffle=True)\n",
    "test_dataloader = DataLoader(test_dataset, batch_size=batches, shuffle=False)  # Generally, shuffle is set to False for testing\n"
   ]
  },
  {
   "cell_type": "code",
   "execution_count": 34,
   "id": "50dbf48a-ab48-496b-baa9-806fe730bb51",
   "metadata": {},
   "outputs": [
    {
     "name": "stdout",
     "output_type": "stream",
     "text": [
      "EmbeddingModel(\n",
      "  (layer1): Linear(in_features=150, out_features=100, bias=True)\n",
      "  (layer2): Linear(in_features=100, out_features=75, bias=True)\n",
      "  (layer3): Linear(in_features=75, out_features=50, bias=True)\n",
      "  (layer4): Linear(in_features=50, out_features=11, bias=True)\n",
      ")\n"
     ]
    }
   ],
   "source": [
    "class EmbeddingModel(nn.Module):\n",
    "    def __init__(self):\n",
    "        super(EmbeddingModel, self).__init__()\n",
    "        self.layer1 = nn.Linear(150, 100)\n",
    "        self.layer2 = nn.Linear(100, 75)\n",
    "        self.layer3 = nn.Linear(75, 50)\n",
    "        self.layer4 = nn.Linear(50, 11)\n",
    "        \n",
    "    def forward(self, x):\n",
    "        x = F.relu(self.layer1(x))\n",
    "        x = F.relu(self.layer2(x))\n",
    "        x = F.relu(self.layer3(x))\n",
    "        x = self.layer4(x)\n",
    "        return x\n",
    "\n",
    "model = EmbeddingModel()\n",
    "model.to(device)\n",
    "print(model)"
   ]
  },
  {
   "cell_type": "code",
   "execution_count": 12,
   "id": "4ec7bee1-3db2-41de-aaf3-12f9275b3fe8",
   "metadata": {},
   "outputs": [
    {
     "name": "stdout",
     "output_type": "stream",
     "text": [
      "EmbeddingModel(\n",
      "  (layer1): Linear(in_features=150, out_features=100, bias=True)\n",
      "  (layer2): Linear(in_features=100, out_features=50, bias=True)\n",
      "  (layer4): Linear(in_features=50, out_features=11, bias=True)\n",
      ")\n"
     ]
    }
   ],
   "source": [
    "class EmbeddingModel(nn.Module):\n",
    "    def __init__(self):\n",
    "        super(EmbeddingModel, self).__init__()\n",
    "        self.layer1 = nn.Linear(150, 100)\n",
    "        self.layer2 = nn.Linear(100, 50)\n",
    "        self.layer4 = nn.Linear(50, 11)\n",
    "        \n",
    "    def forward(self, x):\n",
    "        x = F.relu(self.layer1(x))\n",
    "        x = F.relu(self.layer2(x))\n",
    "        x = self.layer4(x)\n",
    "        return x\n",
    "\n",
    "model = EmbeddingModel()\n",
    "model.to(device)\n",
    "print(model)"
   ]
  },
  {
   "cell_type": "code",
   "execution_count": 13,
   "id": "13b24f4e-f346-4f0a-b0a3-c8bf596b96ee",
   "metadata": {},
   "outputs": [],
   "source": [
    "class ImprovedModel(nn.Module):\n",
    "    def __init__(self):\n",
    "        super(ImprovedModel, self).__init__()\n",
    "        self.layer1 = nn.Linear(150, 128)\n",
    "        self.layer2 = nn.Linear(128, 128)\n",
    "        self.layer3 = nn.Linear(128, 64)\n",
    "        self.layer4 = nn.Linear(64, 64)\n",
    "        self.layer5 = nn.Linear(64, 32)\n",
    "        self.layer6 = nn.Linear(32, 11)\n",
    "        self.bn2 = nn.BatchNorm1d(64)\n",
    "        self.dropout = nn.Dropout(0.5)\n",
    "\n",
    "    def forward(self, x):\n",
    "        x = F.relu(self.layer1(x))\n",
    "        x = self.dropout(F.relu(self.layer2(x)))\n",
    "        x = F.relu(self.layer3(x))\n",
    "        x = self.bn2(x)\n",
    "        x = self.dropout(F.relu(self.layer4(x)))\n",
    "        x = F.relu(self.layer5(x))\n",
    "        x = self.layer6(x)\n",
    "        return x\n"
   ]
  },
  {
   "cell_type": "code",
   "execution_count": 14,
   "id": "2fbe5280-adac-439a-a1e3-a2fcd422c76c",
   "metadata": {},
   "outputs": [],
   "source": [
    "import torch.nn as nn\n",
    "import torch.nn.functional as F\n",
    "\n",
    "class ImprovedModel(nn.Module):\n",
    "    def __init__(self):\n",
    "        super(ImprovedModel, self).__init__()\n",
    "        self.layer1 = nn.Linear(150, 128)\n",
    "        self.layer2 = nn.Linear(128, 128)\n",
    "        self.layer3 = nn.Linear(128, 64)\n",
    "        self.layer4 = nn.Linear(64, 64)\n",
    "        self.layer6 = nn.Linear(64, 11)\n",
    "        self.bn2 = nn.BatchNorm1d(64)\n",
    "        self.dropout = nn.Dropout(0.5)\n",
    "        \n",
    "    def forward(self, x):\n",
    "        x = F.relu(self.layer1(x))\n",
    "        x = self.dropout(F.relu(self.layer2(x)))\n",
    "        x = F.relu(self.layer3(x))\n",
    "        x = self.bn2(x)\n",
    "        x = self.dropout(F.relu(self.layer4(x)))\n",
    "        x = self.layer6(x)\n",
    "        return x\n"
   ]
  },
  {
   "cell_type": "markdown",
   "id": "8fdb97a7-a1f5-4001-a5b3-f52030ad953d",
   "metadata": {},
   "source": [
    "## Training loop"
   ]
  },
  {
   "cell_type": "code",
   "execution_count": 35,
   "id": "cdfad2ea-95cf-4132-b673-dcbb23e61334",
   "metadata": {},
   "outputs": [],
   "source": [
    "from torch.nn import CrossEntropyLoss\n",
    "import torch.optim as optim\n",
    "#model = EmbeddingModel()\n",
    "model = ImprovedModel()\n",
    "\n",
    "model.to(device)\n",
    "classification_loss = CrossEntropyLoss()\n",
    "optimizer = torch.optim.Adam(model.parameters(), lr=0.001)\n",
    "training_loss = []\n",
    "training_representation_loss = []\n",
    "training_sparsity_loss = []\n",
    "num_total_epochs = 0\n",
    "#[s for s in stat_labels] #print all stats with details\n",
    "model.train() # Set model to training mode\n",
    "optimizer.zero_grad()\n",
    "model.zero_grad()"
   ]
  },
  {
   "cell_type": "code",
   "execution_count": 36,
   "id": "1dfeedd0-a2b8-4e63-a2d3-a734be905c38",
   "metadata": {
    "tags": []
   },
   "outputs": [
    {
     "name": "stdout",
     "output_type": "stream",
     "text": [
      "Epoch [1/100], Loss: 1.7010, Accuracy: 30.26%\n",
      "Epoch [2/100], Loss: 1.6467, Accuracy: 50.07%\n",
      "Epoch [3/100], Loss: 0.7092, Accuracy: 60.33%\n",
      "Epoch [4/100], Loss: 1.5247, Accuracy: 67.98%\n",
      "Epoch [5/100], Loss: 1.1983, Accuracy: 71.30%\n",
      "Epoch [6/100], Loss: 1.0691, Accuracy: 75.06%\n",
      "Epoch [7/100], Loss: 0.9426, Accuracy: 78.22%\n",
      "Epoch [8/100], Loss: 0.7761, Accuracy: 81.08%\n",
      "Epoch [9/100], Loss: 0.7933, Accuracy: 82.03%\n",
      "Epoch [10/100], Loss: 0.6146, Accuracy: 83.90%\n",
      "Epoch [11/100], Loss: 0.2752, Accuracy: 84.00%\n",
      "Epoch [12/100], Loss: 1.0577, Accuracy: 85.56%\n",
      "Epoch [13/100], Loss: 0.1253, Accuracy: 85.98%\n",
      "Epoch [14/100], Loss: 0.4454, Accuracy: 86.24%\n",
      "Epoch [15/100], Loss: 0.6413, Accuracy: 86.48%\n",
      "Epoch [16/100], Loss: 0.2042, Accuracy: 86.77%\n",
      "Epoch [17/100], Loss: 0.5090, Accuracy: 88.08%\n",
      "Epoch [18/100], Loss: 0.4444, Accuracy: 89.13%\n",
      "Epoch [19/100], Loss: 0.2364, Accuracy: 87.58%\n",
      "Epoch [20/100], Loss: 0.7221, Accuracy: 90.40%\n",
      "Epoch [21/100], Loss: 0.9174, Accuracy: 89.03%\n",
      "Epoch [22/100], Loss: 0.5593, Accuracy: 91.37%\n",
      "Epoch [23/100], Loss: 0.1610, Accuracy: 89.90%\n",
      "Epoch [24/100], Loss: 0.2488, Accuracy: 89.98%\n",
      "Epoch [25/100], Loss: 0.3061, Accuracy: 90.74%\n",
      "Epoch [26/100], Loss: 0.1009, Accuracy: 90.84%\n",
      "Epoch [27/100], Loss: 0.3346, Accuracy: 91.71%\n",
      "Epoch [28/100], Loss: 0.1920, Accuracy: 91.79%\n",
      "Epoch [29/100], Loss: 0.0677, Accuracy: 91.19%\n",
      "Epoch [30/100], Loss: 0.3843, Accuracy: 92.21%\n",
      "Epoch [31/100], Loss: 0.1601, Accuracy: 92.69%\n",
      "Epoch [32/100], Loss: 0.2064, Accuracy: 91.92%\n",
      "Epoch [33/100], Loss: 0.2847, Accuracy: 92.19%\n",
      "Epoch [34/100], Loss: 0.2981, Accuracy: 93.53%\n",
      "Epoch [35/100], Loss: 0.1798, Accuracy: 93.37%\n",
      "Epoch [36/100], Loss: 0.2314, Accuracy: 93.63%\n",
      "Epoch [37/100], Loss: 0.3087, Accuracy: 93.45%\n",
      "Epoch [38/100], Loss: 0.1255, Accuracy: 92.90%\n",
      "Epoch [39/100], Loss: 0.5709, Accuracy: 93.21%\n",
      "Epoch [40/100], Loss: 0.1862, Accuracy: 93.03%\n",
      "Epoch [41/100], Loss: 0.0892, Accuracy: 93.05%\n",
      "Epoch [42/100], Loss: 0.1384, Accuracy: 93.26%\n",
      "Epoch [43/100], Loss: 0.3829, Accuracy: 93.82%\n",
      "Epoch [44/100], Loss: 0.0456, Accuracy: 93.92%\n",
      "Epoch [45/100], Loss: 0.0817, Accuracy: 94.21%\n",
      "Epoch [46/100], Loss: 0.0546, Accuracy: 94.48%\n",
      "Epoch [47/100], Loss: 0.3616, Accuracy: 94.45%\n",
      "Epoch [48/100], Loss: 0.0415, Accuracy: 94.90%\n",
      "Epoch [49/100], Loss: 0.0699, Accuracy: 94.90%\n",
      "Epoch [50/100], Loss: 0.2346, Accuracy: 94.55%\n",
      "Epoch [51/100], Loss: 0.3718, Accuracy: 94.32%\n",
      "Epoch [52/100], Loss: 0.7904, Accuracy: 94.00%\n",
      "Epoch [53/100], Loss: 0.0507, Accuracy: 94.79%\n",
      "Epoch [54/100], Loss: 0.4216, Accuracy: 94.45%\n",
      "Epoch [55/100], Loss: 0.1313, Accuracy: 94.95%\n",
      "Epoch [56/100], Loss: 0.3394, Accuracy: 94.79%\n",
      "Epoch [57/100], Loss: 0.1555, Accuracy: 95.34%\n",
      "Epoch [58/100], Loss: 0.2883, Accuracy: 94.19%\n",
      "Epoch [59/100], Loss: 0.1055, Accuracy: 94.76%\n",
      "Epoch [60/100], Loss: 0.0439, Accuracy: 94.71%\n",
      "Epoch [61/100], Loss: 0.1366, Accuracy: 94.34%\n",
      "Epoch [62/100], Loss: 0.0507, Accuracy: 94.92%\n",
      "Epoch [63/100], Loss: 0.0889, Accuracy: 95.26%\n",
      "Epoch [64/100], Loss: 0.3150, Accuracy: 95.05%\n",
      "Epoch [65/100], Loss: 0.3729, Accuracy: 93.63%\n",
      "Epoch [66/100], Loss: 0.3205, Accuracy: 95.42%\n",
      "Epoch [67/100], Loss: 0.0318, Accuracy: 95.26%\n",
      "Epoch [68/100], Loss: 0.1287, Accuracy: 95.82%\n",
      "Epoch [69/100], Loss: 0.1256, Accuracy: 95.58%\n",
      "Epoch [70/100], Loss: 0.3663, Accuracy: 95.58%\n",
      "Epoch [71/100], Loss: 0.1368, Accuracy: 95.76%\n",
      "Epoch [72/100], Loss: 0.0076, Accuracy: 95.63%\n",
      "Epoch [73/100], Loss: 0.0659, Accuracy: 95.19%\n",
      "Epoch [74/100], Loss: 0.1476, Accuracy: 96.13%\n",
      "Epoch [75/100], Loss: 0.4125, Accuracy: 95.95%\n",
      "Epoch [76/100], Loss: 0.1491, Accuracy: 95.42%\n",
      "Epoch [77/100], Loss: 0.0951, Accuracy: 95.45%\n",
      "Epoch [78/100], Loss: 0.0527, Accuracy: 95.66%\n",
      "Epoch [79/100], Loss: 0.1510, Accuracy: 96.13%\n",
      "Epoch [80/100], Loss: 0.0141, Accuracy: 96.26%\n",
      "Epoch [81/100], Loss: 0.3325, Accuracy: 96.58%\n",
      "Epoch [82/100], Loss: 0.1821, Accuracy: 94.24%\n",
      "Epoch [83/100], Loss: 0.1108, Accuracy: 95.66%\n",
      "Epoch [84/100], Loss: 0.0223, Accuracy: 96.05%\n",
      "Epoch [85/100], Loss: 0.2173, Accuracy: 95.97%\n",
      "Epoch [86/100], Loss: 0.0778, Accuracy: 95.61%\n",
      "Epoch [87/100], Loss: 0.1613, Accuracy: 96.42%\n",
      "Epoch [88/100], Loss: 0.0333, Accuracy: 96.26%\n",
      "Epoch [89/100], Loss: 0.2094, Accuracy: 95.97%\n",
      "Epoch [90/100], Loss: 0.0090, Accuracy: 95.97%\n",
      "Epoch [91/100], Loss: 0.0558, Accuracy: 96.08%\n",
      "Epoch [92/100], Loss: 0.0829, Accuracy: 96.47%\n",
      "Epoch [93/100], Loss: 0.0045, Accuracy: 96.26%\n",
      "Epoch [94/100], Loss: 0.0314, Accuracy: 96.32%\n",
      "Epoch [95/100], Loss: 0.0514, Accuracy: 95.79%\n",
      "Epoch [96/100], Loss: 0.0132, Accuracy: 96.19%\n",
      "Epoch [97/100], Loss: 0.0501, Accuracy: 96.00%\n",
      "Epoch [98/100], Loss: 0.7892, Accuracy: 95.24%\n",
      "Epoch [99/100], Loss: 0.0631, Accuracy: 95.47%\n",
      "Epoch [100/100], Loss: 0.0563, Accuracy: 96.95%\n"
     ]
    }
   ],
   "source": [
    "# Training loop\n",
    "num_epochs = 100 # Number of epochs for fine-tuning\n",
    "\n",
    "# Initialize variables for tracking accuracy\n",
    "total_samples = 0\n",
    "correct_samples = 0\n",
    "\n",
    "for epoch in range(num_epochs):\n",
    "    for x_batch, y_batch in train_dataloader:  \n",
    "        x_batch, y_batch = x_batch.to(device), y_batch.to(device)\n",
    "        y_batch = y_batch.squeeze()\n",
    "        #print(y_batch.shape)\n",
    "        # Forward pass\n",
    "        outputs = model(x_batch)\n",
    "        #print(outputs.shape)\n",
    "        # Compute loss\n",
    "        loss = classification_loss(outputs, y_batch)\n",
    "        \n",
    "        # Zero gradients\n",
    "        optimizer.zero_grad()\n",
    "        \n",
    "        # Backward pass\n",
    "        loss.backward()\n",
    "        \n",
    "        # Update parameters\n",
    "        optimizer.step()\n",
    "        \n",
    "        # Compute accuracy\n",
    "        _, predicted = torch.max(outputs.data, 1)\n",
    "        total_samples += y_batch.size(0)\n",
    "        correct_samples += (predicted == y_batch).sum().item()\n",
    "\n",
    "    # Calculate accuracy for this epoch\n",
    "    epoch_accuracy = 100 * correct_samples / total_samples\n",
    "\n",
    "    # Logging\n",
    "    print(f'Epoch [{epoch+1}/{num_epochs}], Loss: {loss.item():.4f}, Accuracy: {epoch_accuracy:.2f}%')\n",
    "\n",
    "    # Reset accuracy tracking variables for the next epoch\n",
    "    total_samples = 0\n",
    "    correct_samples = 0"
   ]
  },
  {
   "cell_type": "markdown",
   "id": "3c386ffa-813a-4626-a6ff-78205dc16ad5",
   "metadata": {},
   "source": [
    "## Testing"
   ]
  },
  {
   "cell_type": "code",
   "execution_count": 37,
   "id": "4144c999-857d-4ab6-83d1-ab6b99b6315c",
   "metadata": {},
   "outputs": [
    {
     "name": "stdout",
     "output_type": "stream",
     "text": [
      "Test Accuracy: 94.11%\n"
     ]
    },
    {
     "data": {
      "text/plain": [
       "ImprovedModel(\n",
       "  (layer1): Linear(in_features=150, out_features=128, bias=True)\n",
       "  (layer2): Linear(in_features=128, out_features=128, bias=True)\n",
       "  (layer3): Linear(in_features=128, out_features=64, bias=True)\n",
       "  (layer4): Linear(in_features=64, out_features=64, bias=True)\n",
       "  (layer6): Linear(in_features=64, out_features=11, bias=True)\n",
       "  (bn2): BatchNorm1d(64, eps=1e-05, momentum=0.1, affine=True, track_running_stats=True)\n",
       "  (dropout): Dropout(p=0.5, inplace=False)\n",
       ")"
      ]
     },
     "execution_count": 37,
     "metadata": {},
     "output_type": "execute_result"
    }
   ],
   "source": [
    "model.eval()\n",
    "\n",
    "# Initialize variables for tracking accuracy\n",
    "total_samples = 0\n",
    "correct_samples = 0\n",
    "all_preds = []\n",
    "all_labels = []\n",
    "# Disable gradient calculation\n",
    "with torch.no_grad():\n",
    "    for x_batch, y_batch in test_dataloader:  \n",
    "        x_batch, y_batch = x_batch.to(device), y_batch.to(device)\n",
    "        y_batch = y_batch.squeeze()\n",
    "        \n",
    "        # Forward pass\n",
    "        outputs = model(x_batch)\n",
    "        \n",
    "        # Compute accuracy\n",
    "        _, predicted = torch.max(outputs.data, 1)\n",
    "        all_preds.extend(predicted.cpu().numpy())\n",
    "        all_labels.extend(y_batch.cpu().numpy())\n",
    "        total_samples += y_batch.size(0)\n",
    "        correct_samples += (predicted == y_batch).sum().item()\n",
    "\n",
    "# Calculate accuracy for the test set\n",
    "test_accuracy = 100 * correct_samples / total_samples\n",
    "\n",
    "print(f'Test Accuracy: {test_accuracy:.2f}%')\n",
    "\n",
    "# Set the model back to training mode (optional if you continue training afterwards)\n",
    "model.train()"
   ]
  },
  {
   "cell_type": "code",
   "execution_count": 38,
   "id": "34006a7e-ab09-4806-bf81-c5fbce8d89b2",
   "metadata": {},
   "outputs": [
    {
     "data": {
      "image/png": "[encoded data removed]",
      "text/plain": [
       "<Figure size 576x684 with 1 Axes>"
      ]
     },
     "metadata": {
      "needs_background": "light"
     },
     "output_type": "display_data"
    }
   ],
   "source": [
    "import shap\n",
    "import torch\n",
    "\n",
    "# Initialize your DataLoader and model\n",
    "# Assuming 'train_dataloader' and 'test_dataloader' are already created\n",
    "# Assuming 'model' is your trained PyTorch model\n",
    "\n",
    "# Move the model to CPU\n",
    "model = model.to('cpu')\n",
    "\n",
    "# Make sure the model is in evaluation mode\n",
    "model.eval()\n",
    "\n",
    "# Collect some test examples\n",
    "test_data_list = []\n",
    "test_label_list = []\n",
    "\n",
    "with torch.no_grad():\n",
    "    for data, labels in test_dataloader:\n",
    "        # Move the data and labels to CPU\n",
    "        data = data.to('cpu')\n",
    "        labels = labels.to('cpu')\n",
    "        \n",
    "        test_data_list.append(data)\n",
    "        test_label_list.append(labels)\n",
    "        \n",
    "        # Assuming you only want to collect a few batches\n",
    "        if len(test_data_list) > 3:\n",
    "            break\n",
    "\n",
    "# Concatenate all the test data and labels\n",
    "test_data_tensor = torch.cat(test_data_list, dim=0)\n",
    "test_label_tensor = torch.cat(test_label_list, dim=0)\n",
    "\n",
    "# Choose a background dataset for SHAP, usually a small random subset of the training data\n",
    "background_data = next(iter(train_dataloader))[0][:].to('cpu')  # 100 instances from your training data, moved to CPU\n",
    "\n",
    "# Initialize SHAP explainer\n",
    "explainer = shap.DeepExplainer(model, background_data)\n",
    "\n",
    "# Compute SHAP values for the test data\n",
    "shap_values = explainer.shap_values(test_data_tensor)\n",
    "\n",
    "\n",
    "# Generate SHAP summary plot\n",
    "shap.summary_plot(shap_values, test_data_tensor, plot_type=\"bar\", feature_names=ostat_labels)\n",
    "model = model.to(device)"
   ]
  },
  {
   "cell_type": "markdown",
   "id": "f830d8c4-51c5-45b3-ae00-1e9ff28a93d1",
   "metadata": {},
   "source": [
    "## Permutation importance"
   ]
  },
  {
   "cell_type": "code",
   "execution_count": 39,
   "id": "1c73f272-1d3c-42bf-bb31-a6f1b05f54d4",
   "metadata": {},
   "outputs": [],
   "source": [
    "# Function to compute test accuracy\n",
    "import copy\n",
    "def compute_test_accuracy(model, dataloader, device):\n",
    "    model.eval()\n",
    "    total_samples = 0\n",
    "    correct_samples = 0\n",
    "    with torch.no_grad():\n",
    "        for x_batch, y_batch in dataloader:\n",
    "            x_batch, y_batch = x_batch.to(device), y_batch.to(device)\n",
    "            y_batch = y_batch.squeeze()\n",
    "            outputs = model(x_batch)\n",
    "            _, predicted = torch.max(outputs.data, 1)\n",
    "            total_samples += y_batch.size(0)\n",
    "            correct_samples += (predicted == y_batch).sum().item()\n",
    "    return 100 * correct_samples / total_samples"
   ]
  },
  {
   "cell_type": "code",
   "execution_count": 40,
   "id": "ec71d3dc-b7f8-4285-be8a-da045d3503d2",
   "metadata": {},
   "outputs": [
    {
     "name": "stdout",
     "output_type": "stream",
     "text": [
      "Original Test Accuracy: 94.11%\n",
      "951\n",
      "Indices where mean drop is greater than 3: [  2  22  26  29  40  43  44  48  52  55  62  65  66  69  70  74  77  84\n",
      "  87  90  93 109 111 113 115]\n"
     ]
    }
   ],
   "source": [
    "from torch.utils.data import DataLoader, TensorDataset\n",
    "# Original test accuracy\n",
    "original_test_accuracy = compute_test_accuracy(model, test_dataloader, device)\n",
    "print(f'Original Test Accuracy: {original_test_accuracy:.2f}%')\n",
    "\n",
    "n_features = 150\n",
    "n_permutations = 30\n",
    "permuted_accuracies = np.zeros((n_features, n_permutations))\n",
    "\n",
    "# Extract data and labels from DataLoader\n",
    "test_data_list = [batch[0] for batch in test_dataloader]\n",
    "test_labels_list = [batch[1] for batch in test_dataloader]\n",
    "test_data_tensor = torch.cat(test_data_list)\n",
    "test_labels_tensor = torch.cat(test_labels_list)\n",
    "print(len(test_data_tensor))\n",
    "# Convert to NumPy for easier manipulation\n",
    "test_data_array = test_data_tensor.cpu().numpy()\n",
    "test_labels_array = test_labels_tensor.cpu().numpy()\n",
    "\n",
    "# Scale the test data\n",
    "#test_scaled_array = scaler.transform(test_data_array)  # Assuming you have a fitted scaler\n",
    "test_scaled_array = test_data_array\n",
    "for i in range(n_features):\n",
    "    for j in range(n_permutations):\n",
    "        # Shuffle one feature\n",
    "        permuted_data = test_scaled_array.copy()\n",
    "        np.random.shuffle(permuted_data[:, i])\n",
    "        \n",
    "        # Convert back to PyTorch tensors\n",
    "        permuted_data_tensor = torch.tensor(permuted_data, dtype=torch.float32)\n",
    "        permuted_labels_tensor = torch.tensor(test_labels_array, dtype=torch.long)\n",
    "        \n",
    "        # Create a new DataLoader with permuted data\n",
    "        permuted_dataset = StatisticsDataset(permuted_data_tensor, permuted_labels_tensor)\n",
    "        permuted_dataloader = DataLoader(permuted_dataset, batch_size=batches, shuffle=False)\n",
    "        \n",
    "        # Compute accuracy with permuted data\n",
    "        permuted_accuracy = compute_test_accuracy(model, permuted_dataloader, device)\n",
    "        permuted_accuracies[i, j] = permuted_accuracy\n",
    "\n",
    "        \n",
    "mean_drops = np.mean(original_test_accuracy - permuted_accuracies, axis=1)\n",
    "std_drops = np.std(original_test_accuracy - permuted_accuracies, axis=1)\n",
    "\n",
    "# Most important stats\n",
    "high_drop_indices = np.where(mean_drops > 3)[0]\n",
    "\n",
    "print(\"Indices where mean drop is greater than 3:\", high_drop_indices)"
   ]
  },
  {
   "cell_type": "code",
   "execution_count": 41,
   "id": "8305fbb0-a33a-4618-88b4-f90dd3fb04d0",
   "metadata": {},
   "outputs": [
    {
     "name": "stdout",
     "output_type": "stream",
     "text": [
      "[1.54924641 0.33298283 9.09919383 0.39607431 0.12968805 0.42411497\n",
      " 0.26288118 0.07360673 0.46267087 0.25236593 0.24886085 0.66246057\n",
      " 0.62390466 0.58534876 0.11566772 0.35401332 0.28040659 0.27339642\n",
      " 2.3659306  0.15772871 0.3189625  0.88678584 3.35085875 1.04801963\n",
      " 0.16824395 1.36698212 4.93866106 1.5913074  0.89730109 3.55064844\n",
      " 1.93480547 0.20679986 0.05257624 2.52015422 0.30844725 1.04100946\n",
      " 0.10515247 1.05853488 0.48370137 0.94637224 7.98457764 1.05152471\n",
      " 0.1997897  3.18611987 6.58955485 0.86575535 0.48019628 2.56221521\n",
      " 5.04731861 2.06449352 0.99193831 2.91622853 4.79495268 0.49421661\n",
      " 0.70802664 4.14300736 0.87627059 1.55625657 0.6764809  1.04801963\n",
      " 1.4721346  0.87627059 7.69015072 0.89029092 1.14966702 4.47949527\n",
      " 3.9362075  0.52576236 0.12267788 4.54959692 5.86049772 1.2127585\n",
      " 0.36102348 2.65685244 3.45250613 0.80616894 0.42060988 4.45846477\n",
      " 0.76410796 0.64493516 0.24886085 0.48019628 0.7150368  0.64493516\n",
      " 5.2085524  0.90431125 1.94532072 4.0168244  0.73957238 2.09253417\n",
      " 6.17595513 1.00946372 1.27584998 5.05432878 0.78163337 2.46056782\n",
      " 0.26288118 2.12057483 0.37504381 0.59235892 0.28040659 0.25587101\n",
      " 0.89730109 2.42201192 0.61338941 0.87627059 1.22677883 1.78058184\n",
      " 0.55380301 3.41745531 0.74658254 5.69575885 0.45916579 3.86961094\n",
      " 1.42656852 5.56256572 0.98142306 2.48860848 0.45566071 1.70347003\n",
      " 1.46512443 1.72450053 0.42411497 0.9148265  0.595864   1.77707676\n",
      " 0.49071153 1.43007361 0.26989134 1.50017525 1.07956537 2.36943568\n",
      " 0.7360673  0.73256222 1.68243954 1.36698212 0.12968805 0.37504381\n",
      " 0.42411497 0.74307746 0.46617596 0.80967403 0.78864353 0.38555906\n",
      " 0.33999299 2.23974763 0.72555205 0.41359972 0.72555205 0.55380301]\n",
      "Indices where mean drop is greater than 3: [ 2 40 44 62]\n",
      "Index 2: bandpass_variance 0\n",
      "Index 40: edge_mean 2 0\n",
      "Index 44: edge_mean 2 1\n",
      "Index 62: edge_mean 3 0\n"
     ]
    }
   ],
   "source": [
    "print(mean_drops)\n",
    "# Most important stats\n",
    "high_drop_indices = np.where(mean_drops > 6.5)[0]\n",
    "high_indices = high_drop_indices\n",
    "print(\"Indices where mean drop is greater than 3:\", high_drop_indices)\n",
    "for i in high_indices:\n",
    "    print(f\"Index {i}: {ostat_labels[i]}\")"
   ]
  },
  {
   "cell_type": "code",
   "execution_count": 42,
   "id": "2e4c663c-52d6-4ccf-8efa-3715e06ca90f",
   "metadata": {},
   "outputs": [
    {
     "name": "stdout",
     "output_type": "stream",
     "text": [
      "Highly Correlated Pairs: {(3, 1), (118, 58), (135, 83), (102, 34), (130, 78), (16, 13), (107, 39), (119, 59), (12, 9), (146, 98), (12, 6), (147, 99), (6, 1), (13, 10), (132, 80), (6, 3), (82, 79), (116, 56), (133, 81), (104, 36), (9, 3), (9, 6), (121, 61), (144, 96), (15, 9), (105, 37), (15, 12), (149, 101)}\n"
     ]
    }
   ],
   "source": [
    "import numpy as np\n",
    "test_statistics_array = scaled_array\n",
    "\n",
    "import pandas as pd\n",
    "\n",
    "# Convert to DataFrame for easier manipulation\n",
    "df = pd.DataFrame(test_statistics_array)\n",
    "\n",
    "# Calculate the correlation matrix\n",
    "correlation_matrix = df.corr(method='spearman')\n",
    "\n",
    "#print(correlation_matrix)\n",
    "\n",
    "import pandas as pd\n",
    "\n",
    "# Create DataFrame\n",
    "df = pd.DataFrame(test_statistics_array)\n",
    "\n",
    "# Calculate correlation matrix\n",
    "correlation_matrix = df.corr()\n",
    "\n",
    "# Set a threshold\n",
    "threshold = 0.99  # Adjust this value as you see fit\n",
    "\n",
    "# Find highly correlated features\n",
    "highly_correlated_set = set()  # To keep track of pairs\n",
    "for i in range(len(correlation_matrix.columns)):\n",
    "    for j in range(i):\n",
    "        if abs(correlation_matrix.iloc[i, j]) > threshold:\n",
    "        #if correlation_matrix.iloc[i, j] > threshold:\n",
    "            colname1 = correlation_matrix.columns[i]\n",
    "            colname2 = correlation_matrix.columns[j]\n",
    "            highly_correlated_set.add((colname1, colname2))\n",
    "\n",
    "print(\"Highly Correlated Pairs:\", highly_correlated_set)"
   ]
  },
  {
   "cell_type": "code",
   "execution_count": 43,
   "id": "418c72fa-f63d-4463-8f1d-8f59de7f8c5a",
   "metadata": {},
   "outputs": [
    {
     "name": "stdout",
     "output_type": "stream",
     "text": [
      "Highly correlated pair: variance 1, variance\n",
      "Highly correlated pair: phase_correlation 2 er (0, 3), edge_correlation 2 (0, 3)\n",
      "Highly correlated pair: phase_correlation 3 er (2, 3), edge_correlation 3 (2, 3)\n",
      "Highly correlated pair: phase_correlation 1 er (0, 1), edge_correlation 1 (0, 1)\n",
      "Highly correlated pair: phase_correlation 3 er (0, 1), edge_correlation 3 (0, 1)\n",
      "Highly correlated pair: skew 5, skew 4\n",
      "Highly correlated pair: phase_correlation 1 er (2, 3), edge_correlation 1 (2, 3)\n",
      "Highly correlated pair: phase_correlation 2 er (1, 2), edge_correlation 2 (1, 2)\n",
      "Highly correlated pair: variance 4, variance 3\n",
      "Highly correlated pair: phase_correlation 4 er (0, 3), edge_correlation 4 (0, 3)\n",
      "Highly correlated pair: variance 4, variance 2\n",
      "Highly correlated pair: phase_correlation 4 er (1, 2), edge_correlation 4 (1, 2)\n",
      "Highly correlated pair: variance 2, variance\n",
      "Highly correlated pair: skew 4, skew 3\n",
      "Highly correlated pair: phase_correlation 3 er (0, 3), edge_correlation 3 (0, 3)\n",
      "Highly correlated pair: variance 2, variance 1\n",
      "Highly correlated pair: edge_correlation 3 (1, 3), edge_correlation 3 (0, 2)\n",
      "Highly correlated pair: phase_correlation 2 er (0, 1), edge_correlation 2 (0, 1)\n",
      "Highly correlated pair: phase_correlation 3 er (1, 2), edge_correlation 3 (1, 2)\n",
      "Highly correlated pair: phase_correlation 1 er (0, 3), edge_correlation 1 (0, 3)\n",
      "Highly correlated pair: variance 3, variance 1\n",
      "Highly correlated pair: variance 3, variance 2\n",
      "Highly correlated pair: phase_correlation 2 er (2, 3), edge_correlation 2 (2, 3)\n",
      "Highly correlated pair: phase_correlation 4 er (0, 1), edge_correlation 4 (0, 1)\n",
      "Highly correlated pair: variance 5, variance 3\n",
      "Highly correlated pair: phase_correlation 1 er (1, 2), edge_correlation 1 (1, 2)\n",
      "Highly correlated pair: variance 5, variance 4\n",
      "Highly correlated pair: phase_correlation 4 er (2, 3), edge_correlation 4 (2, 3)\n"
     ]
    }
   ],
   "source": [
    "# To print out the feature names for the highly correlated indices\n",
    "for index1, index2 in highly_correlated_set:\n",
    "    print(f\"Highly correlated pair: {ostat_labels[index1]}, {ostat_labels[index2]}\")"
   ]
  },
  {
   "cell_type": "code",
   "execution_count": null,
   "id": "908cbde5-3b82-4051-b5a8-73abc0cef3aa",
   "metadata": {},
   "outputs": [],
   "source": []
  },
  {
   "cell_type": "code",
   "execution_count": null,
   "id": "e18f0347-cfce-47fe-ac76-fd9cbab6dd13",
   "metadata": {},
   "outputs": [],
   "source": []
  }
 ],
 "metadata": {
  "kernelspec": {
   "display_name": "Python 3 (ipykernel)",
   "language": "python",
   "name": "python3"
  },
  "language_info": {
   "codemirror_mode": {
    "name": "ipython",
    "version": 3
   },
   "file_extension": ".py",
   "mimetype": "text/x-python",
   "name": "python",
   "nbconvert_exporter": "python",
   "pygments_lexer": "ipython3",
   "version": "3.8.13"
  }
 },
 "nbformat": 4,
 "nbformat_minor": 5
}
