{
 "cells": [
  {
   "cell_type": "code",
   "execution_count": null,
   "id": "662bbb4c-4232-4920-ab49-d847792aa411",
   "metadata": {},
   "outputs": [],
   "source": [
    "import matplotlib.pyplot as plt\n",
    "import pickle\n"
   ]
  },
  {
   "cell_type": "code",
   "execution_count": 72,
   "id": "e2c3a35e-efe9-4f05-86c9-6bf32e32b02f",
   "metadata": {},
   "outputs": [],
   "source": [
    "dataset = 'DTD' #'KTH''DTD'\n",
    "transform = 'HB' #'OT''HB\n",
    "\n",
    "with open(f'idxes_{dataset}_{transform}.pickle','rb') as f:\n",
    "    d = pickle.load(f)\n",
    "stat_index_list = d['sil']\n",
    "#d['indices']\n",
    "#d['sil']"
   ]
  },
  {
   "cell_type": "code",
   "execution_count": 73,
   "id": "000eb283-a8c0-47e6-9861-799674c7516f",
   "metadata": {},
   "outputs": [
    {
     "name": "stdout",
     "output_type": "stream",
     "text": [
      "Marginals mean rank: 24.5\n",
      "Bandpass Variance mean rank: 1.0\n",
      "Lowpass Variance mean rank: 26.666666666666668\n",
      "Non-Oriented mean rank: 31.071428571428573\n",
      "Magnitude Mean mean rank: 56.9375\n",
      "Magnitude Variance mean rank: 63.8125\n",
      "Magnitude Correlation mean rank: 64.77777777777777\n",
      "Phase Correlation mean rank: 110.3125\n",
      "End-Stopped mean rank: 76.875\n"
     ]
    }
   ],
   "source": [
    "def compute_mean_rank(indices, stat_index_list):\n",
    "    ranks = [stat_index_list.index(idx) + 1 for idx in indices if idx in stat_index_list]\n",
    "    return sum(ranks) / len(ranks) if ranks else None\n",
    "\n",
    "ostat_labels = ['mean', 'variance', 'bandpass_variance 0', 'variance 1', 'skew 1', 'kurtosis 1', 'variance 2', 'skew 2', 'kurtosis 2', 'variance 3', 'skew 3', 'kurtosis 3', 'variance 4', 'skew 4', 'kurtosis 4', 'variance 5', 'skew 5', 'kurtosis 5', 'edge_mean 1 0', 'edge_variance 1 0', 'edge_correlation (1, 2) 0', 'edge_stop 1 0', 'edge_mean 1 1', 'edge_variance 1 1', 'edge_correlation (1, 2) 1', 'edge_stop 1 1', 'edge_mean 1 2', 'edge_variance 1 2', 'edge_correlation (1, 2) 2', 'edge_stop 1 2', 'edge_mean 1 3', 'edge_variance 1 3', 'edge_correlation (1, 2) 3', 'edge_stop 1 3', 'edge_correlation 1 (0, 1)', 'edge_correlation 1 (0, 2)', 'edge_correlation 1 (0, 3)', 'edge_correlation 1 (1, 2)', 'edge_correlation 1 (1, 3)', 'edge_correlation 1 (2, 3)', 'edge_mean 2 0', 'edge_variance 2 0', 'edge_correlation (2, 3) 0', 'edge_stop 2 0', 'edge_mean 2 1', 'edge_variance 2 1', 'edge_correlation (2, 3) 1', 'edge_stop 2 1', 'edge_mean 2 2', 'edge_variance 2 2', 'edge_correlation (2, 3) 2', 'edge_stop 2 2', 'edge_mean 2 3', 'edge_variance 2 3', 'edge_correlation (2, 3) 3', 'edge_stop 2 3', 'edge_correlation 2 (0, 1)', 'edge_correlation 2 (0, 2)', 'edge_correlation 2 (0, 3)', 'edge_correlation 2 (1, 2)', 'edge_correlation 2 (1, 3)', 'edge_correlation 2 (2, 3)', 'edge_mean 3 0', 'edge_variance 3 0', 'edge_correlation (3, 4) 0', 'edge_stop 3 0', 'edge_mean 3 1', 'edge_variance 3 1', 'edge_correlation (3, 4) 1', 'edge_stop 3 1', 'edge_mean 3 2', 'edge_variance 3 2', 'edge_correlation (3, 4) 2', 'edge_stop 3 2', 'edge_mean 3 3', 'edge_variance 3 3', 'edge_correlation (3, 4) 3', 'edge_stop 3 3', 'edge_correlation 3 (0, 1)', 'edge_correlation 3 (0, 2)', 'edge_correlation 3 (0, 3)', 'edge_correlation 3 (1, 2)', 'edge_correlation 3 (1, 3)', 'edge_correlation 3 (2, 3)', 'edge_mean 4 0', 'edge_variance 4 0', 'edge_stop 4 0', 'edge_mean 4 1', 'edge_variance 4 1', 'edge_stop 4 1', 'edge_mean 4 2', 'edge_variance 4 2', 'edge_stop 4 2', 'edge_mean 4 3', 'edge_variance 4 3', 'edge_stop 4 3', 'edge_correlation 4 (0, 1)', 'edge_correlation 4 (0, 2)', 'edge_correlation 4 (0, 3)', 'edge_correlation 4 (1, 2)', 'edge_correlation 4 (1, 3)', 'edge_correlation 4 (2, 3)', 'phase_correlation 1 er (0, 1)', 'phase_correlation 1 er (0, 2)', 'phase_correlation 1 er (0, 3)', 'phase_correlation 1 er (1, 2)', 'phase_correlation 1 er (1, 3)', 'phase_correlation 1 er (2, 3)', 'phase_correlation (1, 2) ei*di 0', 'phase_correlation (1, 2) er*di 0', 'phase_correlation (1, 2) ei*di 1', 'phase_correlation (1, 2) er*di 1', 'phase_correlation (1, 2) ei*di 2', 'phase_correlation (1, 2) er*di 2', 'phase_correlation (1, 2) ei*di 3', 'phase_correlation (1, 2) er*di 3', 'phase_correlation 2 er (0, 1)', 'phase_correlation 2 er (0, 2)', 'phase_correlation 2 er (0, 3)', 'phase_correlation 2 er (1, 2)', 'phase_correlation 2 er (1, 3)', 'phase_correlation 2 er (2, 3)', 'phase_correlation (2, 3) ei*di 0', 'phase_correlation (2, 3) er*di 0', 'phase_correlation (2, 3) ei*di 1', 'phase_correlation (2, 3) er*di 1', 'phase_correlation (2, 3) ei*di 2', 'phase_correlation (2, 3) er*di 2', 'phase_correlation (2, 3) ei*di 3', 'phase_correlation (2, 3) er*di 3', 'phase_correlation 3 er (0, 1)', 'phase_correlation 3 er (0, 2)', 'phase_correlation 3 er (0, 3)', 'phase_correlation 3 er (1, 2)', 'phase_correlation 3 er (1, 3)', 'phase_correlation 3 er (2, 3)', 'phase_correlation (3, 4) ei*di 0', 'phase_correlation (3, 4) er*di 0', 'phase_correlation (3, 4) ei*di 1', 'phase_correlation (3, 4) er*di 1', 'phase_correlation (3, 4) ei*di 2', 'phase_correlation (3, 4) er*di 2', 'phase_correlation (3, 4) ei*di 3', 'phase_correlation (3, 4) er*di 3', 'phase_correlation 4 er (0, 1)', 'phase_correlation 4 er (0, 2)', 'phase_correlation 4 er (0, 3)', 'phase_correlation 4 er (1, 2)', 'phase_correlation 4 er (1, 3)', 'phase_correlation 4 er (2, 3)']\n",
    "\n",
    "# Groups of indices\n",
    "rawstats = [0, 1]\n",
    "bandpass_variance = [i for i, label in enumerate(ostat_labels) if 'bandpass_variance' in label]\n",
    "low = [3, 4, 5]\n",
    "nonoriented = list(range(6, 20))\n",
    "edgemean = [i for i, label in enumerate(ostat_labels) if 'edge_mean' in label]\n",
    "edgevariance = [i for i, label in enumerate(ostat_labels) if 'edge_variance' in label]\n",
    "edgecorrelation = [i for i, label in enumerate(ostat_labels) if 'edge_correlation' in label]\n",
    "phase = [i for i, label in enumerate(ostat_labels) if 'phase' in label]\n",
    "stop = [i for i, label in enumerate(ostat_labels) if 'stop' in label]\n",
    "\n",
    "# Compute mean ranks for each group and print\n",
    "groups = {\n",
    "    \"Marginals\": rawstats,\n",
    "    \"Bandpass Variance\": bandpass_variance,\n",
    "    \"Lowpass Variance\": low,\n",
    "    \"Non-Oriented\": nonoriented,\n",
    "    \"Magnitude Mean\": edgemean,\n",
    "    \"Magnitude Variance\": edgevariance,\n",
    "    \"Magnitude Correlation\": edgecorrelation,\n",
    "    \"Phase Correlation\": phase,\n",
    "    \"End-Stopped\": stop\n",
    "}\n",
    "\n",
    "labels = []\n",
    "values = []\n",
    "\n",
    "for group_name, indices in groups.items():\n",
    "    mean = compute_mean_rank(indices, stat_index_list)\n",
    "    print(f\"{group_name} mean rank:\", mean)\n",
    "    labels.append(group_name)\n",
    "    values.append(mean)"
   ]
  },
  {
   "cell_type": "markdown",
   "id": "22f51b27-e7fe-42c8-8fe4-8ba673c8947d",
   "metadata": {},
   "source": [
    "## Bar Plot Individual "
   ]
  },
  {
   "cell_type": "code",
   "execution_count": null,
   "id": "6fb8f164-5512-4532-b986-7725a9a0e9fd",
   "metadata": {},
   "outputs": [
    {
     "ename": "NameError",
     "evalue": "name 'dataset' is not defined",
     "output_type": "error",
     "traceback": [
      "\u001b[0;31m---------------------------------------------------------------------------\u001b[0m",
      "\u001b[0;31mNameError\u001b[0m                                 Traceback (most recent call last)",
      "Cell \u001b[0;32mIn[60], line 45\u001b[0m\n\u001b[1;32m     42\u001b[0m     plt\u001b[38;5;241m.\u001b[39msavefig(\u001b[38;5;124mf\u001b[39m\u001b[38;5;124m'\u001b[39m\u001b[38;5;124m./paper_plots/mean_rank_bar_\u001b[39m\u001b[38;5;132;01m{\u001b[39;00mdataset\u001b[38;5;132;01m}\u001b[39;00m\u001b[38;5;124m_\u001b[39m\u001b[38;5;132;01m{\u001b[39;00mtransform\u001b[38;5;132;01m}\u001b[39;00m\u001b[38;5;124m.png\u001b[39m\u001b[38;5;124m'\u001b[39m, dpi\u001b[38;5;241m=\u001b[39m\u001b[38;5;241m500\u001b[39m)\n\u001b[1;32m     43\u001b[0m     \u001b[38;5;66;03m#plt.show()\u001b[39;00m\n\u001b[0;32m---> 45\u001b[0m plot_mean_rank(labels,values,\u001b[43mdataset\u001b[49m,transform)\n",
      "\u001b[0;31mNameError\u001b[0m: name 'dataset' is not defined"
     ]
    }
   ],
   "source": [
    "def plot_mean_rank(labels, values, dataset,transform):\n",
    "    \n",
    "    # Pastel colors\n",
    "    #colors = ['#FF9999', '#66B2FF', '#99FF99', '#FFCC99', '#FFD700', '#C2C2F0', '#FFB3E6', '#FF6666', '#C2C2F0']\n",
    "    colors = plt.rcParams['axes.prop_cycle'].by_key()['color']\n",
    "\n",
    "    # Compute bar heights and bottoms based on 75 as the center\n",
    "    bar_heights = [75 - val if val < 75 else val - 75 for val in values]\n",
    "    bar_bottoms = [val if val < 75 else 75 for val in values]\n",
    "\n",
    "    # Create the figure and axis with a reduced size for fitting multiple plots\n",
    "    fig, ax = plt.subplots(figsize=(4, 4))\n",
    "\n",
    "    # Plot bars with reduced width\n",
    "    bar_width = 0.8\n",
    "    for label, height, bottom, color in zip(labels, bar_heights, bar_bottoms, colors):\n",
    "        ax.bar(label, height, width=bar_width, bottom=bottom, color=color, edgecolor='black', linewidth=0.5)\n",
    "\n",
    "    # Setting the y-axis\n",
    "    ax.set_ylim(150, 0)\n",
    "    ax.axhline(75, color='black', linestyle='--', linewidth=bar_width)\n",
    "    #ax.set_ylabel('Group Rank Average', fontsize=14)\n",
    "    ax.tick_params(axis='both', which='major', labelsize=12)  # Updated labelsize here\n",
    "    # Rotate the x-axis labels for better readability\n",
    "    ax.set_xticklabels(labels, rotation=45, ha='right', fontsize=13)\n",
    "\n",
    "    # Remove y-axis grid lines and only keep the horizontal line at 75\n",
    "    ax.yaxis.grid(False)\n",
    "\n",
    "    # Remove the spines\n",
    "    ax.spines['right'].set_visible(False)\n",
    "    ax.spines['top'].set_visible(False)\n",
    "    ax.spines['left'].set_visible(False)\n",
    "    \n",
    "    titledict = {'HB':'Depleted',\n",
    "                 'OT':'Original'}\n",
    "\n",
    "    plt.title(f'{dataset} {titledict[transform]}')\n",
    "    \n",
    "    # Display the plot\n",
    "    plt.tight_layout()  # Adjusts subplot params for better layout\n",
    "    plt.savefig(f'./paper_plots/mean_rank_bar_{dataset}_{transform}.png', dpi=500)\n",
    "    #plt.show()\n",
    "    \n",
    "plot_mean_rank(labels,values,dataset,transform)"
   ]
  },
  {
   "cell_type": "markdown",
   "id": "b73770f4-2ac6-4ca5-a57e-1095cf96d7b9",
   "metadata": {},
   "source": [
    "## Correlation Plot all"
   ]
  },
  {
   "cell_type": "code",
   "execution_count": 72,
   "id": "4e2ddfe6-4147-4ba2-989f-beaf80cb976e",
   "metadata": {},
   "outputs": [
    {
     "name": "stdout",
     "output_type": "stream",
     "text": [
      "\n",
      "DTD:\n",
      "Marg mean rank: 41.5\n",
      "Marg med rank: 41.5\n",
      "BP Var mean rank: 1.0\n",
      "BP Var med rank: 1.0\n",
      "LP Var mean rank: 68.33333333333333\n",
      "LP Var med rank: 67.0\n",
      "Non Ori mean rank: 63.42857142857143\n",
      "Non Ori med rank: 74.0\n",
      "Mag Mn mean rank: 44.5\n",
      "Mag Mn med rank: 34.0\n",
      "Mag Var mean rank: 53.4375\n",
      "Mag Var med rank: 50.5\n",
      "Mag Cor mean rank: 64.77777777777777\n",
      "Mag Cor med rank: 65.5\n",
      "Phs Cor mean rank: 107.375\n",
      "Phs Cor med rank: 122.0\n",
      "End-Stp mean rank: 70.375\n",
      "End-Stp med rank: 63.5\n",
      "\n",
      "KTH:\n",
      "Marg mean rank: 31.0\n",
      "Marg med rank: 31.0\n",
      "BP Var mean rank: 1.0\n",
      "BP Var med rank: 1.0\n",
      "LP Var mean rank: 34.0\n",
      "LP Var med rank: 33.0\n",
      "Non Ori mean rank: 54.92857142857143\n",
      "Non Ori med rank: 57.5\n",
      "Mag Mn mean rank: 44.3125\n",
      "Mag Mn med rank: 22.0\n",
      "Mag Var mean rank: 69.75\n",
      "Mag Var med rank: 65.5\n",
      "Mag Cor mean rank: 63.111111111111114\n",
      "Mag Cor med rank: 61.5\n",
      "Phs Cor mean rank: 107.75\n",
      "Phs Cor med rank: 119.5\n",
      "End-Stp mean rank: 73.5\n",
      "End-Stp med rank: 67.5\n"
     ]
    }
   ],
   "source": [
    "import pickle\n",
    "#dataset = 'DTD' #'KTH''DTD'\n",
    "transform = 'OT' #'OT''HB\n",
    "\n",
    "with open(f'idxes_DTD_{transform}.pickle','rb') as f:\n",
    "    d = pickle.load(f)\n",
    "    sil_dtd = d['sil']\n",
    "with open(f'idxes_KTH_{transform}.pickle','rb') as f:\n",
    "    d = pickle.load(f)\n",
    "    sil_kth = d['sil']\n",
    "    \n",
    "    \n",
    "def compute_mean_rank(indices, stat_index_list):\n",
    "    ranks = [stat_index_list.index(idx) + 1 for idx in indices if idx in stat_index_list]\n",
    "    return sum(ranks) / len(ranks) if ranks else None\n",
    "\n",
    "def compute_med_rank(indices, stat_index_list):\n",
    "    ranks = [stat_index_list.index(idx) + 1 for idx in indices if idx in stat_index_list]\n",
    "    return np.median(ranks) if ranks else None\n",
    "\n",
    "ostat_labels = ['mean', 'variance', 'bandpass_variance 0', 'variance 1', 'skew 1', 'kurtosis 1', 'variance 2', 'skew 2', 'kurtosis 2', 'variance 3', 'skew 3', 'kurtosis 3', 'variance 4', 'skew 4', 'kurtosis 4', 'variance 5', 'skew 5', 'kurtosis 5', 'edge_mean 1 0', 'edge_variance 1 0', 'edge_correlation (1, 2) 0', 'edge_stop 1 0', 'edge_mean 1 1', 'edge_variance 1 1', 'edge_correlation (1, 2) 1', 'edge_stop 1 1', 'edge_mean 1 2', 'edge_variance 1 2', 'edge_correlation (1, 2) 2', 'edge_stop 1 2', 'edge_mean 1 3', 'edge_variance 1 3', 'edge_correlation (1, 2) 3', 'edge_stop 1 3', 'edge_correlation 1 (0, 1)', 'edge_correlation 1 (0, 2)', 'edge_correlation 1 (0, 3)', 'edge_correlation 1 (1, 2)', 'edge_correlation 1 (1, 3)', 'edge_correlation 1 (2, 3)', 'edge_mean 2 0', 'edge_variance 2 0', 'edge_correlation (2, 3) 0', 'edge_stop 2 0', 'edge_mean 2 1', 'edge_variance 2 1', 'edge_correlation (2, 3) 1', 'edge_stop 2 1', 'edge_mean 2 2', 'edge_variance 2 2', 'edge_correlation (2, 3) 2', 'edge_stop 2 2', 'edge_mean 2 3', 'edge_variance 2 3', 'edge_correlation (2, 3) 3', 'edge_stop 2 3', 'edge_correlation 2 (0, 1)', 'edge_correlation 2 (0, 2)', 'edge_correlation 2 (0, 3)', 'edge_correlation 2 (1, 2)', 'edge_correlation 2 (1, 3)', 'edge_correlation 2 (2, 3)', 'edge_mean 3 0', 'edge_variance 3 0', 'edge_correlation (3, 4) 0', 'edge_stop 3 0', 'edge_mean 3 1', 'edge_variance 3 1', 'edge_correlation (3, 4) 1', 'edge_stop 3 1', 'edge_mean 3 2', 'edge_variance 3 2', 'edge_correlation (3, 4) 2', 'edge_stop 3 2', 'edge_mean 3 3', 'edge_variance 3 3', 'edge_correlation (3, 4) 3', 'edge_stop 3 3', 'edge_correlation 3 (0, 1)', 'edge_correlation 3 (0, 2)', 'edge_correlation 3 (0, 3)', 'edge_correlation 3 (1, 2)', 'edge_correlation 3 (1, 3)', 'edge_correlation 3 (2, 3)', 'edge_mean 4 0', 'edge_variance 4 0', 'edge_stop 4 0', 'edge_mean 4 1', 'edge_variance 4 1', 'edge_stop 4 1', 'edge_mean 4 2', 'edge_variance 4 2', 'edge_stop 4 2', 'edge_mean 4 3', 'edge_variance 4 3', 'edge_stop 4 3', 'edge_correlation 4 (0, 1)', 'edge_correlation 4 (0, 2)', 'edge_correlation 4 (0, 3)', 'edge_correlation 4 (1, 2)', 'edge_correlation 4 (1, 3)', 'edge_correlation 4 (2, 3)', 'phase_correlation 1 er (0, 1)', 'phase_correlation 1 er (0, 2)', 'phase_correlation 1 er (0, 3)', 'phase_correlation 1 er (1, 2)', 'phase_correlation 1 er (1, 3)', 'phase_correlation 1 er (2, 3)', 'phase_correlation (1, 2) ei*di 0', 'phase_correlation (1, 2) er*di 0', 'phase_correlation (1, 2) ei*di 1', 'phase_correlation (1, 2) er*di 1', 'phase_correlation (1, 2) ei*di 2', 'phase_correlation (1, 2) er*di 2', 'phase_correlation (1, 2) ei*di 3', 'phase_correlation (1, 2) er*di 3', 'phase_correlation 2 er (0, 1)', 'phase_correlation 2 er (0, 2)', 'phase_correlation 2 er (0, 3)', 'phase_correlation 2 er (1, 2)', 'phase_correlation 2 er (1, 3)', 'phase_correlation 2 er (2, 3)', 'phase_correlation (2, 3) ei*di 0', 'phase_correlation (2, 3) er*di 0', 'phase_correlation (2, 3) ei*di 1', 'phase_correlation (2, 3) er*di 1', 'phase_correlation (2, 3) ei*di 2', 'phase_correlation (2, 3) er*di 2', 'phase_correlation (2, 3) ei*di 3', 'phase_correlation (2, 3) er*di 3', 'phase_correlation 3 er (0, 1)', 'phase_correlation 3 er (0, 2)', 'phase_correlation 3 er (0, 3)', 'phase_correlation 3 er (1, 2)', 'phase_correlation 3 er (1, 3)', 'phase_correlation 3 er (2, 3)', 'phase_correlation (3, 4) ei*di 0', 'phase_correlation (3, 4) er*di 0', 'phase_correlation (3, 4) ei*di 1', 'phase_correlation (3, 4) er*di 1', 'phase_correlation (3, 4) ei*di 2', 'phase_correlation (3, 4) er*di 2', 'phase_correlation (3, 4) ei*di 3', 'phase_correlation (3, 4) er*di 3', 'phase_correlation 4 er (0, 1)', 'phase_correlation 4 er (0, 2)', 'phase_correlation 4 er (0, 3)', 'phase_correlation 4 er (1, 2)', 'phase_correlation 4 er (1, 3)', 'phase_correlation 4 er (2, 3)']\n",
    "\n",
    "# Groups of indices\n",
    "rawstats = [0, 1]\n",
    "bandpass_variance = [i for i, label in enumerate(ostat_labels) if 'bandpass_variance' in label]\n",
    "low = [3, 4, 5]\n",
    "nonoriented = list(range(6, 20))\n",
    "edgemean = [i for i, label in enumerate(ostat_labels) if 'edge_mean' in label]\n",
    "edgevariance = [i for i, label in enumerate(ostat_labels) if 'edge_variance' in label]\n",
    "edgecorrelation = [i for i, label in enumerate(ostat_labels) if 'edge_correlation' in label]\n",
    "phase = [i for i, label in enumerate(ostat_labels) if 'phase' in label]\n",
    "stop = [i for i, label in enumerate(ostat_labels) if 'stop' in label]\n",
    "\n",
    "# Compute mean ranks for each group and print\n",
    "# groups = {\n",
    "#     \"Marginals\": rawstats,\n",
    "#     \"Bandpass Variance\": bandpass_variance,\n",
    "#     \"Lowpass Variance\": low,\n",
    "#     \"Non-Oriented\": nonoriented,\n",
    "#     \"Magnitude Mean\": edgemean,\n",
    "#     \"Magnitude Variance\": edgevariance,\n",
    "#     \"Magnitude Correlation\": edgecorrelation,\n",
    "#     \"Phase Correlation\": phase,\n",
    "#     \"End-Stopped\": stop\n",
    "# }\n",
    "\n",
    "groups = {\n",
    "    \"Marg\": rawstats,\n",
    "    \"BP Var\": bandpass_variance,\n",
    "    \"LP Var\": low,\n",
    "    \"Non Ori\": nonoriented,\n",
    "    \"Mag Mn\": edgemean,\n",
    "    \"Mag Var\": edgevariance,\n",
    "    \"Mag Cor\": edgecorrelation,\n",
    "    \"Phs Cor\": phase,\n",
    "    \"End-Stp\": stop\n",
    "}\n",
    "\n",
    "labels_dtd = []\n",
    "labels_kth = []\n",
    "mean_values_dtd = []\n",
    "mean_values_kth = []\n",
    "med_values_dtd = []\n",
    "med_values_kth = [] \n",
    "\n",
    "print(\"\\nDTD:\")\n",
    "for group_name, indices in groups.items():\n",
    "    mean_dtd = compute_mean_rank(indices, sil_dtd)\n",
    "    med_dtd = compute_med_rank(indices, sil_dtd)\n",
    "    print(f\"{group_name} mean rank:\", mean_dtd)\n",
    "    print(f\"{group_name} med rank:\", med_dtd)\n",
    "    labels_dtd.append(group_name)\n",
    "    mean_values_dtd.append(mean_dtd)\n",
    "    med_values_dtd.append(med_dtd)\n",
    "    \n",
    "print(\"\\nKTH:\")\n",
    "for group_name, indices in groups.items():\n",
    "    mean_kth = compute_mean_rank(indices, sil_kth)\n",
    "    med_kth = compute_med_rank(indices, sil_kth)\n",
    "    print(f\"{group_name} mean rank:\", mean_kth)\n",
    "    print(f\"{group_name} med rank:\", med_kth)\n",
    "    labels_kth.append(group_name)\n",
    "    mean_values_kth.append(mean_kth)\n",
    "    med_values_kth.append(med_kth)"
   ]
  },
  {
   "cell_type": "code",
   "execution_count": 90,
   "id": "aa28c784-6d3c-4e52-86b5-537d50f0d4ff",
   "metadata": {},
   "outputs": [
    {
     "data": {
      "image/png": "[encoded data removed]",
      "text/plain": [
       "<Figure size 400x400 with 1 Axes>"
      ]
     },
     "metadata": {},
     "output_type": "display_data"
    }
   ],
   "source": [
    "import matplotlib.pyplot as plt\n",
    "import numpy as np\n",
    "import matplotlib.cm as cm\n",
    "colors = plt.rcParams['axes.prop_cycle'].by_key()['color']\n",
    "#colors = np.array([plt.get_cmap('jet', 10).color])\n",
    "#cmap = cm.get_cmap('tab10')\n",
    "#colors = np.array([cmap(np.linspace(0, 1, 9))])\n",
    "##colors = ['#FF9999', '#66B2FF', '#99FF99', '#FFCC99', '#FFD700', '#C2C2F0', '#FFB3E6', '#FF6666', '#C2C2F0']\n",
    "\n",
    "fig, ax = plt.subplots(figsize=(4,4))\n",
    "\n",
    "for i in range(len(labels_kth)):\n",
    "    #kth rankings raw\n",
    "    idx_list_kth = groups[labels_kth[i]]\n",
    "    kth_ranks = [sil_kth.index(idx) + 1 for idx in idx_list_kth if idx in sil_kth]\n",
    "    #dtd rankings raw\n",
    "    idx_list_dtd = groups[labels_dtd[i]]\n",
    "    dtd_ranks = [sil_dtd.index(idx) + 1 for idx in idx_list_dtd if idx in sil_dtd]\n",
    "    #plot raw\n",
    "    plt.scatter(kth_ranks, dtd_ranks,c=colors[i],s=5)\n",
    "for i in range(len(labels_kth)):\n",
    "    #plot means\n",
    "    plt.scatter(mean_values_kth[i],mean_values_dtd[i],c=colors[i],label=labels_kth[i],s=80, marker='o')\n",
    "    #plot medians\n",
    "    #plt.scatter(med_values_kth[i],med_values_dtd[i],s=80, marker='o',edgecolors=colors[i],facecolors='none')\n",
    "    plt.scatter(med_values_kth[i],med_values_dtd[i], s=120, marker='x',c=colors[i])\n",
    "\n",
    "plt.xlabel('Ranking KTH')\n",
    "plt.ylabel('Ranking DTD')\n",
    "plt.xlim(-3, 153)\n",
    "plt.ylim(-3, 153)\n",
    "\n",
    "plt.legend()\n",
    "plt.tight_layout()\n",
    "plt.savefig(f'./paper_plots/scatter_rank_.png', dpi=500)\n",
    "#plt.show()\n",
    "    \n",
    "#plt.scatter(values_kth,values_dtd,c=colors)"
   ]
  },
  {
   "cell_type": "code",
   "execution_count": 41,
   "id": "0cdef8b6-cb72-47b6-b980-6316517b3be0",
   "metadata": {},
   "outputs": [
    {
     "data": {
      "text/plain": [
       "[6, 7, 8, 9, 10, 11, 12, 13, 14, 15, 16, 17, 18, 19]"
      ]
     },
     "execution_count": 41,
     "metadata": {},
     "output_type": "execute_result"
    }
   ],
   "source": [
    "groups['Non Ori']"
   ]
  },
  {
   "cell_type": "code",
   "execution_count": 1,
   "id": "8dc63e43-8045-45e4-95ac-a81e67724a9d",
   "metadata": {},
   "outputs": [
    {
     "ename": "NameError",
     "evalue": "name 'i' is not defined",
     "output_type": "error",
     "traceback": [
      "\u001b[0;31m---------------------------------------------------------------------------\u001b[0m",
      "\u001b[0;31mNameError\u001b[0m                                 Traceback (most recent call last)",
      "Input \u001b[0;32mIn [1]\u001b[0m, in \u001b[0;36m<cell line: 1>\u001b[0;34m()\u001b[0m\n\u001b[0;32m----> 1\u001b[0m i \u001b[38;5;241m=\u001b[39m \u001b[43mi\u001b[49m\u001b[38;5;241m+\u001b[39m\u001b[38;5;241m1\u001b[39m\n",
      "\u001b[0;31mNameError\u001b[0m: name 'i' is not defined"
     ]
    }
   ],
   "source": [
    "i = 1"
   ]
  },
  {
   "cell_type": "code",
   "execution_count": null,
   "id": "4a610c38-d264-4971-82a0-7899955c5fff",
   "metadata": {},
   "outputs": [],
   "source": [
    "i = i+1"
   ]
  },
  {
   "cell_type": "code",
   "execution_count": 2,
   "id": "9a2edbce-5934-43a3-b4c0-548ea7cbf70f",
   "metadata": {},
   "outputs": [
    {
     "name": "stdout",
     "output_type": "stream",
     "text": [
      "stoi\n"
     ]
    }
   ],
   "source": [
    "print(\"stoi\")"
   ]
  },
  {
   "cell_type": "code",
   "execution_count": null,
   "id": "fefa9a5f-609a-41a0-a009-4232b97f4542",
   "metadata": {},
   "outputs": [],
   "source": []
  }
 ],
 "metadata": {
  "kernelspec": {
   "display_name": "Python 3 (ipykernel)",
   "language": "python",
   "name": "python3"
  },
  "language_info": {
   "codemirror_mode": {
    "name": "ipython",
    "version": 3
   },
   "file_extension": ".py",
   "mimetype": "text/x-python",
   "name": "python",
   "nbconvert_exporter": "python",
   "pygments_lexer": "ipython3",
   "version": "3.8.13"
  }
 },
 "nbformat": 4,
 "nbformat_minor": 5
}
