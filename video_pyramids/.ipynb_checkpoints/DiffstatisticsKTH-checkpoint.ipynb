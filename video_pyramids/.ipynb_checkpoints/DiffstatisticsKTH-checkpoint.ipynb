{
 "cells": [
  {
   "cell_type": "markdown",
   "id": "85ccde89-352c-4aa9-bbe3-86c26652f599",
   "metadata": {},
   "source": [
    "## Original textures "
   ]
  },
  {
   "cell_type": "code",
   "execution_count": 2,
   "id": "d38a5383-383a-466f-b29b-3c8845fb6e23",
   "metadata": {},
   "outputs": [
    {
     "name": "stdout",
     "output_type": "stream",
     "text": [
      "cuda:0\n"
     ]
    }
   ],
   "source": [
    "import torch\n",
    "import torchvision\n",
    "import torchvision.transforms as transforms\n",
    "import torch.utils.data as data\n",
    "from torch.utils.data import DataLoader\n",
    "import torch.nn as nn\n",
    "import sys\n",
    "import matplotlib.pyplot as plt\n",
    "from tsne_torch import TorchTSNE\n",
    "import numpy as np\n",
    "sys.path.append('/home/gridsan/ckoevesdi/.local/lib/python3.9/site-packages/')\n",
    "from pytorch_metric_learning import losses\n",
    "\n",
    "sys.path.append('/home/gridsan/ckoevesdi/PooledStatisticsMetamers/poolstatmetamer/')\n",
    "import utils.statnetencoder as sne\n",
    "import importlib\n",
    "import imp\n",
    "import torch.nn.functional as F\n",
    "\n",
    "#!wget https://raw.githubusercontent.com/pytorch/pytorch/master/torch/utils/collect_env.py\n",
    "\n",
    "#sys.path.append(r'C:\\Users\\chris\\Documents\\MIT\\Statistics_analysis_code\\PyTorchSteerablePyramid')\n",
    "sys.path.append('/home/gridsan/ckoevesdi/PyTorchSteerablePyramid/')\n",
    "import steerable\n",
    "import steerable.utils as utils\n",
    "from steerable.SCFpyr_PyTorch import SCFpyr_PyTorch\n",
    "\n",
    "torch.manual_seed(16)\n",
    "\n",
    "#use GPU 2\n",
    "device = torch.device('cuda:0') if torch.cuda.is_available() else torch.device('cpu')\n",
    "print(device)\n",
    "dtd_folder = 'home/gridsan/ckoevesdi/data/OT/dtd_torch/dtd/'\n"
   ]
  },
  {
   "cell_type": "code",
   "execution_count": 18,
   "id": "7591e9e0-cacd-4069-a438-e4079d4d37a4",
   "metadata": {},
   "outputs": [],
   "source": [
    "loading_transforms = transforms.Compose([\n",
    "    transforms.CenterCrop(size=256),\n",
    "    transforms.Grayscale(),\n",
    "    transforms.ToTensor(),  # This will also convert the image from [0, 255] to [0.0, 1.0]\n",
    "    transforms.ConvertImageDtype(torch.float32)\n",
    "])\n",
    "\n",
    "#use training set for now\n",
    "class_dtd_datasetOT = torchvision.datasets.DTD(root='/home/gridsan/ckoevesdi/data/OT/dtd_torch/', split='train', \n",
    "                                             partition=10, \n",
    "                                       transform=loading_transforms, target_transform=None,\n",
    "                                       download=False) #ah das datenset muss so aussehen wie es auf der website auch ist, deswegen kann man auch download false machen\n",
    "# Define the batch size (Change this based on your requirements)\n",
    "batch_size = 1\n",
    "\n",
    "# Create a DataLoader\n",
    "classification_dataloaderOT = DataLoader(\n",
    "    class_dtd_datasetOT,\n",
    "    batch_size=batch_size,\n",
    "    shuffle=False\n",
    ")\n",
    "tensor2pil_transform = transforms.ToPILImage()"
   ]
  },
  {
   "cell_type": "code",
   "execution_count": 5,
   "id": "05bc5ca6-7210-4f10-ba80-d733bcfdaf7f",
   "metadata": {},
   "outputs": [
    {
     "name": "stdout",
     "output_type": "stream",
     "text": [
      "Creating solver: pyramid=UBBBBL_6 pooling=WholeImagePooling()\n"
     ]
    },
    {
     "name": "stderr",
     "output_type": "stream",
     "text": [
      "/state/partition1/llgrid/pkg/anaconda/anaconda3-2022a/lib/python3.8/site-packages/torch/functional.py:568: UserWarning: torch.meshgrid: in an upcoming release, it will be required to pass the indexing argument. (Triggered internally at  ../aten/src/ATen/native/TensorShape.cpp:2228.)\n",
      "  return _VF.meshgrid(tensors, **kwargs)  # type: ignore[attr-defined]\n"
     ]
    }
   ],
   "source": [
    "import utils.brucenet as bn\n",
    "brucy = bn.BruceNet(pooling_region_size=1e20, pyramid_params=False, dummy_img = torch.zeros(20,\n",
    "                                     1,\n",
    "                                     256,\n",
    "                                     256)).to(device)"
   ]
  },
  {
   "cell_type": "code",
   "execution_count": 7,
   "id": "37a58202-6368-4352-afc5-a9fbdf14f432",
   "metadata": {},
   "outputs": [],
   "source": [
    "all_statisticsOT = []\n",
    "\n",
    "for j, (texture_batch, labels) in enumerate(classification_dataloader):\n",
    "    # Assuming texture_batch has a shape of [20, 5, 1, 128, 128]\n",
    "    #print(texture_batch.shape)\n",
    "    output = texture_batch.to(device)\n",
    "    output = torch.stack([output, output]).squeeze(1)\n",
    "    #print(output.shape)\n",
    "    #print(labels)\n",
    "    statistics = brucy(output)  # This should output a tensor of shape [2, 150]\n",
    "    statistics = statistics[0,:]\n",
    "    #print(statistics[0,:])\n",
    "    # You can now store these statistics, along with the label and original image index\n",
    "    all_statisticsOT.append({\n",
    "        'statistics': statistics.cpu().numpy(),\n",
    "        #'label': labels[i].item(),\n",
    "        'original_image_index': labels.cpu().numpy()\n",
    "    })"
   ]
  },
  {
   "cell_type": "code",
   "execution_count": 16,
   "id": "fa6765e3-7673-4005-b659-0512f0a5cfce",
   "metadata": {},
   "outputs": [
    {
     "name": "stdout",
     "output_type": "stream",
     "text": [
      "(4185, 150)\n"
     ]
    }
   ],
   "source": [
    "statistics_arrayOT = np.array([item['statistics'] for item in all_statisticsOT])\n",
    "print(statistics_arrayOT.shape)"
   ]
  },
  {
   "cell_type": "markdown",
   "id": "6fd23383-94f2-46f4-a5ea-3358bdcf0c27",
   "metadata": {},
   "source": [
    "## Heeger and Bergen"
   ]
  },
  {
   "cell_type": "code",
   "execution_count": 8,
   "id": "cf8ae7e4-a8f5-4e51-8eb2-73f15155c3d3",
   "metadata": {},
   "outputs": [],
   "source": [
    "dtd_folder = '/home/gridsan/ckoevesdi/data/dtd_torch/dtd/dtd/'"
   ]
  },
  {
   "cell_type": "code",
   "execution_count": 19,
   "id": "4f746c9c-0356-4c29-b515-2f79734a41d3",
   "metadata": {},
   "outputs": [],
   "source": [
    "loading_transforms = transforms.Compose([\n",
    "    transforms.CenterCrop(size=256),\n",
    "    transforms.Grayscale(),\n",
    "    transforms.ToTensor(),  # This will also convert the image from [0, 255] to [0.0, 1.0]\n",
    "    transforms.ConvertImageDtype(torch.float32)\n",
    "])\n",
    "\n",
    "#use training set for now\n",
    "class_dtd_datasetHB = torchvision.datasets.DTD(root='/home/gridsan/ckoevesdi/data/dtd_torch/', split='train', \n",
    "                                             partition=10, \n",
    "                                       transform=loading_transforms, target_transform=None,\n",
    "                                       download=False) #ah das datenset muss so aussehen wie es auf der website auch ist, deswegen kann man auch download false machen\n",
    "# Define the batch size (Change this based on your requirements)\n",
    "batch_size = 1\n",
    "\n",
    "# Create a DataLoader\n",
    "classification_dataloaderHB = DataLoader(\n",
    "    class_dtd_datasetHB,\n",
    "    batch_size=batch_size,\n",
    "    shuffle=False\n",
    ")\n",
    "tensor2pil_transform = transforms.ToPILImage()"
   ]
  },
  {
   "cell_type": "code",
   "execution_count": 11,
   "id": "00fc2df0-7964-4504-b42a-9d5f018c2a8e",
   "metadata": {},
   "outputs": [],
   "source": [
    "all_statisticsHB = []\n",
    "\n",
    "for j, (texture_batch, labels) in enumerate(classification_dataloader):\n",
    "    # Assuming texture_batch has a shape of [20, 5, 1, 128, 128]\n",
    "    #print(texture_batch.shape)\n",
    "    output = texture_batch.to(device)\n",
    "    output = torch.stack([output, output]).squeeze(1)\n",
    "    #print(output.shape)\n",
    "    #print(labels)\n",
    "    statisticsHB = brucy(output)  # This should output a tensor of shape [2, 150]\n",
    "    statisticsHB = statisticsHB[0,:]\n",
    "    #print(statistics[0,:])\n",
    "    # You can now store these statistics, along with the label and original image index\n",
    "    all_statisticsHB.append({\n",
    "        'statistics': statistics.cpu().numpy(),\n",
    "        #'label': labels[i].item(),\n",
    "        'original_image_index': labels.cpu().numpy()\n",
    "    })"
   ]
  },
  {
   "cell_type": "code",
   "execution_count": 15,
   "id": "af9f7f83-6cb7-4bfe-b7e3-6bbbbf80efe2",
   "metadata": {},
   "outputs": [
    {
     "name": "stdout",
     "output_type": "stream",
     "text": [
      "(4183, 150)\n"
     ]
    }
   ],
   "source": [
    "statistics_arrayHB = np.array([item['statistics'] for item in all_statisticsHB])\n",
    "print(statistics_arrayHB.shape)"
   ]
  },
  {
   "cell_type": "code",
   "execution_count": 20,
   "id": "eb5b0813-b1a6-4056-9061-37ebdb7294ae",
   "metadata": {},
   "outputs": [
    {
     "ename": "RuntimeError",
     "evalue": "Boolean value of Tensor with more than one value is ambiguous",
     "output_type": "error",
     "traceback": [
      "\u001b[0;31m---------------------------------------------------------------------------\u001b[0m",
      "\u001b[0;31mRuntimeError\u001b[0m                              Traceback (most recent call last)",
      "Input \u001b[0;32mIn [20]\u001b[0m, in \u001b[0;36m<cell line: 2>\u001b[0;34m()\u001b[0m\n\u001b[1;32m      1\u001b[0m missing_in_HB \u001b[38;5;241m=\u001b[39m []\n\u001b[1;32m      2\u001b[0m \u001b[38;5;28;01mfor\u001b[39;00m item \u001b[38;5;129;01min\u001b[39;00m class_dtd_datasetOT:\n\u001b[0;32m----> 3\u001b[0m     \u001b[38;5;28;01mif\u001b[39;00m \u001b[43mitem\u001b[49m\u001b[43m \u001b[49m\u001b[38;5;129;43;01mnot\u001b[39;49;00m\u001b[43m \u001b[49m\u001b[38;5;129;43;01min\u001b[39;49;00m\u001b[43m \u001b[49m\u001b[43mclass_dtd_datasetHB\u001b[49m:\n\u001b[1;32m      4\u001b[0m         missing_in_HB\u001b[38;5;241m.\u001b[39mappend(item)\n\u001b[1;32m      6\u001b[0m missing_in_OT \u001b[38;5;241m=\u001b[39m []\n",
      "\u001b[0;31mRuntimeError\u001b[0m: Boolean value of Tensor with more than one value is ambiguous"
     ]
    }
   ],
   "source": [
    "missing_in_HB = []\n",
    "for item in class_dtd_datasetOT:\n",
    "    if item not in class_dtd_datasetHB:\n",
    "        missing_in_HB.append(item)\n",
    "\n",
    "missing_in_OT = []\n",
    "for item in class_dtd_datasetHB:\n",
    "    if item not in class_dtd_datasetOT:\n",
    "        missing_in_OT.append(item)\n",
    "\n",
    "print(\"Missing in HB:\", missing_in_HB)\n",
    "print(\"Missing in OT:\", missing_in_OT)\n"
   ]
  },
  {
   "cell_type": "code",
   "execution_count": null,
   "id": "f8656183-3d0b-44c1-a97c-37b26f60ba20",
   "metadata": {},
   "outputs": [],
   "source": []
  }
 ],
 "metadata": {
  "kernelspec": {
   "display_name": "Python 3 (ipykernel)",
   "language": "python",
   "name": "python3"
  },
  "language_info": {
   "codemirror_mode": {
    "name": "ipython",
    "version": 3
   },
   "file_extension": ".py",
   "mimetype": "text/x-python",
   "name": "python",
   "nbconvert_exporter": "python",
   "pygments_lexer": "ipython3",
   "version": "3.8.13"
  }
 },
 "nbformat": 4,
 "nbformat_minor": 5
}
