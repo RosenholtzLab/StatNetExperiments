{
 "cells": [
  {
   "cell_type": "code",
   "execution_count": 1,
   "id": "d38a5383-383a-466f-b29b-3c8845fb6e23",
   "metadata": {},
   "outputs": [],
   "source": [
    "import torch\n",
    "import torchvision\n",
    "import torchvision.transforms as transforms\n",
    "import torch.utils.data as data\n",
    "from torch.utils.data import DataLoader\n",
    "import torch.nn as nn\n",
    "import sys\n",
    "import matplotlib.pyplot as plt\n",
    "from tsne_torch import TorchTSNE\n",
    "import numpy as np\n",
    "sys.path.append('/home/gridsan/ckoevesdi/.local/lib/python3.9/site-packages/')\n",
    "from pytorch_metric_learning import losses\n",
    "\n",
    "sys.path.append('/home/gridsan/ckoevesdi/PooledStatisticsMetamers/poolstatmetamer/')\n",
    "import utils.statnetencoder as sne\n",
    "import importlib\n",
    "import imp\n",
    "import torch.nn.functional as F\n",
    "\n",
    "#!wget https://raw.githubusercontent.com/pytorch/pytorch/master/torch/utils/collect_env.py\n",
    "\n",
    "#sys.path.append(r'C:\\Users\\chris\\Documents\\MIT\\Statistics_analysis_code\\PyTorchSteerablePyramid')\n",
    "sys.path.append('/home/gridsan/ckoevesdi/PyTorchSteerablePyramid/')\n",
    "import steerable\n",
    "import steerable.utils as utils\n",
    "from steerable.SCFpyr_PyTorch import SCFpyr_PyTorch\n",
    "sys.path.append('/home/gridsan/ckoevesdi/Testobreal/')\n",
    "\n",
    "torch.manual_seed(16)\n",
    "\n",
    "#use GPU 2\n",
    "device = torch.device('cuda:0') if torch.cuda.is_available() else torch.device('cpu')"
   ]
  },
  {
   "cell_type": "code",
   "execution_count": 2,
   "id": "7d399ef6-39a3-4eea-ac5b-ad51938fd0f3",
   "metadata": {},
   "outputs": [
    {
     "name": "stdout",
     "output_type": "stream",
     "text": [
      "Creating solver: pyramid=UBBBBL_6 pooling=WholeImagePooling()\n"
     ]
    },
    {
     "name": "stderr",
     "output_type": "stream",
     "text": [
      "/state/partition1/llgrid/pkg/anaconda/anaconda3-2022a/lib/python3.8/site-packages/torch/functional.py:568: UserWarning: torch.meshgrid: in an upcoming release, it will be required to pass the indexing argument. (Triggered internally at  ../aten/src/ATen/native/TensorShape.cpp:2228.)\n",
      "  return _VF.meshgrid(tensors, **kwargs)  # type: ignore[attr-defined]\n"
     ]
    }
   ],
   "source": [
    "import utils.brucenet as bn\n",
    "brucy = bn.BruceNet(pooling_region_size=1e20, pyramid_params=False, dummy_img = torch.zeros(20,\n",
    "                                     1,\n",
    "                                     630,\n",
    "                                     840)).to(device)"
   ]
  },
  {
   "cell_type": "code",
   "execution_count": 3,
   "id": "13c71a5b-9f7f-40de-bdad-48956a978d41",
   "metadata": {},
   "outputs": [],
   "source": [
    "# Path to the image\n",
    "from PIL import Image\n",
    "image_path = \"/home/gridsan/ckoevesdi/Testobreal/44.jpg\"\n",
    "\n",
    "# Read the image\n",
    "x = Image.open(image_path)\n",
    "x_gray = x.convert(\"L\")\n",
    "# Convert the PIL Image to a NumPy array\n",
    "image_array = np.array(x_gray)\n",
    "to_tensor = transforms.ToTensor()\n",
    "x_tensor = to_tensor(x_gray)\n",
    "xx = torch.stack([x_tensor, x_tensor]).to(device)"
   ]
  },
  {
   "cell_type": "code",
   "execution_count": 4,
   "id": "7dfac873-ad46-45cd-9dd6-8a483a780c94",
   "metadata": {},
   "outputs": [
    {
     "name": "stdout",
     "output_type": "stream",
     "text": [
      "torch.Size([2, 1, 630, 840])\n"
     ]
    }
   ],
   "source": [
    "# Path to the image\n",
    "from PIL import Image\n",
    "image_path = \"/home/gridsan/ckoevesdi/Testobreal/43.jpg\"\n",
    "\n",
    "# Read the image\n",
    "y = Image.open(image_path)\n",
    "y = y.convert(\"L\")\n",
    "\n",
    "# Convert the PIL Image to a NumPy array\n",
    "image_array = np.array(y)\n",
    "to_tensor = transforms.ToTensor()\n",
    "y_tensor = to_tensor(y)\n",
    "yy = torch.stack([y_tensor, y_tensor]).to(device)\n",
    "print(yy.shape)"
   ]
  },
  {
   "cell_type": "code",
   "execution_count": 5,
   "id": "512bea93-2e77-4e84-8f37-a1b1d0f79e27",
   "metadata": {},
   "outputs": [
    {
     "name": "stdout",
     "output_type": "stream",
     "text": [
      "torch.Size([2, 1, 630, 840])\n"
     ]
    }
   ],
   "source": [
    "# Path to the image\n",
    "from PIL import Image\n",
    "image_path = \"/home/gridsan/ckoevesdi/Testobreal/orig.jpg\"\n",
    "\n",
    "# Read the image\n",
    "y = Image.open(image_path)\n",
    "y = y.convert(\"L\")\n",
    "\n",
    "# Convert the PIL Image to a NumPy array\n",
    "image_array = np.array(y)\n",
    "to_tensor = transforms.ToTensor()\n",
    "y_tensor = to_tensor(y)\n",
    "zz = torch.stack([y_tensor, y_tensor]).to(device)\n",
    "print(zz.shape)"
   ]
  },
  {
   "cell_type": "code",
   "execution_count": 6,
   "id": "99ffe2a2-072d-441e-b673-5b0c9d471acc",
   "metadata": {
    "tags": []
   },
   "outputs": [
    {
     "name": "stdout",
     "output_type": "stream",
     "text": [
      "tensor([ 1.7058e+00,  8.0517e-01,  8.1627e-02,  1.1353e+00,  1.1008e+00,\n",
      "         1.0808e+00,  1.5949e+00,  1.5414e+00,  1.5111e+00,  2.2290e+00,\n",
      "         2.1419e+00,  2.0943e+00,  3.1081e+00,  2.9692e+00,  2.8972e+00,\n",
      "         4.3199e+00,  4.1002e+00,  3.9893e+00,  3.6685e-01,  3.4274e-01,\n",
      "         5.1597e-01,  9.8224e-02,  2.3651e-01,  1.3014e-01,  1.4534e-01,\n",
      "         3.8183e-02,  2.3796e-01,  1.7185e-01,  2.7811e-01,  5.3021e-02,\n",
      "         3.9533e-01,  3.4713e-01,  5.9272e-01,  3.9181e-02,  1.6927e-01,\n",
      "         1.1434e-01,  2.8802e-01,  1.1193e-01,  1.7591e-01,  1.7174e-01,\n",
      "         7.1330e-01,  7.7737e-01,  9.3105e-01,  3.1284e-01,  3.5216e-01,\n",
      "         1.8018e-01,  2.2466e-01,  1.2615e-01,  4.9931e-01,  4.3140e-01,\n",
      "         5.7732e-01,  1.6890e-01,  8.7638e-01,  1.1124e+00,  1.1984e+00,\n",
      "         4.5787e-01,  2.8173e-01,  2.8274e-01,  7.8357e-01,  2.0124e-01,\n",
      "         3.0736e-01,  5.0111e-01,  1.1278e+00,  1.1807e+00,  1.3282e+00,\n",
      "         4.5527e-01,  6.0029e-01,  2.8542e-01,  3.6236e-01,  1.9767e-01,\n",
      "         8.7463e-01,  7.6084e-01,  1.0949e+00,  2.4200e-01,  1.2690e+00,\n",
      "         1.4324e+00,  1.2187e+00,  6.4265e-01,  4.3272e-01,  4.2498e-01,\n",
      "         1.0840e+00,  3.5022e-01,  4.5469e-01,  7.2193e-01,  1.6922e+00,\n",
      "         1.5785e+00,  4.6642e-01,  1.0618e+00,  4.7893e-01,  3.3479e-01,\n",
      "         1.5823e+00,  1.4868e+00,  2.4220e-01,  1.5867e+00,  1.1342e+00,\n",
      "         6.0427e-01,  6.4184e-01,  4.8868e-01,  1.0447e+00,  6.5116e-01,\n",
      "         5.8421e-01,  8.7134e-01,  2.8328e-01, -5.3700e-02, -6.2290e-01,\n",
      "         1.8640e-01, -3.4401e-02,  3.1021e-01, -7.6188e-02,  1.0663e-01,\n",
      "         1.8795e-03,  9.5083e-03,  9.7161e-03,  5.2266e-02,  1.2957e-01,\n",
      "         6.6860e-02,  4.4609e-01, -2.2977e-01, -1.7568e+00,  3.2473e-01,\n",
      "        -6.2792e-02,  1.0103e+00,  1.1342e-01,  2.6058e-01,  3.6228e-02,\n",
      "         7.0138e-02, -4.3322e-02,  3.0100e-01, -2.0209e-02,  3.0357e-01,\n",
      "         7.4224e-01, -2.8124e-01, -2.3838e+00,  6.1535e-01, -7.2583e-02,\n",
      "         1.4383e+00,  1.5142e-01,  3.7243e-01, -1.8816e-05,  5.1491e-02,\n",
      "         2.7511e-02,  4.4354e-01, -4.5494e-03,  1.2686e-01,  1.2646e+00,\n",
      "        -1.5050e-01, -2.2645e+00,  1.3398e+00,  1.2217e-02,  1.8057e+00],\n",
      "       device='cuda:0')\n"
     ]
    }
   ],
   "source": [
    "statistics3 = brucy(zz)  # This should output a tensor of shape [2, 150]\n",
    "statistics3 = statistics3[0,:]\n",
    "print(statistics3)"
   ]
  },
  {
   "cell_type": "code",
   "execution_count": 7,
   "id": "0dac3026-4ccd-43ec-86b0-a5e725c1cd5e",
   "metadata": {},
   "outputs": [],
   "source": [
    "statistics = brucy(yy)  # This should output a tensor of shape [2, 150]\n",
    "statistics = statistics[0,:]"
   ]
  },
  {
   "cell_type": "code",
   "execution_count": 8,
   "id": "1633e3eb-d108-4cef-8305-e8887013eaca",
   "metadata": {},
   "outputs": [],
   "source": [
    "statistics2 = brucy(xx)  # This should output a tensor of shape [2, 150]\n",
    "statistics2 = statistics2[0,:]"
   ]
  },
  {
   "cell_type": "code",
   "execution_count": null,
   "id": "7c7ae8a0-d7f9-4d1e-a2a4-71aafb01b820",
   "metadata": {},
   "outputs": [],
   "source": [
    "print(statistics2)"
   ]
  },
  {
   "cell_type": "code",
   "execution_count": null,
   "id": "7133b749-31f7-416d-a888-2de04f7bdaf5",
   "metadata": {},
   "outputs": [],
   "source": [
    "print(statistics)"
   ]
  },
  {
   "cell_type": "code",
   "execution_count": 15,
   "id": "2efb79f0-111a-4d25-b8ae-16749bd8c78f",
   "metadata": {},
   "outputs": [
    {
     "name": "stdout",
     "output_type": "stream",
     "text": [
      "MSE for first 50 elements: 0.0008842774550430477\n",
      "MSE for last 50 elements: 0.006435114424675703\n"
     ]
    }
   ],
   "source": [
    "import torch\n",
    "import torch.nn.functional as F\n",
    "\n",
    "\n",
    "# Slice the vectors to get the first 50 and last 50 elements\n",
    "yy_first50 = statistics[20:50]\n",
    "zz_first50 = statistics3[20:50]\n",
    "yy_last50 = statistics[100:130]\n",
    "zz_last50 = statistics3[100:130]\n",
    "\n",
    "# Compute the MSE between the first 50 elements of each vector\n",
    "mse_first50 = F.mse_loss(yy_first50, zz_first50)\n",
    "\n",
    "# Compute the MSE between the last 50 elements of each vector\n",
    "mse_last50 = F.mse_loss(yy_last50, zz_last50)\n",
    "\n",
    "# Print the results\n",
    "print(f\"MSE for first 50 elements: {mse_first50.item()}\")\n",
    "print(f\"MSE for last 50 elements: {mse_last50.item()}\")\n"
   ]
  },
  {
   "cell_type": "code",
   "execution_count": 12,
   "id": "713474f6-94a9-4bfc-8a82-16ed0ddd5615",
   "metadata": {},
   "outputs": [
    {
     "name": "stdout",
     "output_type": "stream",
     "text": [
      "MSE for first 50 elements: 0.0041005113162100315\n",
      "MSE for last 50 elements: 0.0033451493363827467\n"
     ]
    }
   ],
   "source": [
    "import torch\n",
    "import torch.nn.functional as F\n",
    "\n",
    "\n",
    "# Slice the vectors to get the first 50 and last 50 elements\n",
    "yy_first50 = statistics[:50]\n",
    "zz_first50 = statistics3[:50]\n",
    "yy_last50 = statistics[50:100]\n",
    "zz_last50 = statistics3[50:100]\n",
    "\n",
    "# Compute the MSE between the first 50 elements of each vector\n",
    "mse_first50 = F.mse_loss(statistics, statistics3)\n",
    "\n",
    "# Compute the MSE between the last 50 elements of each vector\n",
    "mse_last50 = F.mse_loss(statistics2, statistics3)\n",
    "\n",
    "# Print the results\n",
    "print(f\"MSE for first 50 elements: {mse_first50.item()}\")\n",
    "print(f\"MSE for last 50 elements: {mse_last50.item()}\")\n"
   ]
  },
  {
   "cell_type": "code",
   "execution_count": null,
   "id": "36c12cc9-569b-4673-9291-a415f36c8539",
   "metadata": {},
   "outputs": [],
   "source": [
    "print(yy)"
   ]
  },
  {
   "cell_type": "code",
   "execution_count": null,
   "id": "abd63ce4-f8b0-4309-a5a8-d10376bf8d4a",
   "metadata": {},
   "outputs": [],
   "source": []
  }
 ],
 "metadata": {
  "kernelspec": {
   "display_name": "Python 3 (ipykernel)",
   "language": "python",
   "name": "python3"
  },
  "language_info": {
   "codemirror_mode": {
    "name": "ipython",
    "version": 3
   },
   "file_extension": ".py",
   "mimetype": "text/x-python",
   "name": "python",
   "nbconvert_exporter": "python",
   "pygments_lexer": "ipython3",
   "version": "3.8.13"
  }
 },
 "nbformat": 4,
 "nbformat_minor": 5
}
