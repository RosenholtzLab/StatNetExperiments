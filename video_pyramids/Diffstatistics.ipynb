{
 "cells": [
  {
   "cell_type": "markdown",
   "id": "85ccde89-352c-4aa9-bbe3-86c26652f599",
   "metadata": {},
   "source": [
    "## Original textures "
   ]
  },
  {
   "cell_type": "code",
   "execution_count": 1,
   "id": "d38a5383-383a-466f-b29b-3c8845fb6e23",
   "metadata": {},
   "outputs": [
    {
     "name": "stdout",
     "output_type": "stream",
     "text": [
      "cuda:0\n"
     ]
    }
   ],
   "source": [
    "import torch\n",
    "import torchvision\n",
    "import torchvision.transforms as transforms\n",
    "import torch.utils.data as data\n",
    "from torch.utils.data import DataLoader\n",
    "import torch.nn as nn\n",
    "import sys\n",
    "import matplotlib.pyplot as plt\n",
    "from tsne_torch import TorchTSNE\n",
    "import numpy as np\n",
    "sys.path.append('/home/gridsan/ckoevesdi/.local/lib/python3.9/site-packages/')\n",
    "from pytorch_metric_learning import losses\n",
    "\n",
    "sys.path.append('/home/gridsan/ckoevesdi/PooledStatisticsMetamers/poolstatmetamer/')\n",
    "import utils.statnetencoder as sne\n",
    "import importlib\n",
    "import imp\n",
    "import torch.nn.functional as F\n",
    "\n",
    "#!wget https://raw.githubusercontent.com/pytorch/pytorch/master/torch/utils/collect_env.py\n",
    "\n",
    "#sys.path.append(r'C:\\Users\\chris\\Documents\\MIT\\Statistics_analysis_code\\PyTorchSteerablePyramid')\n",
    "sys.path.append('/home/gridsan/ckoevesdi/PyTorchSteerablePyramid/')\n",
    "import steerable\n",
    "import steerable.utils as utils\n",
    "from steerable.SCFpyr_PyTorch import SCFpyr_PyTorch\n",
    "\n",
    "torch.manual_seed(16)\n",
    "\n",
    "#use GPU 2\n",
    "device = torch.device('cuda:0') if torch.cuda.is_available() else torch.device('cpu')\n",
    "print(device)\n",
    "dtd_folder = 'home/gridsan/ckoevesdi/data/OT/dtd_torch/dtd/'\n"
   ]
  },
  {
   "cell_type": "code",
   "execution_count": 16,
   "id": "d4bf1369-23f3-4f65-ab31-a064e147e1ae",
   "metadata": {},
   "outputs": [
    {
     "name": "stdout",
     "output_type": "stream",
     "text": [
      "Creating solver: pyramid=UBBBBL_6 pooling=WholeImagePooling()\n"
     ]
    }
   ],
   "source": [
    "importlib.reload(sne)\n",
    "#hyperparams\n",
    "num_epochs = 100\n",
    "batch_size = 1\n",
    "crop_size = 128 \n",
    "num_stats = 152 \n",
    "optimizer_type='adam'\n",
    "#optimizer_type='sgd'\n",
    "learning_rate = 0.001\n",
    "num_crops = 5 #changed this to four\n",
    "\n",
    "multistat_penalty = 0\n",
    "sparsity_penalty = 0 #0.01\n",
    "entropic_penalty = 0\n",
    "\n",
    "statnet_model = sne.StatNetEncoder(img_size=(crop_size,crop_size),\n",
    "                                   batch_size=batch_size,\n",
    "                                   num_stats=num_stats,\n",
    "                                   device=device)\n",
    "stat_labels = statnet_model.getsstatlabels(device)\n",
    "ostat_labels = stat_labels"
   ]
  },
  {
   "cell_type": "code",
   "execution_count": 50,
   "id": "bf602886-4cd7-42bd-ad72-08df6c709bcc",
   "metadata": {},
   "outputs": [],
   "source": [
    "import torch\n",
    "from torch.utils.data import Dataset, DataLoader\n",
    "from torchvision import transforms\n",
    "from PIL import Image\n",
    "\n",
    "class ImageDatasetFromTxt(Dataset):\n",
    "    def __init__(self, txt_file, base_dir, transform=None):\n",
    "        with open(txt_file, 'r') as f:\n",
    "            self.image_paths = f.readlines()\n",
    "        \n",
    "        # Prepend base_dir to each path and remove newline characters\n",
    "        self.image_paths = [base_dir + x.strip() for x in self.image_paths]\n",
    "        \n",
    "        self.transform = transform\n",
    "\n",
    "    def __len__(self):\n",
    "        return len(self.image_paths)\n",
    "\n",
    "    def __getitem__(self, idx):\n",
    "        image_path = self.image_paths[idx]\n",
    "        image = Image.open(image_path).convert(\"RGB\")  # Convert the image to RGB format\n",
    "        \n",
    "        if self.transform:\n",
    "            image = self.transform(image)\n",
    "        \n",
    "        return image\n",
    "\n",
    "# Specify transformations (if needed)\n",
    "transform = transforms.Compose([\n",
    "    transforms.Grayscale(),\n",
    "    transforms.ToTensor()\n",
    "])\n",
    "\n",
    "txt_file = '/home/gridsan/ckoevesdi/data/OT/dtd_torch/dtd/dtd/labels/train10.txt'\n",
    "base_dir = '/home/gridsan/ckoevesdi/DTD_col_cropped/'\n",
    "dataset = ImageDatasetFromTxt(txt_file, base_dir, transform=transform)\n",
    "\n",
    "batch_size = 1  # Set your desired batch size\n",
    "dataloader = DataLoader(dataset, batch_size=batch_size, shuffle=False)\n",
    "\n"
   ]
  },
  {
   "cell_type": "code",
   "execution_count": 53,
   "id": "d99bd25a-2bc9-47f9-8293-52a4d77ac615",
   "metadata": {},
   "outputs": [],
   "source": [
    "all_statisticsOT = []\n",
    "\n",
    "for j, texture_batch in enumerate(dataloader):\n",
    "    # Assuming texture_batch has a shape of [20, 5, 1, 128, 128]\n",
    "    #print(texture_batch.shape)\n",
    "    output = texture_batch.to(device)\n",
    "    output = torch.stack([output, output]).squeeze(1)\n",
    "    #print(output.shape)\n",
    "    #print(labels)\n",
    "    statistics = brucy(output)  # This should output a tensor of shape [2, 150]\n",
    "    statistics = statistics[0,:]\n",
    "    #print(statistics[0,:])\n",
    "    # You can now store these statistics, along with the label and original image index\n",
    "    all_statisticsOT.append({\n",
    "        'statistics': statistics.cpu().numpy(),\n",
    "        #'label': labels[i].item(),\n",
    "        'original_image_index': labels.cpu().numpy()\n",
    "    })"
   ]
  },
  {
   "cell_type": "code",
   "execution_count": 36,
   "id": "7591e9e0-cacd-4069-a438-e4079d4d37a4",
   "metadata": {},
   "outputs": [],
   "source": [
    "loading_transforms = transforms.Compose([\n",
    "    transforms.Resize((256, 256)),\n",
    "    transforms.Grayscale(),\n",
    "    transforms.ToTensor(),  # This will also convert the image from [0, 255] to [0.0, 1.0]\n",
    "    #transforms.ConvertImageDtype(torch.float32)\n",
    "])\n",
    "\n",
    "#use training set for now\n",
    "class_dtd_datasetOT = torchvision.datasets.DTD(root='/home/gridsan/ckoevesdi/data/OT/dtd_torch/', split='train', \n",
    "                                             partition=10, \n",
    "                                       transform=loading_transforms, target_transform=None,\n",
    "                                       download=False) #ah das datenset muss so aussehen wie es auf der website auch ist, deswegen kann man auch download false machen\n",
    "# Define the batch size (Change this based on your requirements)\n",
    "batch_size = 1\n",
    "\n",
    "# Create a DataLoader\n",
    "classification_dataloaderOT = DataLoader(\n",
    "    class_dtd_datasetOT,\n",
    "    batch_size=batch_size,\n",
    "    shuffle=False\n",
    ")\n",
    "#tensor2pil_transform = transforms.ToPILImage()"
   ]
  },
  {
   "cell_type": "code",
   "execution_count": 37,
   "id": "05bc5ca6-7210-4f10-ba80-d733bcfdaf7f",
   "metadata": {},
   "outputs": [
    {
     "name": "stdout",
     "output_type": "stream",
     "text": [
      "Creating solver: pyramid=UBBBBL_6 pooling=WholeImagePooling()\n"
     ]
    }
   ],
   "source": [
    "import utils.brucenet as bn\n",
    "brucy = bn.BruceNet(pooling_region_size=1e20, pyramid_params=False, dummy_img = torch.zeros(20,\n",
    "                                     1,\n",
    "                                     256,\n",
    "                                     256)).to(device)"
   ]
  },
  {
   "cell_type": "code",
   "execution_count": 38,
   "id": "37a58202-6368-4352-afc5-a9fbdf14f432",
   "metadata": {},
   "outputs": [],
   "source": [
    "all_statisticsOT = []\n",
    "\n",
    "for j, (texture_batch, labels) in enumerate(classification_dataloaderOT):\n",
    "    # Assuming texture_batch has a shape of [20, 5, 1, 128, 128]\n",
    "    #print(texture_batch.shape)\n",
    "    output = texture_batch.to(device)\n",
    "    output = torch.stack([output, output]).squeeze(1)\n",
    "    #print(output.shape)\n",
    "    #print(labels)\n",
    "    statistics = brucy(output)  # This should output a tensor of shape [2, 150]\n",
    "    statistics = statistics[0,:]\n",
    "    #print(statistics[0,:])\n",
    "    # You can now store these statistics, along with the label and original image index\n",
    "    all_statisticsOT.append({\n",
    "        'statistics': statistics.cpu().numpy(),\n",
    "        #'label': labels[i].item(),\n",
    "        'original_image_index': labels.cpu().numpy()\n",
    "    })"
   ]
  },
  {
   "cell_type": "code",
   "execution_count": 54,
   "id": "fa6765e3-7673-4005-b659-0512f0a5cfce",
   "metadata": {},
   "outputs": [
    {
     "name": "stdout",
     "output_type": "stream",
     "text": [
      "(4183, 152)\n"
     ]
    }
   ],
   "source": [
    "statistics_arrayOT = np.array([item['statistics'] for item in all_statisticsOT])\n",
    "print(statistics_arrayOT.shape)"
   ]
  },
  {
   "cell_type": "markdown",
   "id": "6fd23383-94f2-46f4-a5ea-3358bdcf0c27",
   "metadata": {},
   "source": [
    "## Heeger and Bergen"
   ]
  },
  {
   "cell_type": "code",
   "execution_count": 40,
   "id": "cf8ae7e4-a8f5-4e51-8eb2-73f15155c3d3",
   "metadata": {},
   "outputs": [],
   "source": [
    "dtd_folder = '/home/gridsan/ckoevesdi/data/dtd_torch/dtd/dtd/'"
   ]
  },
  {
   "cell_type": "code",
   "execution_count": 61,
   "id": "4f746c9c-0356-4c29-b515-2f79734a41d3",
   "metadata": {},
   "outputs": [],
   "source": [
    "loading_transforms = transforms.Compose([\n",
    "    transforms.Grayscale(),\n",
    "    transforms.ToTensor(),  # This will also convert the image from [0, 255] to [0.0, 1.0]\n",
    "])\n",
    "\n",
    "#use training set for now\n",
    "class_dtd_datasetHB = torchvision.datasets.DTD(root='/home/gridsan/ckoevesdi/data/dtd_torch/', split='train', \n",
    "                                             partition=10, \n",
    "                                       transform=loading_transforms, target_transform=None,\n",
    "                                       download=False) #ah das datenset muss so aussehen wie es auf der website auch ist, deswegen kann man auch download false machen\n",
    "# Define the batch size (Change this based on your requirements)\n",
    "batch_size = 1\n",
    "\n",
    "# Create a DataLoader\n",
    "classification_dataloaderHB = DataLoader(\n",
    "    class_dtd_datasetHB,\n",
    "    batch_size=batch_size,\n",
    "    shuffle=False\n",
    ")\n"
   ]
  },
  {
   "cell_type": "code",
   "execution_count": 62,
   "id": "00fc2df0-7964-4504-b42a-9d5f018c2a8e",
   "metadata": {},
   "outputs": [],
   "source": [
    "all_statisticsHB = []\n",
    "\n",
    "for j, (texture_batch, labels) in enumerate(classification_dataloaderHB):\n",
    "    # Assuming texture_batch has a shape of [20, 5, 1, 128, 128]\n",
    "    #print(texture_batch.shape)\n",
    "    output = texture_batch.to(device)\n",
    "    output = torch.stack([output, output]).squeeze(1)\n",
    "    #print(output.shape)\n",
    "    #print(labels)\n",
    "    statisticsHB = brucy(output)  # This should output a tensor of shape [2, 150]\n",
    "    statisticsHB = statisticsHB[0,:]\n",
    "    #print(statistics[0,:])\n",
    "    # You can now store these statistics, along with the label and original image index\n",
    "    all_statisticsHB.append({\n",
    "        'statistics': statistics.cpu().numpy(),\n",
    "        #'label': labels[i].item(),\n",
    "        'original_image_index': labels.cpu().numpy()\n",
    "    })"
   ]
  },
  {
   "cell_type": "code",
   "execution_count": 63,
   "id": "af9f7f83-6cb7-4bfe-b7e3-6bbbbf80efe2",
   "metadata": {},
   "outputs": [
    {
     "name": "stdout",
     "output_type": "stream",
     "text": [
      "(4183, 152)\n"
     ]
    }
   ],
   "source": [
    "statistics_arrayHB = np.array([item['statistics'] for item in all_statisticsHB])\n",
    "print(statistics_arrayHB.shape)"
   ]
  },
  {
   "cell_type": "code",
   "execution_count": 64,
   "id": "eb5b0813-b1a6-4056-9061-37ebdb7294ae",
   "metadata": {},
   "outputs": [],
   "source": [
    "relative_errors = np.mean(np.abs(statistics_arrayOT - statistics_arrayHB) / (np.abs(statistics_arrayOT) + 1e-10), axis=0)"
   ]
  },
  {
   "cell_type": "code",
   "execution_count": 65,
   "id": "f8656183-3d0b-44c1-a97c-37b26f60ba20",
   "metadata": {},
   "outputs": [
    {
     "name": "stdout",
     "output_type": "stream",
     "text": [
      "Ranked feature indices from best to worst:\n",
      "[ 64  72  42  54  46  76  50  68  86  92  20  28  24  32  95  89  40  62\n",
      "  59  57  49  38  36  35  27  41  39  60  33  25  58  81 106 104  34  37\n",
      " 109  63 107  26  21  61  29  22 120  30  43  55 118  84  88 123   4  51\n",
      "  47 121  85  82  52  71  80  83  79  31  44  56   0  23  73  48 137  65\n",
      " 135  45 132  53 134  77  99  74  69 102  66 101  78 103  93  70  98 100\n",
      " 149 151  87 146 148  75  90  96 128  67 147  91  97 142   1   5   8  11\n",
      "  14  94  17 143 141 131 127 115 124 113 125 117 138 111 129 139 133   2\n",
      " 145   6   9 130  12 144 136 108  15 122  18   3   7  10 119 150  13 116\n",
      "  16  19 126 140 110 112 105 114]\n"
     ]
    }
   ],
   "source": [
    "# Get the indices that would sort the array\n",
    "sorted_indices = np.argsort(relative_errors)\n",
    "# Assuming you have arrays relative_errors and sorted_indices\n",
    "np.save('relative_errors.npy', relative_errors)\n",
    "np.save('sorted_indices.npy', sorted_indices)\n",
    "# Print the ranked feature indices\n",
    "print(\"Ranked feature indices from best to worst:\")\n",
    "print(sorted_indices)"
   ]
  },
  {
   "cell_type": "code",
   "execution_count": 66,
   "id": "89b822e0-4535-45e6-ae15-47de2b06fab5",
   "metadata": {},
   "outputs": [
    {
     "name": "stdout",
     "output_type": "stream",
     "text": [
      "Ranked features from best to worst:\n",
      "Rank 2:  edge_mean L3 Ori0, Relative Error: 0.4114\n",
      "Rank 3:  edge_mean L3 Ori2, Relative Error: 0.4330\n",
      "Rank 4:  edge_mean L2 Ori0, Relative Error: 0.4447\n",
      "Rank 5:  edge_mean L2 Ori3, Relative Error: 0.4565\n",
      "Rank 6:  edge_mean L2 Ori1, Relative Error: 0.4630\n",
      "Rank 7:  edge_mean L3 Ori3, Relative Error: 0.4655\n",
      "Rank 8:  edge_mean L2 Ori2, Relative Error: 0.4663\n",
      "Rank 9:  edge_mean L3 Ori1, Relative Error: 0.4857\n",
      "Rank 10:  edge_mean L4 Ori0, Relative Error: 0.4884\n",
      "Rank 11:  edge_mean L4 Ori2, Relative Error: 0.4993\n",
      "Rank 12:  edge_mean L1 Ori0, Relative Error: 0.5319\n",
      "Rank 13:  edge_mean L1 Ori2, Relative Error: 0.5388\n",
      "Rank 14:  edge_mean L1 Ori1, Relative Error: 0.5428\n",
      "Rank 15:  edge_mean L1 Ori3, Relative Error: 0.5468\n",
      "Rank 16:  edge_mean L4 Ori3, Relative Error: 0.6620\n",
      "Rank 17:  edge_mean L4 Ori1, Relative Error: 0.6640\n",
      "Rank 18:  edge_correlation L1 Ori1_3, Relative Error: 0.7276\n",
      "Rank 19:  edge_correlation L2 Ori1_3, Relative Error: 0.7289\n",
      "Rank 20:  edge_correlation L2 Ori0_2, Relative Error: 0.7346\n",
      "Rank 21:  edge_stop L2 Ori3, Relative Error: 0.7387\n",
      "Rank 22:  edge_stop L2 Ori1, Relative Error: 0.7404\n",
      "Rank 23:  edge_correlation L1 Ori0_3, Relative Error: 0.7408\n",
      "Rank 24:  edge_correlation L1 Ori0_1, Relative Error: 0.7415\n",
      "Rank 25:  edge_stop L1 Ori3, Relative Error: 0.7497\n",
      "Rank 26:  edge_stop L1 Ori1, Relative Error: 0.7511\n",
      "Rank 27:  edge_correlation L1 Ori2_3, Relative Error: 0.7541\n",
      "Rank 28:  edge_correlation L1 Ori1_2, Relative Error: 0.7576\n",
      "Rank 29:  edge_correlation L2 Ori0_3, Relative Error: 0.7625\n",
      "Rank 30:  edge_variance L1 Ori3, Relative Error: 0.7648\n",
      "Rank 31:  edge_variance L1 Ori1, Relative Error: 0.7732\n",
      "Rank 32:  edge_correlation L2 Ori0_1, Relative Error: 0.7749\n",
      "Rank 33:  edge_correlation L3 Ori0_2, Relative Error: 0.7775\n",
      "Rank 34:  phase_correlation L1 Ori0_3 er, Relative Error: 0.7803\n",
      "Rank 35:  phase_correlation L1 Ori0_1 er, Relative Error: 0.7823\n",
      "Rank 36:  edge_correlation L1_2 Ori3, Relative Error: 0.7835\n",
      "Rank 37:  edge_correlation L1 Ori0_2, Relative Error: 0.7903\n",
      "Rank 38:  phase_correlation L1 Ori2_3 er, Relative Error: 0.7958\n",
      "Rank 39:  edge_correlation L2 Ori2_3, Relative Error: 0.8048\n",
      "Rank 40:  phase_correlation L1 Ori1_2 er, Relative Error: 0.8059\n",
      "Rank 41:  edge_correlation L1_2 Ori1, Relative Error: 0.8117\n",
      "Rank 42:  edge_variance L1 Ori0, Relative Error: 0.8202\n",
      "Rank 43:  edge_correlation L2 Ori1_2, Relative Error: 0.8251\n",
      "Rank 44:  edge_variance L1 Ori2, Relative Error: 0.8273\n",
      "Rank 45:  edge_correlation L1_2 Ori0, Relative Error: 0.8443\n",
      "Rank 46:  phase_correlation L2 Ori0_3 er, Relative Error: 0.8560\n",
      "Rank 47:  edge_correlation L1_2 Ori2, Relative Error: 0.8619\n",
      "Rank 48:  edge_variance L2 Ori0, Relative Error: 0.8739\n",
      "Rank 49:  edge_variance L2 Ori3, Relative Error: 0.8819\n",
      "Rank 50:  phase_correlation L2 Ori0_1 er, Relative Error: 0.8821\n",
      "Rank 51:  edge_correlation L3 Ori1_3, Relative Error: 0.8896\n",
      "Rank 52:  edge_stop L4 Ori0, Relative Error: 0.8925\n",
      "Rank 53:  phase_correlation L2 Ori2_3 er, Relative Error: 0.9062\n",
      "Rank 54:  bandpass_variance L0, Relative Error: 0.9077\n",
      "Rank 55:  edge_variance L2 Ori2, Relative Error: 0.9137\n",
      "Rank 56:  edge_variance L2 Ori1, Relative Error: 0.9355\n",
      "Rank 57:  phase_correlation L2 Ori1_2 er, Relative Error: 0.9382\n",
      "Rank 58:  edge_correlation L3 Ori2_3, Relative Error: 0.9693\n",
      "Rank 59:  edge_correlation L3 Ori0_3, Relative Error: 0.9859\n",
      "Rank 60:  edge_correlation L2_3 Ori2, Relative Error: 0.9923\n",
      "Rank 61:  edge_stop L3 Ori1, Relative Error: 0.9975\n",
      "Rank 62:  edge_correlation L3 Ori0_1, Relative Error: 1.0058\n",
      "Rank 63:  edge_correlation L3 Ori1_2, Relative Error: 1.0068\n",
      "Rank 64:  edge_stop L3 Ori3, Relative Error: 1.0118\n",
      "Rank 65:  edge_stop L1 Ori2, Relative Error: 1.0139\n",
      "Rank 66:  edge_correlation L2_3 Ori0, Relative Error: 1.0192\n",
      "Rank 67:  edge_correlation L2_3 Ori3, Relative Error: 1.0299\n",
      "Rank 68:  mean Base, Relative Error: 1.0351\n",
      "Rank 69:  edge_stop L1 Ori0, Relative Error: 1.0623\n",
      "Rank 70:  edge_variance L3 Ori2, Relative Error: 1.0672\n",
      "Rank 71:  edge_correlation L2_3 Ori1, Relative Error: 1.1072\n",
      "Rank 72:  phase_correlation L3 Ori2_3 er, Relative Error: 1.1145\n",
      "Rank 73:  edge_variance L3 Ori0, Relative Error: 1.1526\n",
      "Rank 74:  phase_correlation L3 Ori1_2 er, Relative Error: 1.1744\n",
      "Rank 75:  edge_stop L2 Ori0, Relative Error: 1.1925\n",
      "Rank 76:  phase_correlation L3 Ori0_1 er, Relative Error: 1.1941\n",
      "Rank 77:  edge_stop L2 Ori2, Relative Error: 1.1976\n",
      "Rank 78:  phase_correlation L3 Ori0_3 er, Relative Error: 1.2051\n",
      "Rank 79:  edge_variance L3 Ori3, Relative Error: 1.2525\n",
      "Rank 80:  edge_correlation L4 Ori0_2, Relative Error: 1.2657\n",
      "Rank 81:  edge_correlation L3_4 Ori2, Relative Error: 1.2890\n",
      "Rank 82:  edge_variance L3 Ori1, Relative Error: 1.3368\n",
      "Rank 83:  edge_correlation L4 Ori1_3, Relative Error: 1.4302\n",
      "Rank 84:  edge_correlation L3_4 Ori0, Relative Error: 1.4788\n",
      "Rank 85:  edge_correlation L4 Ori1_2, Relative Error: 1.5375\n",
      "Rank 86:  edge_correlation L3_4 Ori3, Relative Error: 1.5412\n",
      "Rank 87:  edge_correlation L4 Ori2_3, Relative Error: 1.5465\n",
      "Rank 88:  edge_variance L4 Ori2, Relative Error: 1.5468\n",
      "Rank 89:  edge_correlation L3_4 Ori1, Relative Error: 1.5758\n",
      "Rank 90:  edge_correlation L4 Ori0_1, Relative Error: 1.5956\n",
      "Rank 91:  edge_correlation L4 Ori0_3, Relative Error: 1.6405\n",
      "Rank 92:  phase_correlation L4 Ori1_2 er, Relative Error: 1.7005\n",
      "Rank 93:  phase_correlation L4 Ori2_3 er, Relative Error: 1.7020\n",
      "Rank 94:  edge_variance L4 Ori0, Relative Error: 1.8015\n",
      "Rank 95:  phase_correlation L4 Ori0_1 er, Relative Error: 1.8556\n",
      "Rank 96:  phase_correlation L4 Ori0_3 er, Relative Error: 1.9303\n",
      "Rank 97:  edge_stop L3 Ori2, Relative Error: 1.9948\n",
      "Rank 98:  edge_variance L4 Ori1, Relative Error: 2.0900\n",
      "Rank 99:  edge_variance L4 Ori3, Relative Error: 2.1488\n",
      "Rank 100:  phase_correlation L2_3 Ori2 ei*di, Relative Error: 2.4011\n",
      "Rank 101:  edge_stop L3 Ori0, Relative Error: 2.4042\n",
      "Rank 102:  phase_correlation L4 Ori0_2 er, Relative Error: 2.6071\n",
      "Rank 103:  edge_stop L4 Ori1, Relative Error: 2.6934\n",
      "Rank 104:  edge_stop L4 Ori3, Relative Error: 3.0997\n",
      "Rank 105:  phase_correlation L3_4 Ori2 ei*di, Relative Error: 3.1661\n",
      "Rank 106:  variance Base, Relative Error: 3.4551\n",
      "Rank 107:  variance L1, Relative Error: 3.5158\n",
      "Rank 108:  variance L2, Relative Error: 3.6809\n",
      "Rank 109:  variance L3, Relative Error: 3.9110\n",
      "Rank 110:  variance L4, Relative Error: 4.2192\n",
      "Rank 111:  edge_stop L4 Ori2, Relative Error: 4.2301\n",
      "Rank 112:  variance L5, Relative Error: 4.6189\n",
      "Rank 113:  phase_correlation L3_4 Ori2 er*di, Relative Error: 4.8270\n",
      "Rank 114:  phase_correlation L3_4 Ori1 er*di, Relative Error: 5.2659\n",
      "Rank 115:  phase_correlation L2_3 Ori3 er*di, Relative Error: 5.6519\n",
      "Rank 116:  phase_correlation L2_3 Ori1 er*di, Relative Error: 5.8709\n",
      "Rank 117:  phase_correlation L1_2 Ori2 er*di, Relative Error: 6.1260\n",
      "Rank 118:  phase_correlation L2_3 Ori0 ei*di, Relative Error: 6.2511\n",
      "Rank 119:  phase_correlation L1_2 Ori1 er*di, Relative Error: 6.4058\n",
      "Rank 120:  phase_correlation L2_3 Ori0 er*di, Relative Error: 6.8069\n",
      "Rank 121:  phase_correlation L1_2 Ori3 er*di, Relative Error: 6.8876\n",
      "Rank 122:  phase_correlation L3_4 Ori0 ei*di, Relative Error: 7.0908\n",
      "Rank 123:  phase_correlation L1_2 Ori0 er*di, Relative Error: 8.3062\n",
      "Rank 124:  phase_correlation L2_3 Ori2 er*di, Relative Error: 8.5101\n",
      "Rank 125:  phase_correlation L3_4 Ori0 er*di, Relative Error: 8.9831\n",
      "Rank 126:  phase_correlation L3 Ori0_2 er, Relative Error: 9.8839\n",
      "Rank 127:  skew Base, Relative Error: 11.7505\n",
      "Rank 128:  phase_correlation L3_4 Ori3 er*di, Relative Error: 11.8984\n",
      "Rank 129:  skew L1, Relative Error: 12.5065\n",
      "Rank 130:  skew L2, Relative Error: 15.1058\n",
      "Rank 131:  phase_correlation L2_3 Ori3 ei*di, Relative Error: 16.0234\n",
      "Rank 132:  skew L3, Relative Error: 19.0678\n",
      "Rank 133:  phase_correlation L3_4 Ori3 ei*di, Relative Error: 19.3182\n",
      "Rank 134:  phase_correlation L3 Ori1_3 er, Relative Error: 22.0952\n",
      "Rank 135:  phase_correlation L1 Ori1_3 er, Relative Error: 22.2678\n",
      "Rank 136:  skew L4, Relative Error: 24.4932\n",
      "Rank 137:  phase_correlation L2 Ori1_3 er, Relative Error: 28.6704\n",
      "Rank 138:  skew L5, Relative Error: 31.9094\n",
      "Rank 139:  kurtosis Base, Relative Error: 45.7046\n",
      "Rank 140:  kurtosis L1, Relative Error: 52.9977\n",
      "Rank 141:  kurtosis L2, Relative Error: 87.9763\n",
      "Rank 142:  phase_correlation L2 Ori0_2 er, Relative Error: 103.4094\n",
      "Rank 143:  phase_correlation L4 Ori1_3 er, Relative Error: 111.8186\n",
      "Rank 144:  kurtosis L3, Relative Error: 161.0505\n",
      "Rank 145:  phase_correlation L1_2 Ori3 ei*di, Relative Error: 224.5273\n",
      "Rank 146:  kurtosis L4, Relative Error: 278.7231\n",
      "Rank 147:  kurtosis L5, Relative Error: 464.7983\n",
      "Rank 148:  phase_correlation L2_3 Ori1 ei*di, Relative Error: 902.8857\n",
      "Rank 149:  phase_correlation L3_4 Ori1 ei*di, Relative Error: 3038.6445\n",
      "Rank 150:  phase_correlation L1_2 Ori0 ei*di, Relative Error: 8349.8877\n",
      "Rank 151:  phase_correlation L1_2 Ori1 ei*di, Relative Error: 12432.9775\n",
      "Rank 152:  phase_correlation L1 Ori0_2 er, Relative Error: 13245.4980\n",
      "Rank 153:  phase_correlation L1_2 Ori2 ei*di, Relative Error: 24647.9688\n"
     ]
    }
   ],
   "source": [
    "print(\"Ranked features from best to worst:\")\n",
    "i = 1\n",
    "for idx in sorted_indices:\n",
    "    i = i + 1\n",
    "    print(f\"Rank {i}: {ostat_labels[idx]}, Relative Error: {relative_errors[idx]:.4f}\")"
   ]
  },
  {
   "cell_type": "code",
   "execution_count": 20,
   "id": "baa1fcc5-f629-4f3f-b226-07308a7565bb",
   "metadata": {},
   "outputs": [
    {
     "name": "stdout",
     "output_type": "stream",
     "text": [
      "1.0000000001\n"
     ]
    }
   ],
   "source": [
    "print(1e-10+1)"
   ]
  },
  {
   "cell_type": "code",
   "execution_count": null,
   "id": "2c065e4b-66a3-408b-b9d0-de7e32e50a9f",
   "metadata": {},
   "outputs": [],
   "source": []
  }
 ],
 "metadata": {
  "kernelspec": {
   "display_name": "Python 3 (ipykernel)",
   "language": "python",
   "name": "python3"
  },
  "language_info": {
   "codemirror_mode": {
    "name": "ipython",
    "version": 3
   },
   "file_extension": ".py",
   "mimetype": "text/x-python",
   "name": "python",
   "nbconvert_exporter": "python",
   "pygments_lexer": "ipython3",
   "version": "3.8.13"
  }
 },
 "nbformat": 4,
 "nbformat_minor": 5
}
